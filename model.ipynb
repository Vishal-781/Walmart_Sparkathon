{
 "cells": [
  {
   "cell_type": "code",
   "execution_count": 61,
   "metadata": {},
   "outputs": [],
   "source": [
    "import pandas as pd;\n",
    "import numpy as np;\n",
    "import sklearn\n",
    "from sklearn.impute import SimpleImputer\n",
    "import matplotlib.pyplot as plt\n",
    "import seaborn as sns \n",
    "from datetime import datetime"
   ]
  },
  {
   "cell_type": "code",
   "execution_count": 62,
   "metadata": {},
   "outputs": [
    {
     "data": {
      "text/html": [
       "<div>\n",
       "<style scoped>\n",
       "    .dataframe tbody tr th:only-of-type {\n",
       "        vertical-align: middle;\n",
       "    }\n",
       "\n",
       "    .dataframe tbody tr th {\n",
       "        vertical-align: top;\n",
       "    }\n",
       "\n",
       "    .dataframe thead th {\n",
       "        text-align: right;\n",
       "    }\n",
       "</style>\n",
       "<table border=\"1\" class=\"dataframe\">\n",
       "  <thead>\n",
       "    <tr style=\"text-align: right;\">\n",
       "      <th></th>\n",
       "      <th>Store</th>\n",
       "      <th>Date</th>\n",
       "      <th>Weekly_Sales</th>\n",
       "      <th>Holiday_Flag</th>\n",
       "      <th>Temperature</th>\n",
       "      <th>Fuel_Price</th>\n",
       "      <th>CPI</th>\n",
       "      <th>Unemployment</th>\n",
       "    </tr>\n",
       "  </thead>\n",
       "  <tbody>\n",
       "    <tr>\n",
       "      <th>0</th>\n",
       "      <td>1</td>\n",
       "      <td>05-02-2010</td>\n",
       "      <td>1643690.90</td>\n",
       "      <td>0</td>\n",
       "      <td>42.31</td>\n",
       "      <td>2.572</td>\n",
       "      <td>211.096358</td>\n",
       "      <td>8.106</td>\n",
       "    </tr>\n",
       "    <tr>\n",
       "      <th>1</th>\n",
       "      <td>1</td>\n",
       "      <td>12-02-2010</td>\n",
       "      <td>1641957.44</td>\n",
       "      <td>1</td>\n",
       "      <td>38.51</td>\n",
       "      <td>2.548</td>\n",
       "      <td>211.242170</td>\n",
       "      <td>8.106</td>\n",
       "    </tr>\n",
       "    <tr>\n",
       "      <th>2</th>\n",
       "      <td>1</td>\n",
       "      <td>19-02-2010</td>\n",
       "      <td>1611968.17</td>\n",
       "      <td>0</td>\n",
       "      <td>39.93</td>\n",
       "      <td>2.514</td>\n",
       "      <td>211.289143</td>\n",
       "      <td>8.106</td>\n",
       "    </tr>\n",
       "    <tr>\n",
       "      <th>3</th>\n",
       "      <td>1</td>\n",
       "      <td>26-02-2010</td>\n",
       "      <td>1409727.59</td>\n",
       "      <td>0</td>\n",
       "      <td>46.63</td>\n",
       "      <td>2.561</td>\n",
       "      <td>211.319643</td>\n",
       "      <td>8.106</td>\n",
       "    </tr>\n",
       "    <tr>\n",
       "      <th>4</th>\n",
       "      <td>1</td>\n",
       "      <td>05-03-2010</td>\n",
       "      <td>1554806.68</td>\n",
       "      <td>0</td>\n",
       "      <td>46.50</td>\n",
       "      <td>2.625</td>\n",
       "      <td>211.350143</td>\n",
       "      <td>8.106</td>\n",
       "    </tr>\n",
       "    <tr>\n",
       "      <th>5</th>\n",
       "      <td>1</td>\n",
       "      <td>12-03-2010</td>\n",
       "      <td>1439541.59</td>\n",
       "      <td>0</td>\n",
       "      <td>57.79</td>\n",
       "      <td>2.667</td>\n",
       "      <td>211.380643</td>\n",
       "      <td>8.106</td>\n",
       "    </tr>\n",
       "    <tr>\n",
       "      <th>6</th>\n",
       "      <td>1</td>\n",
       "      <td>19-03-2010</td>\n",
       "      <td>1472515.79</td>\n",
       "      <td>0</td>\n",
       "      <td>54.58</td>\n",
       "      <td>2.720</td>\n",
       "      <td>211.215635</td>\n",
       "      <td>8.106</td>\n",
       "    </tr>\n",
       "    <tr>\n",
       "      <th>7</th>\n",
       "      <td>1</td>\n",
       "      <td>26-03-2010</td>\n",
       "      <td>1404429.92</td>\n",
       "      <td>0</td>\n",
       "      <td>51.45</td>\n",
       "      <td>2.732</td>\n",
       "      <td>211.018042</td>\n",
       "      <td>8.106</td>\n",
       "    </tr>\n",
       "    <tr>\n",
       "      <th>8</th>\n",
       "      <td>1</td>\n",
       "      <td>02-04-2010</td>\n",
       "      <td>1594968.28</td>\n",
       "      <td>0</td>\n",
       "      <td>62.27</td>\n",
       "      <td>2.719</td>\n",
       "      <td>210.820450</td>\n",
       "      <td>7.808</td>\n",
       "    </tr>\n",
       "    <tr>\n",
       "      <th>9</th>\n",
       "      <td>1</td>\n",
       "      <td>09-04-2010</td>\n",
       "      <td>1545418.53</td>\n",
       "      <td>0</td>\n",
       "      <td>65.86</td>\n",
       "      <td>2.770</td>\n",
       "      <td>210.622857</td>\n",
       "      <td>7.808</td>\n",
       "    </tr>\n",
       "  </tbody>\n",
       "</table>\n",
       "</div>"
      ],
      "text/plain": [
       "   Store        Date  Weekly_Sales  Holiday_Flag  Temperature  Fuel_Price  \\\n",
       "0      1  05-02-2010    1643690.90             0        42.31       2.572   \n",
       "1      1  12-02-2010    1641957.44             1        38.51       2.548   \n",
       "2      1  19-02-2010    1611968.17             0        39.93       2.514   \n",
       "3      1  26-02-2010    1409727.59             0        46.63       2.561   \n",
       "4      1  05-03-2010    1554806.68             0        46.50       2.625   \n",
       "5      1  12-03-2010    1439541.59             0        57.79       2.667   \n",
       "6      1  19-03-2010    1472515.79             0        54.58       2.720   \n",
       "7      1  26-03-2010    1404429.92             0        51.45       2.732   \n",
       "8      1  02-04-2010    1594968.28             0        62.27       2.719   \n",
       "9      1  09-04-2010    1545418.53             0        65.86       2.770   \n",
       "\n",
       "          CPI  Unemployment  \n",
       "0  211.096358         8.106  \n",
       "1  211.242170         8.106  \n",
       "2  211.289143         8.106  \n",
       "3  211.319643         8.106  \n",
       "4  211.350143         8.106  \n",
       "5  211.380643         8.106  \n",
       "6  211.215635         8.106  \n",
       "7  211.018042         8.106  \n",
       "8  210.820450         7.808  \n",
       "9  210.622857         7.808  "
      ]
     },
     "execution_count": 62,
     "metadata": {},
     "output_type": "execute_result"
    }
   ],
   "source": [
    "train_df = pd.read_csv(\"datasets/Walmart.csv\")\n",
    "train_df.head(10)\n"
   ]
  },
  {
   "cell_type": "code",
   "execution_count": 63,
   "metadata": {},
   "outputs": [
    {
     "data": {
      "text/plain": [
       "Index(['Store', 'Date', 'Weekly_Sales', 'Holiday_Flag', 'Temperature',\n",
       "       'Fuel_Price', 'CPI', 'Unemployment'],\n",
       "      dtype='object')"
      ]
     },
     "execution_count": 63,
     "metadata": {},
     "output_type": "execute_result"
    }
   ],
   "source": [
    "train_df.keys()"
   ]
  },
  {
   "cell_type": "code",
   "execution_count": 64,
   "metadata": {},
   "outputs": [
    {
     "name": "stdout",
     "output_type": "stream",
     "text": [
      "<class 'pandas.core.frame.DataFrame'>\n",
      "RangeIndex: 6429 entries, 0 to 6428\n",
      "Data columns (total 8 columns):\n",
      " #   Column        Non-Null Count  Dtype  \n",
      "---  ------        --------------  -----  \n",
      " 0   Store         6429 non-null   int64  \n",
      " 1   Date          6429 non-null   object \n",
      " 2   Weekly_Sales  6429 non-null   float64\n",
      " 3   Holiday_Flag  6429 non-null   int64  \n",
      " 4   Temperature   6429 non-null   float64\n",
      " 5   Fuel_Price    6429 non-null   float64\n",
      " 6   CPI           6429 non-null   float64\n",
      " 7   Unemployment  6429 non-null   float64\n",
      "dtypes: float64(5), int64(2), object(1)\n",
      "memory usage: 401.9+ KB\n"
     ]
    }
   ],
   "source": [
    "train_df.info()"
   ]
  },
  {
   "cell_type": "code",
   "execution_count": 65,
   "metadata": {},
   "outputs": [
    {
     "data": {
      "text/html": [
       "<div>\n",
       "<style scoped>\n",
       "    .dataframe tbody tr th:only-of-type {\n",
       "        vertical-align: middle;\n",
       "    }\n",
       "\n",
       "    .dataframe tbody tr th {\n",
       "        vertical-align: top;\n",
       "    }\n",
       "\n",
       "    .dataframe thead th {\n",
       "        text-align: right;\n",
       "    }\n",
       "</style>\n",
       "<table border=\"1\" class=\"dataframe\">\n",
       "  <thead>\n",
       "    <tr style=\"text-align: right;\">\n",
       "      <th></th>\n",
       "      <th>count</th>\n",
       "      <th>mean</th>\n",
       "      <th>std</th>\n",
       "      <th>min</th>\n",
       "      <th>25%</th>\n",
       "      <th>50%</th>\n",
       "      <th>75%</th>\n",
       "      <th>max</th>\n",
       "    </tr>\n",
       "  </thead>\n",
       "  <tbody>\n",
       "    <tr>\n",
       "      <th>Store</th>\n",
       "      <td>6429.0</td>\n",
       "      <td>2.299347e+01</td>\n",
       "      <td>12.977361</td>\n",
       "      <td>1.000</td>\n",
       "      <td>12.000</td>\n",
       "      <td>23.000000</td>\n",
       "      <td>3.400000e+01</td>\n",
       "      <td>4.500000e+01</td>\n",
       "    </tr>\n",
       "    <tr>\n",
       "      <th>Weekly_Sales</th>\n",
       "      <td>6429.0</td>\n",
       "      <td>1.047142e+06</td>\n",
       "      <td>564405.549028</td>\n",
       "      <td>209986.250</td>\n",
       "      <td>553714.870</td>\n",
       "      <td>960945.430000</td>\n",
       "      <td>1.419912e+06</td>\n",
       "      <td>3.818686e+06</td>\n",
       "    </tr>\n",
       "    <tr>\n",
       "      <th>Holiday_Flag</th>\n",
       "      <td>6429.0</td>\n",
       "      <td>6.999533e-02</td>\n",
       "      <td>0.255159</td>\n",
       "      <td>0.000</td>\n",
       "      <td>0.000</td>\n",
       "      <td>0.000000</td>\n",
       "      <td>0.000000e+00</td>\n",
       "      <td>1.000000e+00</td>\n",
       "    </tr>\n",
       "    <tr>\n",
       "      <th>Temperature</th>\n",
       "      <td>6429.0</td>\n",
       "      <td>6.066446e+01</td>\n",
       "      <td>18.452479</td>\n",
       "      <td>-2.060</td>\n",
       "      <td>47.420</td>\n",
       "      <td>62.680000</td>\n",
       "      <td>7.495000e+01</td>\n",
       "      <td>1.001400e+02</td>\n",
       "    </tr>\n",
       "    <tr>\n",
       "      <th>Fuel_Price</th>\n",
       "      <td>6429.0</td>\n",
       "      <td>3.358237e+00</td>\n",
       "      <td>0.459048</td>\n",
       "      <td>2.472</td>\n",
       "      <td>2.932</td>\n",
       "      <td>3.445000</td>\n",
       "      <td>3.735000e+00</td>\n",
       "      <td>4.468000e+00</td>\n",
       "    </tr>\n",
       "    <tr>\n",
       "      <th>CPI</th>\n",
       "      <td>6429.0</td>\n",
       "      <td>1.715684e+02</td>\n",
       "      <td>39.356282</td>\n",
       "      <td>126.064</td>\n",
       "      <td>131.735</td>\n",
       "      <td>182.616521</td>\n",
       "      <td>2.127397e+02</td>\n",
       "      <td>2.272328e+02</td>\n",
       "    </tr>\n",
       "    <tr>\n",
       "      <th>Unemployment</th>\n",
       "      <td>6429.0</td>\n",
       "      <td>8.000252e+00</td>\n",
       "      <td>1.875912</td>\n",
       "      <td>3.879</td>\n",
       "      <td>6.891</td>\n",
       "      <td>7.874000</td>\n",
       "      <td>8.622000e+00</td>\n",
       "      <td>1.431300e+01</td>\n",
       "    </tr>\n",
       "  </tbody>\n",
       "</table>\n",
       "</div>"
      ],
      "text/plain": [
       "               count          mean            std         min         25%  \\\n",
       "Store         6429.0  2.299347e+01      12.977361       1.000      12.000   \n",
       "Weekly_Sales  6429.0  1.047142e+06  564405.549028  209986.250  553714.870   \n",
       "Holiday_Flag  6429.0  6.999533e-02       0.255159       0.000       0.000   \n",
       "Temperature   6429.0  6.066446e+01      18.452479      -2.060      47.420   \n",
       "Fuel_Price    6429.0  3.358237e+00       0.459048       2.472       2.932   \n",
       "CPI           6429.0  1.715684e+02      39.356282     126.064     131.735   \n",
       "Unemployment  6429.0  8.000252e+00       1.875912       3.879       6.891   \n",
       "\n",
       "                        50%           75%           max  \n",
       "Store             23.000000  3.400000e+01  4.500000e+01  \n",
       "Weekly_Sales  960945.430000  1.419912e+06  3.818686e+06  \n",
       "Holiday_Flag       0.000000  0.000000e+00  1.000000e+00  \n",
       "Temperature       62.680000  7.495000e+01  1.001400e+02  \n",
       "Fuel_Price         3.445000  3.735000e+00  4.468000e+00  \n",
       "CPI              182.616521  2.127397e+02  2.272328e+02  \n",
       "Unemployment       7.874000  8.622000e+00  1.431300e+01  "
      ]
     },
     "execution_count": 65,
     "metadata": {},
     "output_type": "execute_result"
    }
   ],
   "source": [
    "train_df.describe().T\n"
   ]
  },
  {
   "cell_type": "code",
   "execution_count": 66,
   "metadata": {},
   "outputs": [
    {
     "name": "stdout",
     "output_type": "stream",
     "text": [
      "Store           0\n",
      "Date            0\n",
      "Weekly_Sales    0\n",
      "Holiday_Flag    0\n",
      "Temperature     0\n",
      "Fuel_Price      0\n",
      "CPI             0\n",
      "Unemployment    0\n",
      "dtype: int64\n"
     ]
    }
   ],
   "source": [
    "# Check for missing stuff\n",
    "df = train_df\n",
    "print(df.isnull().sum())\n",
    "\n",
    "imputer = SimpleImputer(strategy=\"median\")"
   ]
  },
  {
   "cell_type": "code",
   "execution_count": 67,
   "metadata": {},
   "outputs": [
    {
     "data": {
      "image/png": "[encoded data removed]",
      "text/plain": [
       "<Figure size 640x480 with 1 Axes>"
      ]
     },
     "metadata": {},
     "output_type": "display_data"
    }
   ],
   "source": []
  },
  {
   "cell_type": "code",
   "execution_count": 69,
   "metadata": {},
   "outputs": [],
   "source": [
    "# DATES FEATURES\n",
    "dataset = train_df;\n",
    "def date_features(df):\n",
    "    # Date Features\n",
    "    date = [str(x).strip().split('-') for x in dataset['Date']]\n",
    "    df['Date'] = pd.to_datetime(dataset['Date'], format=\"%d-%m-%Y\")\n",
    "    df['year'] = [float(x[2]) for x in date]\n",
    "    df['month'] = [float(x[1]) for x in date]\n",
    "    df['day'] = [float(x[0]) for x in date]\n",
    "    print(date)\n",
    "    \n",
    "    # Additionnal Data Features\n",
    "    # df['day^year'] = np.log((np.log(dataset['dayofyear'] + 1)) ** (dataset['year'] - 2000))\n",
    "    \n",
    " \n",
    "    \n",
    "    return df"
   ]
  },
  {
   "cell_type": "code",
   "execution_count": 70,
   "metadata": {},
   "outputs": [
    {
     "name": "stdout",
     "output_type": "stream",
     "text": [
      "[['05', '02', '2010'], ['12', '02', '2010'], ['19', '02', '2010'], ['26', '02', '2010'], ['05', '03', '2010'], ['12', '03', '2010'], ['19', '03', '2010'], ['26', '03', '2010'], ['02', '04', '2010'], ['09', '04', '2010'], ['16', '04', '2010'], ['23', '04', '2010'], ['30', '04', '2010'], ['07', '05', '2010'], ['14', '05', '2010'], ['21', '05', '2010'], ['28', '05', '2010'], ['04', '06', '2010'], ['11', '06', '2010'], ['18', '06', '2010'], ['25', '06', '2010'], ['02', '07', '2010'], ['09', '07', '2010'], ['16', '07', '2010'], ['23', '07', '2010'], ['30', '07', '2010'], ['06', '08', '2010'], ['13', '08', '2010'], ['20', '08', '2010'], ['27', '08', '2010'], ['03', '09', '2010'], ['10', '09', '2010'], ['17', '09', '2010'], ['24', '09', '2010'], ['01', '10', '2010'], ['08', '10', '2010'], ['15', '10', '2010'], ['22', '10', '2010'], ['29', '10', '2010'], ['05', '11', '2010'], ['12', '11', '2010'], ['19', '11', '2010'], ['26', '11', '2010'], ['03', '12', '2010'], ['10', '12', '2010'], ['17', '12', '2010'], ['24', '12', '2010'], ['31', '12', '2010'], ['07', '01', '2011'], ['14', '01', '2011'], ['21', '01', '2011'], ['28', '01', '2011'], ['04', '02', '2011'], ['11', '02', '2011'], ['18', '02', '2011'], ['25', '02', '2011'], ['04', '03', '2011'], ['11', '03', '2011'], ['18', '03', '2011'], ['25', '03', '2011'], ['01', '04', '2011'], ['08', '04', '2011'], ['15', '04', '2011'], ['22', '04', '2011'], ['29', '04', '2011'], ['06', '05', '2011'], ['13', '05', '2011'], ['20', '05', '2011'], ['27', '05', '2011'], ['03', '06', '2011'], ['10', '06', '2011'], ['17', '06', '2011'], ['24', '06', '2011'], ['01', '07', '2011'], ['08', '07', '2011'], ['15', '07', '2011'], ['22', '07', '2011'], ['29', '07', '2011'], ['05', '08', '2011'], ['12', '08', '2011'], ['19', '08', '2011'], ['26', '08', '2011'], ['02', '09', '2011'], ['09', '09', '2011'], ['16', '09', '2011'], ['23', '09', '2011'], ['30', '09', '2011'], ['07', '10', '2011'], ['14', '10', '2011'], ['21', '10', '2011'], ['28', '10', '2011'], ['04', '11', '2011'], ['11', '11', '2011'], ['18', '11', '2011'], ['25', '11', '2011'], ['02', '12', '2011'], ['09', '12', '2011'], ['16', '12', '2011'], ['23', '12', '2011'], ['30', '12', '2011'], ['06', '01', '2012'], ['13', '01', '2012'], ['20', '01', '2012'], ['27', '01', '2012'], ['03', '02', '2012'], ['10', '02', '2012'], ['17', '02', '2012'], ['24', '02', '2012'], ['02', '03', '2012'], ['09', '03', '2012'], ['16', '03', '2012'], ['23', '03', '2012'], ['30', '03', '2012'], ['06', '04', '2012'], ['13', '04', '2012'], ['20', '04', '2012'], ['27', '04', '2012'], ['04', '05', '2012'], ['11', '05', '2012'], ['18', '05', '2012'], ['25', '05', '2012'], ['01', '06', '2012'], ['08', '06', '2012'], ['15', '06', '2012'], ['22', '06', '2012'], ['29', '06', '2012'], ['06', '07', '2012'], ['13', '07', '2012'], ['20', '07', '2012'], ['27', '07', '2012'], ['03', '08', '2012'], ['10', '08', '2012'], ['17', '08', '2012'], ['24', '08', '2012'], ['31', '08', '2012'], ['07', '09', '2012'], ['14', '09', '2012'], ['21', '09', '2012'], ['28', '09', '2012'], ['05', '10', '2012'], ['12', '10', '2012'], ['05', '02', '2010'], ['12', '02', '2010'], ['19', '02', '2010'], ['26', '02', '2010'], ['05', '03', '2010'], ['12', '03', '2010'], ['19', '03', '2010'], ['26', '03', '2010'], ['02', '04', '2010'], ['09', '04', '2010'], ['16', '04', '2010'], ['23', '04', '2010'], ['30', '04', '2010'], ['07', '05', '2010'], ['14', '05', '2010'], ['21', '05', '2010'], ['28', '05', '2010'], ['04', '06', '2010'], ['11', '06', '2010'], ['18', '06', '2010'], ['25', '06', '2010'], ['02', '07', '2010'], ['09', '07', '2010'], ['16', '07', '2010'], ['23', '07', '2010'], ['30', '07', '2010'], ['06', '08', '2010'], ['13', '08', '2010'], ['20', '08', '2010'], ['27', '08', '2010'], ['03', '09', '2010'], ['10', '09', '2010'], ['17', '09', '2010'], ['24', '09', '2010'], ['01', '10', '2010'], ['08', '10', '2010'], ['15', '10', '2010'], ['22', '10', '2010'], ['29', '10', '2010'], ['05', '11', '2010'], ['12', '11', '2010'], ['19', '11', '2010'], ['26', '11', '2010'], ['03', '12', '2010'], ['10', '12', '2010'], ['17', '12', '2010'], ['24', '12', '2010'], ['31', '12', '2010'], ['07', '01', '2011'], ['14', '01', '2011'], ['21', '01', '2011'], ['28', '01', '2011'], ['04', '02', '2011'], ['11', '02', '2011'], ['18', '02', '2011'], ['25', '02', '2011'], ['04', '03', '2011'], ['11', '03', '2011'], ['18', '03', '2011'], ['25', '03', '2011'], ['01', '04', '2011'], ['08', '04', '2011'], ['15', '04', '2011'], ['22', '04', '2011'], ['29', '04', '2011'], ['06', '05', '2011'], ['13', '05', '2011'], ['20', '05', '2011'], ['27', '05', '2011'], ['03', '06', '2011'], ['10', '06', '2011'], ['17', '06', '2011'], ['24', '06', '2011'], ['01', '07', '2011'], ['08', '07', '2011'], ['15', '07', '2011'], ['22', '07', '2011'], ['29', '07', '2011'], ['05', '08', '2011'], ['12', '08', '2011'], ['19', '08', '2011'], ['26', '08', '2011'], ['02', '09', '2011'], ['09', '09', '2011'], ['16', '09', '2011'], ['23', '09', '2011'], ['30', '09', '2011'], ['07', '10', '2011'], ['14', '10', '2011'], ['21', '10', '2011'], ['28', '10', '2011'], ['04', '11', '2011'], ['11', '11', '2011'], ['18', '11', '2011'], ['25', '11', '2011'], ['02', '12', '2011'], ['09', '12', '2011'], ['16', '12', '2011'], ['23', '12', '2011'], ['30', '12', '2011'], ['06', '01', '2012'], ['13', '01', '2012'], ['20', '01', '2012'], ['27', '01', '2012'], ['03', '02', '2012'], ['10', '02', '2012'], ['17', '02', '2012'], ['24', '02', '2012'], ['02', '03', '2012'], ['09', '03', '2012'], ['16', '03', '2012'], ['23', '03', '2012'], ['30', '03', '2012'], ['06', '04', '2012'], ['13', '04', '2012'], ['20', '04', '2012'], ['27', '04', '2012'], ['04', '05', '2012'], ['11', '05', '2012'], ['18', '05', '2012'], ['25', '05', '2012'], ['01', '06', '2012'], ['08', '06', '2012'], ['15', '06', '2012'], ['22', '06', '2012'], ['29', '06', '2012'], ['06', '07', '2012'], ['13', '07', '2012'], ['20', '07', '2012'], ['27', '07', '2012'], ['03', '08', '2012'], ['10', '08', '2012'], ['17', '08', '2012'], ['24', '08', '2012'], ['31', '08', '2012'], ['07', '09', '2012'], ['14', '09', '2012'], ['21', '09', '2012'], ['28', '09', '2012'], ['05', '10', '2012'], ['12', '10', '2012'], ['19', '10', '2012'], ['26', '10', '2012'], ['05', '02', '2010'], ['12', '02', '2010'], ['19', '02', '2010'], ['26', '02', '2010'], ['05', '03', '2010'], ['12', '03', '2010'], ['19', '03', '2010'], ['26', '03', '2010'], ['02', '04', '2010'], ['09', '04', '2010'], ['16', '04', '2010'], ['23', '04', '2010'], ['30', '04', '2010'], ['07', '05', '2010'], ['14', '05', '2010'], ['21', '05', '2010'], ['28', '05', '2010'], ['04', '06', '2010'], ['11', '06', '2010'], ['18', '06', '2010'], ['25', '06', '2010'], ['02', '07', '2010'], ['09', '07', '2010'], ['16', '07', '2010'], ['23', '07', '2010'], ['30', '07', '2010'], ['06', '08', '2010'], ['13', '08', '2010'], ['20', '08', '2010'], ['27', '08', '2010'], ['03', '09', '2010'], ['10', '09', '2010'], ['17', '09', '2010'], ['24', '09', '2010'], ['01', '10', '2010'], ['08', '10', '2010'], ['15', '10', '2010'], ['22', '10', '2010'], ['29', '10', '2010'], ['05', '11', '2010'], ['12', '11', '2010'], ['19', '11', '2010'], ['26', '11', '2010'], ['03', '12', '2010'], ['10', '12', '2010'], ['17', '12', '2010'], ['24', '12', '2010'], ['31', '12', '2010'], ['07', '01', '2011'], ['14', '01', '2011'], ['21', '01', '2011'], ['28', '01', '2011'], ['04', '02', '2011'], ['11', '02', '2011'], ['18', '02', '2011'], ['25', '02', '2011'], ['04', '03', '2011'], ['11', '03', '2011'], ['18', '03', '2011'], ['25', '03', '2011'], ['01', '04', '2011'], ['08', '04', '2011'], ['15', '04', '2011'], ['22', '04', '2011'], ['29', '04', '2011'], ['06', '05', '2011'], ['13', '05', '2011'], ['20', '05', '2011'], ['27', '05', '2011'], ['03', '06', '2011'], ['10', '06', '2011'], ['17', '06', '2011'], ['24', '06', '2011'], ['01', '07', '2011'], ['08', '07', '2011'], ['15', '07', '2011'], ['22', '07', '2011'], ['29', '07', '2011'], ['05', '08', '2011'], ['12', '08', '2011'], ['19', '08', '2011'], ['26', '08', '2011'], ['02', '09', '2011'], ['09', '09', '2011'], ['16', '09', '2011'], ['23', '09', '2011'], ['30', '09', '2011'], ['07', '10', '2011'], ['14', '10', '2011'], ['21', '10', '2011'], ['28', '10', '2011'], ['04', '11', '2011'], ['11', '11', '2011'], ['18', '11', '2011'], ['25', '11', '2011'], ['02', '12', '2011'], ['09', '12', '2011'], ['16', '12', '2011'], ['23', '12', '2011'], ['30', '12', '2011'], ['06', '01', '2012'], ['13', '01', '2012'], ['20', '01', '2012'], ['27', '01', '2012'], ['03', '02', '2012'], ['10', '02', '2012'], ['17', '02', '2012'], ['24', '02', '2012'], ['02', '03', '2012'], ['09', '03', '2012'], ['16', '03', '2012'], ['23', '03', '2012'], ['30', '03', '2012'], ['06', '04', '2012'], ['13', '04', '2012'], ['20', '04', '2012'], ['27', '04', '2012'], ['04', '05', '2012'], ['11', '05', '2012'], ['18', '05', '2012'], ['25', '05', '2012'], ['01', '06', '2012'], ['08', '06', '2012'], ['15', '06', '2012'], ['22', '06', '2012'], ['29', '06', '2012'], ['06', '07', '2012'], ['13', '07', '2012'], ['20', '07', '2012'], ['27', '07', '2012'], ['03', '08', '2012'], ['10', '08', '2012'], ['17', '08', '2012'], ['24', '08', '2012'], ['31', '08', '2012'], ['07', '09', '2012'], ['14', '09', '2012'], ['21', '09', '2012'], ['28', '09', '2012'], ['05', '10', '2012'], ['12', '10', '2012'], ['19', '10', '2012'], ['26', '10', '2012'], ['05', '02', '2010'], ['12', '02', '2010'], ['19', '02', '2010'], ['26', '02', '2010'], ['05', '03', '2010'], ['12', '03', '2010'], ['19', '03', '2010'], ['26', '03', '2010'], ['02', '04', '2010'], ['09', '04', '2010'], ['16', '04', '2010'], ['23', '04', '2010'], ['30', '04', '2010'], ['07', '05', '2010'], ['14', '05', '2010'], ['21', '05', '2010'], ['28', '05', '2010'], ['04', '06', '2010'], ['11', '06', '2010'], ['18', '06', '2010'], ['25', '06', '2010'], ['02', '07', '2010'], ['09', '07', '2010'], ['16', '07', '2010'], ['23', '07', '2010'], ['30', '07', '2010'], ['06', '08', '2010'], ['13', '08', '2010'], ['20', '08', '2010'], ['27', '08', '2010'], ['03', '09', '2010'], ['10', '09', '2010'], ['17', '09', '2010'], ['24', '09', '2010'], ['01', '10', '2010'], ['08', '10', '2010'], ['15', '10', '2010'], ['22', '10', '2010'], ['29', '10', '2010'], ['05', '11', '2010'], ['12', '11', '2010'], ['19', '11', '2010'], ['26', '11', '2010'], ['03', '12', '2010'], ['10', '12', '2010'], ['17', '12', '2010'], ['24', '12', '2010'], ['31', '12', '2010'], ['07', '01', '2011'], ['14', '01', '2011'], ['21', '01', '2011'], ['28', '01', '2011'], ['04', '02', '2011'], ['11', '02', '2011'], ['18', '02', '2011'], ['25', '02', '2011'], ['04', '03', '2011'], ['11', '03', '2011'], ['18', '03', '2011'], ['25', '03', '2011'], ['01', '04', '2011'], ['08', '04', '2011'], ['15', '04', '2011'], ['22', '04', '2011'], ['29', '04', '2011'], ['06', '05', '2011'], ['13', '05', '2011'], ['20', '05', '2011'], ['27', '05', '2011'], ['03', '06', '2011'], ['10', '06', '2011'], ['17', '06', '2011'], ['24', '06', '2011'], ['01', '07', '2011'], ['08', '07', '2011'], ['15', '07', '2011'], ['22', '07', '2011'], ['29', '07', '2011'], ['05', '08', '2011'], ['12', '08', '2011'], ['19', '08', '2011'], ['26', '08', '2011'], ['02', '09', '2011'], ['09', '09', '2011'], ['16', '09', '2011'], ['23', '09', '2011'], ['30', '09', '2011'], ['07', '10', '2011'], ['14', '10', '2011'], ['21', '10', '2011'], ['28', '10', '2011'], ['04', '11', '2011'], ['11', '11', '2011'], ['18', '11', '2011'], ['25', '11', '2011'], ['02', '12', '2011'], ['09', '12', '2011'], ['16', '12', '2011'], ['23', '12', '2011'], ['30', '12', '2011'], ['06', '01', '2012'], ['13', '01', '2012'], ['20', '01', '2012'], ['27', '01', '2012'], ['03', '02', '2012'], ['10', '02', '2012'], ['17', '02', '2012'], ['24', '02', '2012'], ['02', '03', '2012'], ['09', '03', '2012'], ['16', '03', '2012'], ['23', '03', '2012'], ['30', '03', '2012'], ['06', '04', '2012'], ['13', '04', '2012'], ['20', '04', '2012'], ['27', '04', '2012'], ['04', '05', '2012'], ['11', '05', '2012'], ['18', '05', '2012'], ['25', '05', '2012'], ['01', '06', '2012'], ['08', '06', '2012'], ['15', '06', '2012'], ['22', '06', '2012'], ['29', '06', '2012'], ['06', '07', '2012'], ['13', '07', '2012'], ['20', '07', '2012'], ['27', '07', '2012'], ['03', '08', '2012'], ['10', '08', '2012'], ['17', '08', '2012'], ['24', '08', '2012'], ['31', '08', '2012'], ['07', '09', '2012'], ['14', '09', '2012'], ['21', '09', '2012'], ['28', '09', '2012'], ['05', '10', '2012'], ['12', '10', '2012'], ['19', '10', '2012'], ['26', '10', '2012'], ['05', '02', '2010'], ['12', '02', '2010'], ['19', '02', '2010'], ['26', '02', '2010'], ['05', '03', '2010'], ['12', '03', '2010'], ['19', '03', '2010'], ['26', '03', '2010'], ['02', '04', '2010'], ['09', '04', '2010'], ['16', '04', '2010'], ['23', '04', '2010'], ['30', '04', '2010'], ['07', '05', '2010'], ['14', '05', '2010'], ['21', '05', '2010'], ['28', '05', '2010'], ['04', '06', '2010'], ['11', '06', '2010'], ['18', '06', '2010'], ['25', '06', '2010'], ['02', '07', '2010'], ['09', '07', '2010'], ['16', '07', '2010'], ['23', '07', '2010'], ['30', '07', '2010'], ['06', '08', '2010'], ['13', '08', '2010'], ['20', '08', '2010'], ['27', '08', '2010'], ['03', '09', '2010'], ['10', '09', '2010'], ['17', '09', '2010'], ['24', '09', '2010'], ['01', '10', '2010'], ['08', '10', '2010'], ['15', '10', '2010'], ['22', '10', '2010'], ['29', '10', '2010'], ['05', '11', '2010'], ['12', '11', '2010'], ['19', '11', '2010'], ['26', '11', '2010'], ['03', '12', '2010'], ['10', '12', '2010'], ['17', '12', '2010'], ['24', '12', '2010'], ['31', '12', '2010'], ['07', '01', '2011'], ['14', '01', '2011'], ['21', '01', '2011'], ['28', '01', '2011'], ['04', '02', '2011'], ['11', '02', '2011'], ['18', '02', '2011'], ['25', '02', '2011'], ['04', '03', '2011'], ['11', '03', '2011'], ['18', '03', '2011'], ['25', '03', '2011'], ['01', '04', '2011'], ['08', '04', '2011'], ['15', '04', '2011'], ['22', '04', '2011'], ['29', '04', '2011'], ['06', '05', '2011'], ['13', '05', '2011'], ['20', '05', '2011'], ['27', '05', '2011'], ['03', '06', '2011'], ['10', '06', '2011'], ['17', '06', '2011'], ['24', '06', '2011'], ['01', '07', '2011'], ['08', '07', '2011'], ['15', '07', '2011'], ['22', '07', '2011'], ['29', '07', '2011'], ['05', '08', '2011'], ['12', '08', '2011'], ['19', '08', '2011'], ['26', '08', '2011'], ['02', '09', '2011'], ['09', '09', '2011'], ['16', '09', '2011'], ['23', '09', '2011'], ['30', '09', '2011'], ['07', '10', '2011'], ['14', '10', '2011'], ['21', '10', '2011'], ['28', '10', '2011'], ['04', '11', '2011'], ['11', '11', '2011'], ['18', '11', '2011'], ['25', '11', '2011'], ['02', '12', '2011'], ['09', '12', '2011'], ['16', '12', '2011'], ['23', '12', '2011'], ['30', '12', '2011'], ['06', '01', '2012'], ['13', '01', '2012'], ['20', '01', '2012'], ['27', '01', '2012'], ['03', '02', '2012'], ['10', '02', '2012'], ['17', '02', '2012'], ['24', '02', '2012'], ['02', '03', '2012'], ['09', '03', '2012'], ['16', '03', '2012'], ['23', '03', '2012'], ['30', '03', '2012'], ['06', '04', '2012'], ['13', '04', '2012'], ['20', '04', '2012'], ['27', '04', '2012'], ['04', '05', '2012'], ['11', '05', '2012'], ['18', '05', '2012'], ['25', '05', '2012'], ['01', '06', '2012'], ['08', '06', '2012'], ['15', '06', '2012'], ['22', '06', '2012'], ['29', '06', '2012'], ['06', '07', '2012'], ['13', '07', '2012'], ['20', '07', '2012'], ['27', '07', '2012'], ['03', '08', '2012'], ['10', '08', '2012'], ['17', '08', '2012'], ['24', '08', '2012'], ['31', '08', '2012'], ['07', '09', '2012'], ['14', '09', '2012'], ['21', '09', '2012'], ['28', '09', '2012'], ['05', '10', '2012'], ['12', '10', '2012'], ['19', '10', '2012'], ['26', '10', '2012'], ['05', '02', '2010'], ['12', '02', '2010'], ['19', '02', '2010'], ['26', '02', '2010'], ['05', '03', '2010'], ['12', '03', '2010'], ['19', '03', '2010'], ['26', '03', '2010'], ['02', '04', '2010'], ['09', '04', '2010'], ['16', '04', '2010'], ['23', '04', '2010'], ['30', '04', '2010'], ['07', '05', '2010'], ['14', '05', '2010'], ['21', '05', '2010'], ['28', '05', '2010'], ['04', '06', '2010'], ['11', '06', '2010'], ['18', '06', '2010'], ['25', '06', '2010'], ['02', '07', '2010'], ['09', '07', '2010'], ['16', '07', '2010'], ['23', '07', '2010'], ['30', '07', '2010'], ['06', '08', '2010'], ['13', '08', '2010'], ['20', '08', '2010'], ['27', '08', '2010'], ['03', '09', '2010'], ['10', '09', '2010'], ['17', '09', '2010'], ['24', '09', '2010'], ['01', '10', '2010'], ['08', '10', '2010'], ['15', '10', '2010'], ['22', '10', '2010'], ['29', '10', '2010'], ['05', '11', '2010'], ['12', '11', '2010'], ['19', '11', '2010'], ['26', '11', '2010'], ['03', '12', '2010'], ['10', '12', '2010'], ['17', '12', '2010'], ['24', '12', '2010'], ['31', '12', '2010'], ['07', '01', '2011'], ['14', '01', '2011'], ['21', '01', '2011'], ['28', '01', '2011'], ['04', '02', '2011'], ['11', '02', '2011'], ['18', '02', '2011'], ['25', '02', '2011'], ['04', '03', '2011'], ['11', '03', '2011'], ['18', '03', '2011'], ['25', '03', '2011'], ['01', '04', '2011'], ['08', '04', '2011'], ['15', '04', '2011'], ['22', '04', '2011'], ['29', '04', '2011'], ['06', '05', '2011'], ['13', '05', '2011'], ['20', '05', '2011'], ['27', '05', '2011'], ['03', '06', '2011'], ['10', '06', '2011'], ['17', '06', '2011'], ['24', '06', '2011'], ['01', '07', '2011'], ['08', '07', '2011'], ['15', '07', '2011'], ['22', '07', '2011'], ['29', '07', '2011'], ['05', '08', '2011'], ['12', '08', '2011'], ['19', '08', '2011'], ['26', '08', '2011'], ['02', '09', '2011'], ['09', '09', '2011'], ['16', '09', '2011'], ['23', '09', '2011'], ['30', '09', '2011'], ['07', '10', '2011'], ['14', '10', '2011'], ['21', '10', '2011'], ['28', '10', '2011'], ['04', '11', '2011'], ['11', '11', '2011'], ['18', '11', '2011'], ['25', '11', '2011'], ['02', '12', '2011'], ['09', '12', '2011'], ['16', '12', '2011'], ['23', '12', '2011'], ['30', '12', '2011'], ['06', '01', '2012'], ['13', '01', '2012'], ['20', '01', '2012'], ['27', '01', '2012'], ['03', '02', '2012'], ['10', '02', '2012'], ['17', '02', '2012'], ['24', '02', '2012'], ['02', '03', '2012'], ['09', '03', '2012'], ['16', '03', '2012'], ['23', '03', '2012'], ['30', '03', '2012'], ['06', '04', '2012'], ['13', '04', '2012'], ['20', '04', '2012'], ['27', '04', '2012'], ['04', '05', '2012'], ['11', '05', '2012'], ['18', '05', '2012'], ['25', '05', '2012'], ['01', '06', '2012'], ['08', '06', '2012'], ['15', '06', '2012'], ['22', '06', '2012'], ['29', '06', '2012'], ['06', '07', '2012'], ['13', '07', '2012'], ['20', '07', '2012'], ['27', '07', '2012'], ['03', '08', '2012'], ['10', '08', '2012'], ['17', '08', '2012'], ['24', '08', '2012'], ['31', '08', '2012'], ['07', '09', '2012'], ['14', '09', '2012'], ['21', '09', '2012'], ['28', '09', '2012'], ['05', '10', '2012'], ['12', '10', '2012'], ['19', '10', '2012'], ['26', '10', '2012'], ['05', '02', '2010'], ['12', '02', '2010'], ['19', '02', '2010'], ['26', '02', '2010'], ['05', '03', '2010'], ['12', '03', '2010'], ['19', '03', '2010'], ['26', '03', '2010'], ['02', '04', '2010'], ['09', '04', '2010'], ['16', '04', '2010'], ['23', '04', '2010'], ['30', '04', '2010'], ['07', '05', '2010'], ['14', '05', '2010'], ['21', '05', '2010'], ['28', '05', '2010'], ['04', '06', '2010'], ['11', '06', '2010'], ['18', '06', '2010'], ['25', '06', '2010'], ['02', '07', '2010'], ['09', '07', '2010'], ['16', '07', '2010'], ['23', '07', '2010'], ['30', '07', '2010'], ['06', '08', '2010'], ['13', '08', '2010'], ['20', '08', '2010'], ['27', '08', '2010'], ['03', '09', '2010'], ['10', '09', '2010'], ['17', '09', '2010'], ['24', '09', '2010'], ['01', '10', '2010'], ['08', '10', '2010'], ['15', '10', '2010'], ['22', '10', '2010'], ['29', '10', '2010'], ['05', '11', '2010'], ['12', '11', '2010'], ['19', '11', '2010'], ['26', '11', '2010'], ['03', '12', '2010'], ['10', '12', '2010'], ['17', '12', '2010'], ['24', '12', '2010'], ['31', '12', '2010'], ['07', '01', '2011'], ['14', '01', '2011'], ['21', '01', '2011'], ['28', '01', '2011'], ['04', '02', '2011'], ['11', '02', '2011'], ['18', '02', '2011'], ['25', '02', '2011'], ['04', '03', '2011'], ['11', '03', '2011'], ['18', '03', '2011'], ['25', '03', '2011'], ['01', '04', '2011'], ['08', '04', '2011'], ['15', '04', '2011'], ['22', '04', '2011'], ['29', '04', '2011'], ['06', '05', '2011'], ['13', '05', '2011'], ['20', '05', '2011'], ['27', '05', '2011'], ['03', '06', '2011'], ['10', '06', '2011'], ['17', '06', '2011'], ['24', '06', '2011'], ['01', '07', '2011'], ['08', '07', '2011'], ['15', '07', '2011'], ['22', '07', '2011'], ['29', '07', '2011'], ['05', '08', '2011'], ['12', '08', '2011'], ['19', '08', '2011'], ['26', '08', '2011'], ['02', '09', '2011'], ['09', '09', '2011'], ['16', '09', '2011'], ['23', '09', '2011'], ['30', '09', '2011'], ['07', '10', '2011'], ['14', '10', '2011'], ['21', '10', '2011'], ['28', '10', '2011'], ['04', '11', '2011'], ['11', '11', '2011'], ['18', '11', '2011'], ['25', '11', '2011'], ['02', '12', '2011'], ['09', '12', '2011'], ['16', '12', '2011'], ['23', '12', '2011'], ['30', '12', '2011'], ['06', '01', '2012'], ['13', '01', '2012'], ['20', '01', '2012'], ['27', '01', '2012'], ['03', '02', '2012'], ['10', '02', '2012'], ['17', '02', '2012'], ['24', '02', '2012'], ['02', '03', '2012'], ['09', '03', '2012'], ['16', '03', '2012'], ['23', '03', '2012'], ['30', '03', '2012'], ['06', '04', '2012'], ['13', '04', '2012'], ['20', '04', '2012'], ['27', '04', '2012'], ['04', '05', '2012'], ['11', '05', '2012'], ['18', '05', '2012'], ['25', '05', '2012'], ['01', '06', '2012'], ['08', '06', '2012'], ['15', '06', '2012'], ['22', '06', '2012'], ['29', '06', '2012'], ['06', '07', '2012'], ['13', '07', '2012'], ['20', '07', '2012'], ['27', '07', '2012'], ['03', '08', '2012'], ['10', '08', '2012'], ['17', '08', '2012'], ['24', '08', '2012'], ['31', '08', '2012'], ['07', '09', '2012'], ['14', '09', '2012'], ['21', '09', '2012'], ['28', '09', '2012'], ['05', '10', '2012'], ['12', '10', '2012'], ['19', '10', '2012'], ['26', '10', '2012'], ['05', '02', '2010'], ['12', '02', '2010'], ['19', '02', '2010'], ['26', '02', '2010'], ['05', '03', '2010'], ['12', '03', '2010'], ['19', '03', '2010'], ['26', '03', '2010'], ['02', '04', '2010'], ['09', '04', '2010'], ['16', '04', '2010'], ['23', '04', '2010'], ['30', '04', '2010'], ['07', '05', '2010'], ['14', '05', '2010'], ['21', '05', '2010'], ['28', '05', '2010'], ['04', '06', '2010'], ['11', '06', '2010'], ['18', '06', '2010'], ['25', '06', '2010'], ['02', '07', '2010'], ['09', '07', '2010'], ['16', '07', '2010'], ['23', '07', '2010'], ['30', '07', '2010'], ['06', '08', '2010'], ['13', '08', '2010'], ['20', '08', '2010'], ['27', '08', '2010'], ['03', '09', '2010'], ['10', '09', '2010'], ['17', '09', '2010'], ['24', '09', '2010'], ['01', '10', '2010'], ['08', '10', '2010'], ['15', '10', '2010'], ['22', '10', '2010'], ['29', '10', '2010'], ['05', '11', '2010'], ['12', '11', '2010'], ['19', '11', '2010'], ['26', '11', '2010'], ['03', '12', '2010'], ['10', '12', '2010'], ['17', '12', '2010'], ['24', '12', '2010'], ['31', '12', '2010'], ['07', '01', '2011'], ['14', '01', '2011'], ['21', '01', '2011'], ['28', '01', '2011'], ['04', '02', '2011'], ['11', '02', '2011'], ['18', '02', '2011'], ['25', '02', '2011'], ['04', '03', '2011'], ['11', '03', '2011'], ['18', '03', '2011'], ['25', '03', '2011'], ['01', '04', '2011'], ['08', '04', '2011'], ['15', '04', '2011'], ['22', '04', '2011'], ['29', '04', '2011'], ['06', '05', '2011'], ['13', '05', '2011'], ['20', '05', '2011'], ['27', '05', '2011'], ['03', '06', '2011'], ['10', '06', '2011'], ['17', '06', '2011'], ['24', '06', '2011'], ['01', '07', '2011'], ['08', '07', '2011'], ['15', '07', '2011'], ['22', '07', '2011'], ['29', '07', '2011'], ['05', '08', '2011'], ['12', '08', '2011'], ['19', '08', '2011'], ['26', '08', '2011'], ['02', '09', '2011'], ['09', '09', '2011'], ['16', '09', '2011'], ['23', '09', '2011'], ['30', '09', '2011'], ['07', '10', '2011'], ['14', '10', '2011'], ['21', '10', '2011'], ['28', '10', '2011'], ['04', '11', '2011'], ['11', '11', '2011'], ['18', '11', '2011'], ['25', '11', '2011'], ['02', '12', '2011'], ['09', '12', '2011'], ['16', '12', '2011'], ['23', '12', '2011'], ['30', '12', '2011'], ['06', '01', '2012'], ['13', '01', '2012'], ['20', '01', '2012'], ['27', '01', '2012'], ['03', '02', '2012'], ['10', '02', '2012'], ['17', '02', '2012'], ['24', '02', '2012'], ['02', '03', '2012'], ['09', '03', '2012'], ['16', '03', '2012'], ['23', '03', '2012'], ['30', '03', '2012'], ['06', '04', '2012'], ['13', '04', '2012'], ['20', '04', '2012'], ['27', '04', '2012'], ['04', '05', '2012'], ['11', '05', '2012'], ['18', '05', '2012'], ['25', '05', '2012'], ['01', '06', '2012'], ['08', '06', '2012'], ['15', '06', '2012'], ['22', '06', '2012'], ['29', '06', '2012'], ['06', '07', '2012'], ['13', '07', '2012'], ['20', '07', '2012'], ['27', '07', '2012'], ['03', '08', '2012'], ['10', '08', '2012'], ['17', '08', '2012'], ['24', '08', '2012'], ['31', '08', '2012'], ['07', '09', '2012'], ['14', '09', '2012'], ['21', '09', '2012'], ['28', '09', '2012'], ['05', '10', '2012'], ['12', '10', '2012'], ['19', '10', '2012'], ['26', '10', '2012'], ['05', '02', '2010'], ['12', '02', '2010'], ['19', '02', '2010'], ['26', '02', '2010'], ['05', '03', '2010'], ['12', '03', '2010'], ['19', '03', '2010'], ['26', '03', '2010'], ['02', '04', '2010'], ['09', '04', '2010'], ['16', '04', '2010'], ['23', '04', '2010'], ['30', '04', '2010'], ['07', '05', '2010'], ['14', '05', '2010'], ['21', '05', '2010'], ['28', '05', '2010'], ['04', '06', '2010'], ['11', '06', '2010'], ['18', '06', '2010'], ['25', '06', '2010'], ['02', '07', '2010'], ['09', '07', '2010'], ['16', '07', '2010'], ['23', '07', '2010'], ['30', '07', '2010'], ['06', '08', '2010'], ['13', '08', '2010'], ['20', '08', '2010'], ['27', '08', '2010'], ['03', '09', '2010'], ['10', '09', '2010'], ['17', '09', '2010'], ['24', '09', '2010'], ['01', '10', '2010'], ['08', '10', '2010'], ['15', '10', '2010'], ['22', '10', '2010'], ['29', '10', '2010'], ['05', '11', '2010'], ['12', '11', '2010'], ['19', '11', '2010'], ['26', '11', '2010'], ['03', '12', '2010'], ['10', '12', '2010'], ['17', '12', '2010'], ['24', '12', '2010'], ['31', '12', '2010'], ['07', '01', '2011'], ['14', '01', '2011'], ['21', '01', '2011'], ['28', '01', '2011'], ['04', '02', '2011'], ['11', '02', '2011'], ['18', '02', '2011'], ['25', '02', '2011'], ['04', '03', '2011'], ['11', '03', '2011'], ['18', '03', '2011'], ['25', '03', '2011'], ['01', '04', '2011'], ['08', '04', '2011'], ['15', '04', '2011'], ['22', '04', '2011'], ['29', '04', '2011'], ['06', '05', '2011'], ['13', '05', '2011'], ['20', '05', '2011'], ['27', '05', '2011'], ['03', '06', '2011'], ['10', '06', '2011'], ['17', '06', '2011'], ['24', '06', '2011'], ['01', '07', '2011'], ['08', '07', '2011'], ['15', '07', '2011'], ['22', '07', '2011'], ['29', '07', '2011'], ['05', '08', '2011'], ['12', '08', '2011'], ['19', '08', '2011'], ['26', '08', '2011'], ['02', '09', '2011'], ['09', '09', '2011'], ['16', '09', '2011'], ['23', '09', '2011'], ['30', '09', '2011'], ['07', '10', '2011'], ['14', '10', '2011'], ['21', '10', '2011'], ['28', '10', '2011'], ['04', '11', '2011'], ['11', '11', '2011'], ['18', '11', '2011'], ['25', '11', '2011'], ['02', '12', '2011'], ['09', '12', '2011'], ['16', '12', '2011'], ['23', '12', '2011'], ['30', '12', '2011'], ['06', '01', '2012'], ['13', '01', '2012'], ['20', '01', '2012'], ['27', '01', '2012'], ['03', '02', '2012'], ['10', '02', '2012'], ['17', '02', '2012'], ['24', '02', '2012'], ['02', '03', '2012'], ['09', '03', '2012'], ['16', '03', '2012'], ['23', '03', '2012'], ['30', '03', '2012'], ['06', '04', '2012'], ['13', '04', '2012'], ['20', '04', '2012'], ['27', '04', '2012'], ['04', '05', '2012'], ['11', '05', '2012'], ['18', '05', '2012'], ['25', '05', '2012'], ['01', '06', '2012'], ['08', '06', '2012'], ['15', '06', '2012'], ['22', '06', '2012'], ['29', '06', '2012'], ['06', '07', '2012'], ['13', '07', '2012'], ['20', '07', '2012'], ['27', '07', '2012'], ['03', '08', '2012'], ['10', '08', '2012'], ['17', '08', '2012'], ['24', '08', '2012'], ['31', '08', '2012'], ['07', '09', '2012'], ['14', '09', '2012'], ['21', '09', '2012'], ['28', '09', '2012'], ['05', '10', '2012'], ['12', '10', '2012'], ['19', '10', '2012'], ['26', '10', '2012'], ['05', '02', '2010'], ['12', '02', '2010'], ['19', '02', '2010'], ['26', '02', '2010'], ['05', '03', '2010'], ['12', '03', '2010'], ['19', '03', '2010'], ['26', '03', '2010'], ['02', '04', '2010'], ['09', '04', '2010'], ['16', '04', '2010'], ['23', '04', '2010'], ['30', '04', '2010'], ['07', '05', '2010'], ['14', '05', '2010'], ['21', '05', '2010'], ['28', '05', '2010'], ['04', '06', '2010'], ['11', '06', '2010'], ['18', '06', '2010'], ['25', '06', '2010'], ['02', '07', '2010'], ['09', '07', '2010'], ['16', '07', '2010'], ['23', '07', '2010'], ['30', '07', '2010'], ['06', '08', '2010'], ['13', '08', '2010'], ['20', '08', '2010'], ['27', '08', '2010'], ['03', '09', '2010'], ['10', '09', '2010'], ['17', '09', '2010'], ['24', '09', '2010'], ['01', '10', '2010'], ['08', '10', '2010'], ['15', '10', '2010'], ['22', '10', '2010'], ['29', '10', '2010'], ['05', '11', '2010'], ['12', '11', '2010'], ['19', '11', '2010'], ['26', '11', '2010'], ['03', '12', '2010'], ['10', '12', '2010'], ['17', '12', '2010'], ['24', '12', '2010'], ['31', '12', '2010'], ['07', '01', '2011'], ['14', '01', '2011'], ['21', '01', '2011'], ['28', '01', '2011'], ['04', '02', '2011'], ['11', '02', '2011'], ['18', '02', '2011'], ['25', '02', '2011'], ['04', '03', '2011'], ['11', '03', '2011'], ['18', '03', '2011'], ['25', '03', '2011'], ['01', '04', '2011'], ['08', '04', '2011'], ['15', '04', '2011'], ['22', '04', '2011'], ['29', '04', '2011'], ['06', '05', '2011'], ['13', '05', '2011'], ['20', '05', '2011'], ['27', '05', '2011'], ['03', '06', '2011'], ['10', '06', '2011'], ['17', '06', '2011'], ['24', '06', '2011'], ['01', '07', '2011'], ['08', '07', '2011'], ['15', '07', '2011'], ['22', '07', '2011'], ['29', '07', '2011'], ['05', '08', '2011'], ['12', '08', '2011'], ['19', '08', '2011'], ['26', '08', '2011'], ['02', '09', '2011'], ['09', '09', '2011'], ['16', '09', '2011'], ['23', '09', '2011'], ['30', '09', '2011'], ['07', '10', '2011'], ['14', '10', '2011'], ['21', '10', '2011'], ['28', '10', '2011'], ['04', '11', '2011'], ['11', '11', '2011'], ['18', '11', '2011'], ['25', '11', '2011'], ['02', '12', '2011'], ['09', '12', '2011'], ['16', '12', '2011'], ['23', '12', '2011'], ['30', '12', '2011'], ['06', '01', '2012'], ['13', '01', '2012'], ['20', '01', '2012'], ['27', '01', '2012'], ['03', '02', '2012'], ['10', '02', '2012'], ['17', '02', '2012'], ['24', '02', '2012'], ['02', '03', '2012'], ['09', '03', '2012'], ['16', '03', '2012'], ['23', '03', '2012'], ['30', '03', '2012'], ['06', '04', '2012'], ['13', '04', '2012'], ['20', '04', '2012'], ['27', '04', '2012'], ['04', '05', '2012'], ['11', '05', '2012'], ['18', '05', '2012'], ['25', '05', '2012'], ['01', '06', '2012'], ['08', '06', '2012'], ['15', '06', '2012'], ['22', '06', '2012'], ['29', '06', '2012'], ['06', '07', '2012'], ['13', '07', '2012'], ['20', '07', '2012'], ['27', '07', '2012'], ['03', '08', '2012'], ['10', '08', '2012'], ['17', '08', '2012'], ['24', '08', '2012'], ['31', '08', '2012'], ['07', '09', '2012'], ['14', '09', '2012'], ['21', '09', '2012'], ['28', '09', '2012'], ['05', '10', '2012'], ['12', '10', '2012'], ['19', '10', '2012'], ['26', '10', '2012'], ['05', '02', '2010'], ['12', '02', '2010'], ['19', '02', '2010'], ['26', '02', '2010'], ['05', '03', '2010'], ['12', '03', '2010'], ['19', '03', '2010'], ['26', '03', '2010'], ['02', '04', '2010'], ['09', '04', '2010'], ['16', '04', '2010'], ['23', '04', '2010'], ['30', '04', '2010'], ['07', '05', '2010'], ['14', '05', '2010'], ['21', '05', '2010'], ['28', '05', '2010'], ['04', '06', '2010'], ['11', '06', '2010'], ['18', '06', '2010'], ['25', '06', '2010'], ['02', '07', '2010'], ['09', '07', '2010'], ['16', '07', '2010'], ['23', '07', '2010'], ['30', '07', '2010'], ['06', '08', '2010'], ['13', '08', '2010'], ['20', '08', '2010'], ['27', '08', '2010'], ['03', '09', '2010'], ['10', '09', '2010'], ['17', '09', '2010'], ['24', '09', '2010'], ['01', '10', '2010'], ['08', '10', '2010'], ['15', '10', '2010'], ['22', '10', '2010'], ['29', '10', '2010'], ['05', '11', '2010'], ['12', '11', '2010'], ['19', '11', '2010'], ['26', '11', '2010'], ['03', '12', '2010'], ['10', '12', '2010'], ['17', '12', '2010'], ['24', '12', '2010'], ['31', '12', '2010'], ['07', '01', '2011'], ['14', '01', '2011'], ['21', '01', '2011'], ['28', '01', '2011'], ['04', '02', '2011'], ['11', '02', '2011'], ['18', '02', '2011'], ['25', '02', '2011'], ['04', '03', '2011'], ['11', '03', '2011'], ['18', '03', '2011'], ['25', '03', '2011'], ['01', '04', '2011'], ['08', '04', '2011'], ['15', '04', '2011'], ['22', '04', '2011'], ['29', '04', '2011'], ['06', '05', '2011'], ['13', '05', '2011'], ['20', '05', '2011'], ['27', '05', '2011'], ['03', '06', '2011'], ['10', '06', '2011'], ['17', '06', '2011'], ['24', '06', '2011'], ['01', '07', '2011'], ['08', '07', '2011'], ['15', '07', '2011'], ['22', '07', '2011'], ['29', '07', '2011'], ['05', '08', '2011'], ['12', '08', '2011'], ['19', '08', '2011'], ['26', '08', '2011'], ['02', '09', '2011'], ['09', '09', '2011'], ['16', '09', '2011'], ['23', '09', '2011'], ['30', '09', '2011'], ['07', '10', '2011'], ['14', '10', '2011'], ['21', '10', '2011'], ['28', '10', '2011'], ['04', '11', '2011'], ['11', '11', '2011'], ['18', '11', '2011'], ['25', '11', '2011'], ['02', '12', '2011'], ['09', '12', '2011'], ['16', '12', '2011'], ['23', '12', '2011'], ['30', '12', '2011'], ['06', '01', '2012'], ['13', '01', '2012'], ['20', '01', '2012'], ['27', '01', '2012'], ['03', '02', '2012'], ['10', '02', '2012'], ['17', '02', '2012'], ['24', '02', '2012'], ['02', '03', '2012'], ['09', '03', '2012'], ['16', '03', '2012'], ['23', '03', '2012'], ['30', '03', '2012'], ['06', '04', '2012'], ['13', '04', '2012'], ['20', '04', '2012'], ['27', '04', '2012'], ['04', '05', '2012'], ['11', '05', '2012'], ['18', '05', '2012'], ['25', '05', '2012'], ['01', '06', '2012'], ['08', '06', '2012'], ['15', '06', '2012'], ['22', '06', '2012'], ['29', '06', '2012'], ['06', '07', '2012'], ['13', '07', '2012'], ['20', '07', '2012'], ['27', '07', '2012'], ['03', '08', '2012'], ['10', '08', '2012'], ['17', '08', '2012'], ['24', '08', '2012'], ['31', '08', '2012'], ['07', '09', '2012'], ['14', '09', '2012'], ['21', '09', '2012'], ['28', '09', '2012'], ['05', '10', '2012'], ['12', '10', '2012'], ['19', '10', '2012'], ['26', '10', '2012'], ['05', '02', '2010'], ['12', '02', '2010'], ['19', '02', '2010'], ['26', '02', '2010'], ['05', '03', '2010'], ['12', '03', '2010'], ['19', '03', '2010'], ['26', '03', '2010'], ['02', '04', '2010'], ['09', '04', '2010'], ['16', '04', '2010'], ['23', '04', '2010'], ['30', '04', '2010'], ['07', '05', '2010'], ['14', '05', '2010'], ['21', '05', '2010'], ['28', '05', '2010'], ['04', '06', '2010'], ['11', '06', '2010'], ['18', '06', '2010'], ['25', '06', '2010'], ['02', '07', '2010'], ['09', '07', '2010'], ['16', '07', '2010'], ['23', '07', '2010'], ['30', '07', '2010'], ['06', '08', '2010'], ['13', '08', '2010'], ['20', '08', '2010'], ['27', '08', '2010'], ['03', '09', '2010'], ['10', '09', '2010'], ['17', '09', '2010'], ['24', '09', '2010'], ['01', '10', '2010'], ['08', '10', '2010'], ['15', '10', '2010'], ['22', '10', '2010'], ['29', '10', '2010'], ['05', '11', '2010'], ['12', '11', '2010'], ['19', '11', '2010'], ['26', '11', '2010'], ['03', '12', '2010'], ['10', '12', '2010'], ['17', '12', '2010'], ['24', '12', '2010'], ['31', '12', '2010'], ['07', '01', '2011'], ['14', '01', '2011'], ['21', '01', '2011'], ['28', '01', '2011'], ['04', '02', '2011'], ['11', '02', '2011'], ['18', '02', '2011'], ['25', '02', '2011'], ['04', '03', '2011'], ['11', '03', '2011'], ['18', '03', '2011'], ['25', '03', '2011'], ['01', '04', '2011'], ['08', '04', '2011'], ['15', '04', '2011'], ['22', '04', '2011'], ['29', '04', '2011'], ['06', '05', '2011'], ['13', '05', '2011'], ['20', '05', '2011'], ['27', '05', '2011'], ['03', '06', '2011'], ['10', '06', '2011'], ['17', '06', '2011'], ['24', '06', '2011'], ['01', '07', '2011'], ['08', '07', '2011'], ['15', '07', '2011'], ['22', '07', '2011'], ['29', '07', '2011'], ['05', '08', '2011'], ['12', '08', '2011'], ['19', '08', '2011'], ['26', '08', '2011'], ['02', '09', '2011'], ['09', '09', '2011'], ['16', '09', '2011'], ['23', '09', '2011'], ['30', '09', '2011'], ['07', '10', '2011'], ['14', '10', '2011'], ['21', '10', '2011'], ['28', '10', '2011'], ['04', '11', '2011'], ['11', '11', '2011'], ['18', '11', '2011'], ['25', '11', '2011'], ['02', '12', '2011'], ['09', '12', '2011'], ['16', '12', '2011'], ['23', '12', '2011'], ['30', '12', '2011'], ['06', '01', '2012'], ['13', '01', '2012'], ['20', '01', '2012'], ['27', '01', '2012'], ['03', '02', '2012'], ['10', '02', '2012'], ['17', '02', '2012'], ['24', '02', '2012'], ['02', '03', '2012'], ['09', '03', '2012'], ['16', '03', '2012'], ['23', '03', '2012'], ['30', '03', '2012'], ['06', '04', '2012'], ['13', '04', '2012'], ['20', '04', '2012'], ['27', '04', '2012'], ['04', '05', '2012'], ['11', '05', '2012'], ['18', '05', '2012'], ['25', '05', '2012'], ['01', '06', '2012'], ['08', '06', '2012'], ['15', '06', '2012'], ['22', '06', '2012'], ['29', '06', '2012'], ['06', '07', '2012'], ['13', '07', '2012'], ['20', '07', '2012'], ['27', '07', '2012'], ['03', '08', '2012'], ['10', '08', '2012'], ['17', '08', '2012'], ['24', '08', '2012'], ['31', '08', '2012'], ['07', '09', '2012'], ['14', '09', '2012'], ['21', '09', '2012'], ['28', '09', '2012'], ['05', '10', '2012'], ['12', '10', '2012'], ['19', '10', '2012'], ['26', '10', '2012'], ['05', '02', '2010'], ['12', '02', '2010'], ['19', '02', '2010'], ['26', '02', '2010'], ['05', '03', '2010'], ['12', '03', '2010'], ['19', '03', '2010'], ['26', '03', '2010'], ['02', '04', '2010'], ['09', '04', '2010'], ['16', '04', '2010'], ['23', '04', '2010'], ['30', '04', '2010'], ['07', '05', '2010'], ['14', '05', '2010'], ['21', '05', '2010'], ['28', '05', '2010'], ['04', '06', '2010'], ['11', '06', '2010'], ['18', '06', '2010'], ['25', '06', '2010'], ['02', '07', '2010'], ['09', '07', '2010'], ['16', '07', '2010'], ['23', '07', '2010'], ['30', '07', '2010'], ['06', '08', '2010'], ['13', '08', '2010'], ['20', '08', '2010'], ['27', '08', '2010'], ['03', '09', '2010'], ['10', '09', '2010'], ['17', '09', '2010'], ['24', '09', '2010'], ['01', '10', '2010'], ['08', '10', '2010'], ['15', '10', '2010'], ['22', '10', '2010'], ['29', '10', '2010'], ['05', '11', '2010'], ['12', '11', '2010'], ['19', '11', '2010'], ['26', '11', '2010'], ['03', '12', '2010'], ['10', '12', '2010'], ['17', '12', '2010'], ['24', '12', '2010'], ['31', '12', '2010'], ['07', '01', '2011'], ['14', '01', '2011'], ['21', '01', '2011'], ['28', '01', '2011'], ['04', '02', '2011'], ['11', '02', '2011'], ['18', '02', '2011'], ['25', '02', '2011'], ['04', '03', '2011'], ['11', '03', '2011'], ['18', '03', '2011'], ['25', '03', '2011'], ['01', '04', '2011'], ['08', '04', '2011'], ['15', '04', '2011'], ['22', '04', '2011'], ['29', '04', '2011'], ['06', '05', '2011'], ['13', '05', '2011'], ['20', '05', '2011'], ['27', '05', '2011'], ['03', '06', '2011'], ['10', '06', '2011'], ['17', '06', '2011'], ['24', '06', '2011'], ['01', '07', '2011'], ['08', '07', '2011'], ['15', '07', '2011'], ['22', '07', '2011'], ['29', '07', '2011'], ['05', '08', '2011'], ['12', '08', '2011'], ['19', '08', '2011'], ['26', '08', '2011'], ['02', '09', '2011'], ['09', '09', '2011'], ['16', '09', '2011'], ['23', '09', '2011'], ['30', '09', '2011'], ['07', '10', '2011'], ['14', '10', '2011'], ['21', '10', '2011'], ['28', '10', '2011'], ['04', '11', '2011'], ['11', '11', '2011'], ['18', '11', '2011'], ['25', '11', '2011'], ['02', '12', '2011'], ['09', '12', '2011'], ['16', '12', '2011'], ['23', '12', '2011'], ['30', '12', '2011'], ['06', '01', '2012'], ['13', '01', '2012'], ['20', '01', '2012'], ['27', '01', '2012'], ['03', '02', '2012'], ['10', '02', '2012'], ['17', '02', '2012'], ['24', '02', '2012'], ['02', '03', '2012'], ['09', '03', '2012'], ['16', '03', '2012'], ['23', '03', '2012'], ['30', '03', '2012'], ['06', '04', '2012'], ['13', '04', '2012'], ['20', '04', '2012'], ['27', '04', '2012'], ['04', '05', '2012'], ['11', '05', '2012'], ['18', '05', '2012'], ['25', '05', '2012'], ['01', '06', '2012'], ['08', '06', '2012'], ['15', '06', '2012'], ['22', '06', '2012'], ['29', '06', '2012'], ['06', '07', '2012'], ['13', '07', '2012'], ['20', '07', '2012'], ['27', '07', '2012'], ['03', '08', '2012'], ['10', '08', '2012'], ['17', '08', '2012'], ['24', '08', '2012'], ['31', '08', '2012'], ['07', '09', '2012'], ['14', '09', '2012'], ['21', '09', '2012'], ['28', '09', '2012'], ['05', '10', '2012'], ['12', '10', '2012'], ['19', '10', '2012'], ['26', '10', '2012'], ['05', '02', '2010'], ['12', '02', '2010'], ['19', '02', '2010'], ['26', '02', '2010'], ['05', '03', '2010'], ['12', '03', '2010'], ['19', '03', '2010'], ['26', '03', '2010'], ['02', '04', '2010'], ['09', '04', '2010'], ['16', '04', '2010'], ['23', '04', '2010'], ['30', '04', '2010'], ['07', '05', '2010'], ['14', '05', '2010'], ['21', '05', '2010'], ['28', '05', '2010'], ['04', '06', '2010'], ['11', '06', '2010'], ['18', '06', '2010'], ['25', '06', '2010'], ['02', '07', '2010'], ['09', '07', '2010'], ['16', '07', '2010'], ['23', '07', '2010'], ['30', '07', '2010'], ['06', '08', '2010'], ['13', '08', '2010'], ['20', '08', '2010'], ['27', '08', '2010'], ['03', '09', '2010'], ['10', '09', '2010'], ['17', '09', '2010'], ['24', '09', '2010'], ['01', '10', '2010'], ['08', '10', '2010'], ['15', '10', '2010'], ['22', '10', '2010'], ['29', '10', '2010'], ['05', '11', '2010'], ['12', '11', '2010'], ['19', '11', '2010'], ['26', '11', '2010'], ['03', '12', '2010'], ['10', '12', '2010'], ['17', '12', '2010'], ['24', '12', '2010'], ['31', '12', '2010'], ['07', '01', '2011'], ['14', '01', '2011'], ['21', '01', '2011'], ['28', '01', '2011'], ['04', '02', '2011'], ['11', '02', '2011'], ['18', '02', '2011'], ['25', '02', '2011'], ['04', '03', '2011'], ['11', '03', '2011'], ['18', '03', '2011'], ['25', '03', '2011'], ['01', '04', '2011'], ['08', '04', '2011'], ['15', '04', '2011'], ['22', '04', '2011'], ['29', '04', '2011'], ['06', '05', '2011'], ['13', '05', '2011'], ['20', '05', '2011'], ['27', '05', '2011'], ['03', '06', '2011'], ['10', '06', '2011'], ['17', '06', '2011'], ['24', '06', '2011'], ['01', '07', '2011'], ['08', '07', '2011'], ['15', '07', '2011'], ['22', '07', '2011'], ['29', '07', '2011'], ['05', '08', '2011'], ['12', '08', '2011'], ['19', '08', '2011'], ['26', '08', '2011'], ['02', '09', '2011'], ['09', '09', '2011'], ['16', '09', '2011'], ['23', '09', '2011'], ['30', '09', '2011'], ['07', '10', '2011'], ['14', '10', '2011'], ['21', '10', '2011'], ['28', '10', '2011'], ['04', '11', '2011'], ['11', '11', '2011'], ['18', '11', '2011'], ['25', '11', '2011'], ['02', '12', '2011'], ['09', '12', '2011'], ['16', '12', '2011'], ['23', '12', '2011'], ['30', '12', '2011'], ['06', '01', '2012'], ['13', '01', '2012'], ['20', '01', '2012'], ['27', '01', '2012'], ['03', '02', '2012'], ['10', '02', '2012'], ['17', '02', '2012'], ['24', '02', '2012'], ['02', '03', '2012'], ['09', '03', '2012'], ['16', '03', '2012'], ['23', '03', '2012'], ['30', '03', '2012'], ['06', '04', '2012'], ['13', '04', '2012'], ['20', '04', '2012'], ['27', '04', '2012'], ['04', '05', '2012'], ['11', '05', '2012'], ['18', '05', '2012'], ['25', '05', '2012'], ['01', '06', '2012'], ['08', '06', '2012'], ['15', '06', '2012'], ['22', '06', '2012'], ['29', '06', '2012'], ['06', '07', '2012'], ['13', '07', '2012'], ['20', '07', '2012'], ['27', '07', '2012'], ['03', '08', '2012'], ['10', '08', '2012'], ['17', '08', '2012'], ['24', '08', '2012'], ['31', '08', '2012'], ['07', '09', '2012'], ['14', '09', '2012'], ['21', '09', '2012'], ['28', '09', '2012'], ['05', '10', '2012'], ['12', '10', '2012'], ['19', '10', '2012'], ['26', '10', '2012'], ['05', '02', '2010'], ['12', '02', '2010'], ['19', '02', '2010'], ['26', '02', '2010'], ['05', '03', '2010'], ['12', '03', '2010'], ['19', '03', '2010'], ['26', '03', '2010'], ['02', '04', '2010'], ['09', '04', '2010'], ['16', '04', '2010'], ['23', '04', '2010'], ['30', '04', '2010'], ['07', '05', '2010'], ['14', '05', '2010'], ['21', '05', '2010'], ['28', '05', '2010'], ['04', '06', '2010'], ['11', '06', '2010'], ['18', '06', '2010'], ['25', '06', '2010'], ['02', '07', '2010'], ['09', '07', '2010'], ['16', '07', '2010'], ['23', '07', '2010'], ['30', '07', '2010'], ['06', '08', '2010'], ['13', '08', '2010'], ['20', '08', '2010'], ['27', '08', '2010'], ['03', '09', '2010'], ['10', '09', '2010'], ['17', '09', '2010'], ['24', '09', '2010'], ['01', '10', '2010'], ['08', '10', '2010'], ['15', '10', '2010'], ['22', '10', '2010'], ['29', '10', '2010'], ['05', '11', '2010'], ['12', '11', '2010'], ['19', '11', '2010'], ['26', '11', '2010'], ['03', '12', '2010'], ['10', '12', '2010'], ['17', '12', '2010'], ['24', '12', '2010'], ['31', '12', '2010'], ['07', '01', '2011'], ['14', '01', '2011'], ['21', '01', '2011'], ['28', '01', '2011'], ['04', '02', '2011'], ['11', '02', '2011'], ['18', '02', '2011'], ['25', '02', '2011'], ['04', '03', '2011'], ['11', '03', '2011'], ['18', '03', '2011'], ['25', '03', '2011'], ['01', '04', '2011'], ['08', '04', '2011'], ['15', '04', '2011'], ['22', '04', '2011'], ['29', '04', '2011'], ['06', '05', '2011'], ['13', '05', '2011'], ['20', '05', '2011'], ['27', '05', '2011'], ['03', '06', '2011'], ['10', '06', '2011'], ['17', '06', '2011'], ['24', '06', '2011'], ['01', '07', '2011'], ['08', '07', '2011'], ['15', '07', '2011'], ['22', '07', '2011'], ['29', '07', '2011'], ['05', '08', '2011'], ['12', '08', '2011'], ['19', '08', '2011'], ['26', '08', '2011'], ['02', '09', '2011'], ['09', '09', '2011'], ['16', '09', '2011'], ['23', '09', '2011'], ['30', '09', '2011'], ['07', '10', '2011'], ['14', '10', '2011'], ['21', '10', '2011'], ['28', '10', '2011'], ['04', '11', '2011'], ['11', '11', '2011'], ['18', '11', '2011'], ['25', '11', '2011'], ['02', '12', '2011'], ['09', '12', '2011'], ['16', '12', '2011'], ['23', '12', '2011'], ['30', '12', '2011'], ['06', '01', '2012'], ['13', '01', '2012'], ['20', '01', '2012'], ['27', '01', '2012'], ['03', '02', '2012'], ['10', '02', '2012'], ['17', '02', '2012'], ['24', '02', '2012'], ['02', '03', '2012'], ['09', '03', '2012'], ['16', '03', '2012'], ['23', '03', '2012'], ['30', '03', '2012'], ['06', '04', '2012'], ['13', '04', '2012'], ['20', '04', '2012'], ['27', '04', '2012'], ['04', '05', '2012'], ['11', '05', '2012'], ['18', '05', '2012'], ['25', '05', '2012'], ['01', '06', '2012'], ['08', '06', '2012'], ['15', '06', '2012'], ['22', '06', '2012'], ['29', '06', '2012'], ['06', '07', '2012'], ['13', '07', '2012'], ['20', '07', '2012'], ['27', '07', '2012'], ['03', '08', '2012'], ['10', '08', '2012'], ['17', '08', '2012'], ['24', '08', '2012'], ['31', '08', '2012'], ['07', '09', '2012'], ['14', '09', '2012'], ['21', '09', '2012'], ['28', '09', '2012'], ['05', '10', '2012'], ['12', '10', '2012'], ['19', '10', '2012'], ['26', '10', '2012'], ['05', '02', '2010'], ['12', '02', '2010'], ['19', '02', '2010'], ['26', '02', '2010'], ['05', '03', '2010'], ['12', '03', '2010'], ['19', '03', '2010'], ['26', '03', '2010'], ['02', '04', '2010'], ['09', '04', '2010'], ['16', '04', '2010'], ['23', '04', '2010'], ['30', '04', '2010'], ['07', '05', '2010'], ['14', '05', '2010'], ['21', '05', '2010'], ['28', '05', '2010'], ['04', '06', '2010'], ['11', '06', '2010'], ['18', '06', '2010'], ['25', '06', '2010'], ['02', '07', '2010'], ['09', '07', '2010'], ['16', '07', '2010'], ['23', '07', '2010'], ['30', '07', '2010'], ['06', '08', '2010'], ['13', '08', '2010'], ['20', '08', '2010'], ['27', '08', '2010'], ['03', '09', '2010'], ['10', '09', '2010'], ['17', '09', '2010'], ['24', '09', '2010'], ['01', '10', '2010'], ['08', '10', '2010'], ['15', '10', '2010'], ['22', '10', '2010'], ['29', '10', '2010'], ['05', '11', '2010'], ['12', '11', '2010'], ['19', '11', '2010'], ['26', '11', '2010'], ['03', '12', '2010'], ['10', '12', '2010'], ['17', '12', '2010'], ['24', '12', '2010'], ['31', '12', '2010'], ['07', '01', '2011'], ['14', '01', '2011'], ['21', '01', '2011'], ['28', '01', '2011'], ['04', '02', '2011'], ['11', '02', '2011'], ['18', '02', '2011'], ['25', '02', '2011'], ['04', '03', '2011'], ['11', '03', '2011'], ['18', '03', '2011'], ['25', '03', '2011'], ['01', '04', '2011'], ['08', '04', '2011'], ['15', '04', '2011'], ['22', '04', '2011'], ['29', '04', '2011'], ['06', '05', '2011'], ['13', '05', '2011'], ['20', '05', '2011'], ['27', '05', '2011'], ['03', '06', '2011'], ['10', '06', '2011'], ['17', '06', '2011'], ['24', '06', '2011'], ['01', '07', '2011'], ['08', '07', '2011'], ['15', '07', '2011'], ['22', '07', '2011'], ['29', '07', '2011'], ['05', '08', '2011'], ['12', '08', '2011'], ['19', '08', '2011'], ['26', '08', '2011'], ['02', '09', '2011'], ['09', '09', '2011'], ['16', '09', '2011'], ['23', '09', '2011'], ['30', '09', '2011'], ['07', '10', '2011'], ['14', '10', '2011'], ['21', '10', '2011'], ['28', '10', '2011'], ['04', '11', '2011'], ['11', '11', '2011'], ['18', '11', '2011'], ['25', '11', '2011'], ['02', '12', '2011'], ['09', '12', '2011'], ['16', '12', '2011'], ['23', '12', '2011'], ['30', '12', '2011'], ['06', '01', '2012'], ['13', '01', '2012'], ['20', '01', '2012'], ['27', '01', '2012'], ['03', '02', '2012'], ['10', '02', '2012'], ['17', '02', '2012'], ['24', '02', '2012'], ['02', '03', '2012'], ['09', '03', '2012'], ['16', '03', '2012'], ['23', '03', '2012'], ['30', '03', '2012'], ['06', '04', '2012'], ['13', '04', '2012'], ['20', '04', '2012'], ['27', '04', '2012'], ['04', '05', '2012'], ['11', '05', '2012'], ['18', '05', '2012'], ['25', '05', '2012'], ['01', '06', '2012'], ['08', '06', '2012'], ['15', '06', '2012'], ['22', '06', '2012'], ['29', '06', '2012'], ['06', '07', '2012'], ['13', '07', '2012'], ['20', '07', '2012'], ['27', '07', '2012'], ['03', '08', '2012'], ['10', '08', '2012'], ['17', '08', '2012'], ['24', '08', '2012'], ['31', '08', '2012'], ['07', '09', '2012'], ['14', '09', '2012'], ['21', '09', '2012'], ['28', '09', '2012'], ['05', '10', '2012'], ['12', '10', '2012'], ['19', '10', '2012'], ['26', '10', '2012'], ['05', '02', '2010'], ['12', '02', '2010'], ['19', '02', '2010'], ['26', '02', '2010'], ['05', '03', '2010'], ['12', '03', '2010'], ['19', '03', '2010'], ['26', '03', '2010'], ['02', '04', '2010'], ['09', '04', '2010'], ['16', '04', '2010'], ['23', '04', '2010'], ['30', '04', '2010'], ['07', '05', '2010'], ['14', '05', '2010'], ['21', '05', '2010'], ['28', '05', '2010'], ['04', '06', '2010'], ['11', '06', '2010'], ['18', '06', '2010'], ['25', '06', '2010'], ['02', '07', '2010'], ['09', '07', '2010'], ['16', '07', '2010'], ['23', '07', '2010'], ['30', '07', '2010'], ['06', '08', '2010'], ['13', '08', '2010'], ['20', '08', '2010'], ['27', '08', '2010'], ['03', '09', '2010'], ['10', '09', '2010'], ['17', '09', '2010'], ['24', '09', '2010'], ['01', '10', '2010'], ['08', '10', '2010'], ['15', '10', '2010'], ['22', '10', '2010'], ['29', '10', '2010'], ['05', '11', '2010'], ['12', '11', '2010'], ['19', '11', '2010'], ['26', '11', '2010'], ['03', '12', '2010'], ['10', '12', '2010'], ['17', '12', '2010'], ['24', '12', '2010'], ['31', '12', '2010'], ['07', '01', '2011'], ['14', '01', '2011'], ['21', '01', '2011'], ['28', '01', '2011'], ['04', '02', '2011'], ['11', '02', '2011'], ['18', '02', '2011'], ['25', '02', '2011'], ['04', '03', '2011'], ['11', '03', '2011'], ['18', '03', '2011'], ['25', '03', '2011'], ['01', '04', '2011'], ['08', '04', '2011'], ['15', '04', '2011'], ['22', '04', '2011'], ['29', '04', '2011'], ['06', '05', '2011'], ['13', '05', '2011'], ['20', '05', '2011'], ['27', '05', '2011'], ['03', '06', '2011'], ['10', '06', '2011'], ['17', '06', '2011'], ['24', '06', '2011'], ['01', '07', '2011'], ['08', '07', '2011'], ['15', '07', '2011'], ['22', '07', '2011'], ['29', '07', '2011'], ['05', '08', '2011'], ['12', '08', '2011'], ['19', '08', '2011'], ['26', '08', '2011'], ['02', '09', '2011'], ['09', '09', '2011'], ['16', '09', '2011'], ['23', '09', '2011'], ['30', '09', '2011'], ['07', '10', '2011'], ['14', '10', '2011'], ['21', '10', '2011'], ['28', '10', '2011'], ['04', '11', '2011'], ['11', '11', '2011'], ['18', '11', '2011'], ['25', '11', '2011'], ['02', '12', '2011'], ['09', '12', '2011'], ['16', '12', '2011'], ['23', '12', '2011'], ['30', '12', '2011'], ['06', '01', '2012'], ['13', '01', '2012'], ['20', '01', '2012'], ['27', '01', '2012'], ['03', '02', '2012'], ['10', '02', '2012'], ['17', '02', '2012'], ['24', '02', '2012'], ['02', '03', '2012'], ['09', '03', '2012'], ['16', '03', '2012'], ['23', '03', '2012'], ['30', '03', '2012'], ['06', '04', '2012'], ['13', '04', '2012'], ['20', '04', '2012'], ['27', '04', '2012'], ['04', '05', '2012'], ['11', '05', '2012'], ['18', '05', '2012'], ['25', '05', '2012'], ['01', '06', '2012'], ['08', '06', '2012'], ['15', '06', '2012'], ['22', '06', '2012'], ['29', '06', '2012'], ['06', '07', '2012'], ['13', '07', '2012'], ['20', '07', '2012'], ['27', '07', '2012'], ['03', '08', '2012'], ['10', '08', '2012'], ['17', '08', '2012'], ['24', '08', '2012'], ['31', '08', '2012'], ['07', '09', '2012'], ['14', '09', '2012'], ['21', '09', '2012'], ['28', '09', '2012'], ['05', '10', '2012'], ['12', '10', '2012'], ['19', '10', '2012'], ['26', '10', '2012'], ['05', '02', '2010'], ['12', '02', '2010'], ['19', '02', '2010'], ['26', '02', '2010'], ['05', '03', '2010'], ['12', '03', '2010'], ['19', '03', '2010'], ['26', '03', '2010'], ['02', '04', '2010'], ['09', '04', '2010'], ['16', '04', '2010'], ['23', '04', '2010'], ['30', '04', '2010'], ['07', '05', '2010'], ['14', '05', '2010'], ['21', '05', '2010'], ['28', '05', '2010'], ['04', '06', '2010'], ['11', '06', '2010'], ['18', '06', '2010'], ['25', '06', '2010'], ['02', '07', '2010'], ['09', '07', '2010'], ['16', '07', '2010'], ['23', '07', '2010'], ['30', '07', '2010'], ['06', '08', '2010'], ['13', '08', '2010'], ['20', '08', '2010'], ['27', '08', '2010'], ['03', '09', '2010'], ['10', '09', '2010'], ['17', '09', '2010'], ['24', '09', '2010'], ['01', '10', '2010'], ['08', '10', '2010'], ['15', '10', '2010'], ['22', '10', '2010'], ['29', '10', '2010'], ['05', '11', '2010'], ['12', '11', '2010'], ['19', '11', '2010'], ['26', '11', '2010'], ['03', '12', '2010'], ['10', '12', '2010'], ['17', '12', '2010'], ['24', '12', '2010'], ['31', '12', '2010'], ['07', '01', '2011'], ['14', '01', '2011'], ['21', '01', '2011'], ['28', '01', '2011'], ['04', '02', '2011'], ['11', '02', '2011'], ['18', '02', '2011'], ['25', '02', '2011'], ['04', '03', '2011'], ['11', '03', '2011'], ['18', '03', '2011'], ['25', '03', '2011'], ['01', '04', '2011'], ['08', '04', '2011'], ['15', '04', '2011'], ['22', '04', '2011'], ['29', '04', '2011'], ['06', '05', '2011'], ['13', '05', '2011'], ['20', '05', '2011'], ['27', '05', '2011'], ['03', '06', '2011'], ['10', '06', '2011'], ['17', '06', '2011'], ['24', '06', '2011'], ['01', '07', '2011'], ['08', '07', '2011'], ['15', '07', '2011'], ['22', '07', '2011'], ['29', '07', '2011'], ['05', '08', '2011'], ['12', '08', '2011'], ['19', '08', '2011'], ['26', '08', '2011'], ['02', '09', '2011'], ['09', '09', '2011'], ['16', '09', '2011'], ['23', '09', '2011'], ['30', '09', '2011'], ['07', '10', '2011'], ['14', '10', '2011'], ['21', '10', '2011'], ['28', '10', '2011'], ['04', '11', '2011'], ['11', '11', '2011'], ['18', '11', '2011'], ['25', '11', '2011'], ['02', '12', '2011'], ['09', '12', '2011'], ['16', '12', '2011'], ['23', '12', '2011'], ['30', '12', '2011'], ['06', '01', '2012'], ['13', '01', '2012'], ['20', '01', '2012'], ['27', '01', '2012'], ['03', '02', '2012'], ['10', '02', '2012'], ['17', '02', '2012'], ['24', '02', '2012'], ['02', '03', '2012'], ['09', '03', '2012'], ['16', '03', '2012'], ['23', '03', '2012'], ['30', '03', '2012'], ['06', '04', '2012'], ['13', '04', '2012'], ['20', '04', '2012'], ['27', '04', '2012'], ['04', '05', '2012'], ['11', '05', '2012'], ['18', '05', '2012'], ['25', '05', '2012'], ['01', '06', '2012'], ['08', '06', '2012'], ['15', '06', '2012'], ['22', '06', '2012'], ['29', '06', '2012'], ['06', '07', '2012'], ['13', '07', '2012'], ['20', '07', '2012'], ['27', '07', '2012'], ['03', '08', '2012'], ['10', '08', '2012'], ['17', '08', '2012'], ['24', '08', '2012'], ['31', '08', '2012'], ['07', '09', '2012'], ['14', '09', '2012'], ['21', '09', '2012'], ['28', '09', '2012'], ['05', '10', '2012'], ['12', '10', '2012'], ['19', '10', '2012'], ['26', '10', '2012'], ['05', '02', '2010'], ['12', '02', '2010'], ['19', '02', '2010'], ['26', '02', '2010'], ['05', '03', '2010'], ['12', '03', '2010'], ['19', '03', '2010'], ['26', '03', '2010'], ['02', '04', '2010'], ['09', '04', '2010'], ['16', '04', '2010'], ['23', '04', '2010'], ['30', '04', '2010'], ['07', '05', '2010'], ['14', '05', '2010'], ['21', '05', '2010'], ['28', '05', '2010'], ['04', '06', '2010'], ['11', '06', '2010'], ['18', '06', '2010'], ['25', '06', '2010'], ['02', '07', '2010'], ['09', '07', '2010'], ['16', '07', '2010'], ['23', '07', '2010'], ['30', '07', '2010'], ['06', '08', '2010'], ['13', '08', '2010'], ['20', '08', '2010'], ['27', '08', '2010'], ['03', '09', '2010'], ['10', '09', '2010'], ['17', '09', '2010'], ['24', '09', '2010'], ['01', '10', '2010'], ['08', '10', '2010'], ['15', '10', '2010'], ['22', '10', '2010'], ['29', '10', '2010'], ['05', '11', '2010'], ['12', '11', '2010'], ['19', '11', '2010'], ['26', '11', '2010'], ['03', '12', '2010'], ['10', '12', '2010'], ['17', '12', '2010'], ['24', '12', '2010'], ['31', '12', '2010'], ['07', '01', '2011'], ['14', '01', '2011'], ['21', '01', '2011'], ['28', '01', '2011'], ['04', '02', '2011'], ['11', '02', '2011'], ['18', '02', '2011'], ['25', '02', '2011'], ['04', '03', '2011'], ['11', '03', '2011'], ['18', '03', '2011'], ['25', '03', '2011'], ['01', '04', '2011'], ['08', '04', '2011'], ['15', '04', '2011'], ['22', '04', '2011'], ['29', '04', '2011'], ['06', '05', '2011'], ['13', '05', '2011'], ['20', '05', '2011'], ['27', '05', '2011'], ['03', '06', '2011'], ['10', '06', '2011'], ['17', '06', '2011'], ['24', '06', '2011'], ['01', '07', '2011'], ['08', '07', '2011'], ['15', '07', '2011'], ['22', '07', '2011'], ['29', '07', '2011'], ['05', '08', '2011'], ['12', '08', '2011'], ['19', '08', '2011'], ['26', '08', '2011'], ['02', '09', '2011'], ['09', '09', '2011'], ['16', '09', '2011'], ['23', '09', '2011'], ['30', '09', '2011'], ['07', '10', '2011'], ['14', '10', '2011'], ['21', '10', '2011'], ['28', '10', '2011'], ['04', '11', '2011'], ['11', '11', '2011'], ['18', '11', '2011'], ['25', '11', '2011'], ['02', '12', '2011'], ['09', '12', '2011'], ['16', '12', '2011'], ['23', '12', '2011'], ['30', '12', '2011'], ['06', '01', '2012'], ['13', '01', '2012'], ['20', '01', '2012'], ['27', '01', '2012'], ['03', '02', '2012'], ['10', '02', '2012'], ['17', '02', '2012'], ['24', '02', '2012'], ['02', '03', '2012'], ['09', '03', '2012'], ['16', '03', '2012'], ['23', '03', '2012'], ['30', '03', '2012'], ['06', '04', '2012'], ['13', '04', '2012'], ['20', '04', '2012'], ['27', '04', '2012'], ['04', '05', '2012'], ['11', '05', '2012'], ['18', '05', '2012'], ['25', '05', '2012'], ['01', '06', '2012'], ['08', '06', '2012'], ['15', '06', '2012'], ['22', '06', '2012'], ['29', '06', '2012'], ['06', '07', '2012'], ['13', '07', '2012'], ['20', '07', '2012'], ['27', '07', '2012'], ['03', '08', '2012'], ['10', '08', '2012'], ['17', '08', '2012'], ['24', '08', '2012'], ['31', '08', '2012'], ['07', '09', '2012'], ['14', '09', '2012'], ['21', '09', '2012'], ['28', '09', '2012'], ['05', '10', '2012'], ['12', '10', '2012'], ['19', '10', '2012'], ['26', '10', '2012'], ['05', '02', '2010'], ['12', '02', '2010'], ['19', '02', '2010'], ['26', '02', '2010'], ['05', '03', '2010'], ['12', '03', '2010'], ['19', '03', '2010'], ['26', '03', '2010'], ['02', '04', '2010'], ['09', '04', '2010'], ['16', '04', '2010'], ['23', '04', '2010'], ['30', '04', '2010'], ['07', '05', '2010'], ['14', '05', '2010'], ['21', '05', '2010'], ['28', '05', '2010'], ['04', '06', '2010'], ['11', '06', '2010'], ['18', '06', '2010'], ['25', '06', '2010'], ['02', '07', '2010'], ['09', '07', '2010'], ['16', '07', '2010'], ['23', '07', '2010'], ['30', '07', '2010'], ['06', '08', '2010'], ['13', '08', '2010'], ['20', '08', '2010'], ['27', '08', '2010'], ['03', '09', '2010'], ['10', '09', '2010'], ['17', '09', '2010'], ['24', '09', '2010'], ['01', '10', '2010'], ['08', '10', '2010'], ['15', '10', '2010'], ['22', '10', '2010'], ['29', '10', '2010'], ['05', '11', '2010'], ['12', '11', '2010'], ['19', '11', '2010'], ['26', '11', '2010'], ['03', '12', '2010'], ['10', '12', '2010'], ['17', '12', '2010'], ['24', '12', '2010'], ['31', '12', '2010'], ['07', '01', '2011'], ['14', '01', '2011'], ['21', '01', '2011'], ['28', '01', '2011'], ['04', '02', '2011'], ['11', '02', '2011'], ['18', '02', '2011'], ['25', '02', '2011'], ['04', '03', '2011'], ['11', '03', '2011'], ['18', '03', '2011'], ['25', '03', '2011'], ['01', '04', '2011'], ['08', '04', '2011'], ['15', '04', '2011'], ['22', '04', '2011'], ['29', '04', '2011'], ['06', '05', '2011'], ['13', '05', '2011'], ['20', '05', '2011'], ['27', '05', '2011'], ['03', '06', '2011'], ['10', '06', '2011'], ['17', '06', '2011'], ['24', '06', '2011'], ['01', '07', '2011'], ['08', '07', '2011'], ['15', '07', '2011'], ['22', '07', '2011'], ['29', '07', '2011'], ['05', '08', '2011'], ['12', '08', '2011'], ['19', '08', '2011'], ['26', '08', '2011'], ['02', '09', '2011'], ['09', '09', '2011'], ['16', '09', '2011'], ['23', '09', '2011'], ['30', '09', '2011'], ['07', '10', '2011'], ['14', '10', '2011'], ['21', '10', '2011'], ['28', '10', '2011'], ['04', '11', '2011'], ['11', '11', '2011'], ['18', '11', '2011'], ['25', '11', '2011'], ['02', '12', '2011'], ['09', '12', '2011'], ['16', '12', '2011'], ['23', '12', '2011'], ['30', '12', '2011'], ['06', '01', '2012'], ['13', '01', '2012'], ['20', '01', '2012'], ['27', '01', '2012'], ['03', '02', '2012'], ['10', '02', '2012'], ['17', '02', '2012'], ['24', '02', '2012'], ['02', '03', '2012'], ['09', '03', '2012'], ['16', '03', '2012'], ['23', '03', '2012'], ['30', '03', '2012'], ['06', '04', '2012'], ['13', '04', '2012'], ['20', '04', '2012'], ['27', '04', '2012'], ['04', '05', '2012'], ['11', '05', '2012'], ['18', '05', '2012'], ['25', '05', '2012'], ['01', '06', '2012'], ['08', '06', '2012'], ['15', '06', '2012'], ['22', '06', '2012'], ['29', '06', '2012'], ['06', '07', '2012'], ['13', '07', '2012'], ['20', '07', '2012'], ['27', '07', '2012'], ['03', '08', '2012'], ['10', '08', '2012'], ['17', '08', '2012'], ['24', '08', '2012'], ['31', '08', '2012'], ['07', '09', '2012'], ['14', '09', '2012'], ['21', '09', '2012'], ['28', '09', '2012'], ['05', '10', '2012'], ['12', '10', '2012'], ['19', '10', '2012'], ['26', '10', '2012'], ['05', '02', '2010'], ['12', '02', '2010'], ['19', '02', '2010'], ['26', '02', '2010'], ['05', '03', '2010'], ['12', '03', '2010'], ['19', '03', '2010'], ['26', '03', '2010'], ['02', '04', '2010'], ['09', '04', '2010'], ['16', '04', '2010'], ['23', '04', '2010'], ['30', '04', '2010'], ['07', '05', '2010'], ['14', '05', '2010'], ['21', '05', '2010'], ['28', '05', '2010'], ['04', '06', '2010'], ['11', '06', '2010'], ['18', '06', '2010'], ['25', '06', '2010'], ['02', '07', '2010'], ['09', '07', '2010'], ['16', '07', '2010'], ['23', '07', '2010'], ['30', '07', '2010'], ['06', '08', '2010'], ['13', '08', '2010'], ['20', '08', '2010'], ['27', '08', '2010'], ['03', '09', '2010'], ['10', '09', '2010'], ['17', '09', '2010'], ['24', '09', '2010'], ['01', '10', '2010'], ['08', '10', '2010'], ['15', '10', '2010'], ['22', '10', '2010'], ['29', '10', '2010'], ['05', '11', '2010'], ['12', '11', '2010'], ['19', '11', '2010'], ['26', '11', '2010'], ['03', '12', '2010'], ['10', '12', '2010'], ['17', '12', '2010'], ['24', '12', '2010'], ['31', '12', '2010'], ['07', '01', '2011'], ['14', '01', '2011'], ['21', '01', '2011'], ['28', '01', '2011'], ['04', '02', '2011'], ['11', '02', '2011'], ['18', '02', '2011'], ['25', '02', '2011'], ['04', '03', '2011'], ['11', '03', '2011'], ['18', '03', '2011'], ['25', '03', '2011'], ['01', '04', '2011'], ['08', '04', '2011'], ['15', '04', '2011'], ['22', '04', '2011'], ['29', '04', '2011'], ['06', '05', '2011'], ['13', '05', '2011'], ['20', '05', '2011'], ['27', '05', '2011'], ['03', '06', '2011'], ['10', '06', '2011'], ['17', '06', '2011'], ['24', '06', '2011'], ['01', '07', '2011'], ['08', '07', '2011'], ['15', '07', '2011'], ['22', '07', '2011'], ['29', '07', '2011'], ['05', '08', '2011'], ['12', '08', '2011'], ['19', '08', '2011'], ['26', '08', '2011'], ['02', '09', '2011'], ['09', '09', '2011'], ['16', '09', '2011'], ['23', '09', '2011'], ['30', '09', '2011'], ['07', '10', '2011'], ['14', '10', '2011'], ['21', '10', '2011'], ['28', '10', '2011'], ['04', '11', '2011'], ['11', '11', '2011'], ['18', '11', '2011'], ['25', '11', '2011'], ['02', '12', '2011'], ['09', '12', '2011'], ['16', '12', '2011'], ['23', '12', '2011'], ['30', '12', '2011'], ['06', '01', '2012'], ['13', '01', '2012'], ['20', '01', '2012'], ['27', '01', '2012'], ['03', '02', '2012'], ['10', '02', '2012'], ['17', '02', '2012'], ['24', '02', '2012'], ['02', '03', '2012'], ['09', '03', '2012'], ['16', '03', '2012'], ['23', '03', '2012'], ['30', '03', '2012'], ['06', '04', '2012'], ['13', '04', '2012'], ['20', '04', '2012'], ['27', '04', '2012'], ['04', '05', '2012'], ['11', '05', '2012'], ['18', '05', '2012'], ['25', '05', '2012'], ['01', '06', '2012'], ['08', '06', '2012'], ['15', '06', '2012'], ['22', '06', '2012'], ['29', '06', '2012'], ['06', '07', '2012'], ['13', '07', '2012'], ['20', '07', '2012'], ['27', '07', '2012'], ['03', '08', '2012'], ['10', '08', '2012'], ['17', '08', '2012'], ['24', '08', '2012'], ['31', '08', '2012'], ['07', '09', '2012'], ['14', '09', '2012'], ['21', '09', '2012'], ['28', '09', '2012'], ['05', '10', '2012'], ['12', '10', '2012'], ['19', '10', '2012'], ['26', '10', '2012'], ['05', '02', '2010'], ['12', '02', '2010'], ['19', '02', '2010'], ['26', '02', '2010'], ['05', '03', '2010'], ['12', '03', '2010'], ['19', '03', '2010'], ['26', '03', '2010'], ['02', '04', '2010'], ['09', '04', '2010'], ['16', '04', '2010'], ['23', '04', '2010'], ['30', '04', '2010'], ['07', '05', '2010'], ['14', '05', '2010'], ['21', '05', '2010'], ['28', '05', '2010'], ['04', '06', '2010'], ['11', '06', '2010'], ['18', '06', '2010'], ['25', '06', '2010'], ['02', '07', '2010'], ['09', '07', '2010'], ['16', '07', '2010'], ['23', '07', '2010'], ['30', '07', '2010'], ['06', '08', '2010'], ['13', '08', '2010'], ['20', '08', '2010'], ['27', '08', '2010'], ['03', '09', '2010'], ['10', '09', '2010'], ['17', '09', '2010'], ['24', '09', '2010'], ['01', '10', '2010'], ['08', '10', '2010'], ['15', '10', '2010'], ['22', '10', '2010'], ['29', '10', '2010'], ['05', '11', '2010'], ['12', '11', '2010'], ['19', '11', '2010'], ['26', '11', '2010'], ['03', '12', '2010'], ['10', '12', '2010'], ['17', '12', '2010'], ['24', '12', '2010'], ['31', '12', '2010'], ['07', '01', '2011'], ['14', '01', '2011'], ['21', '01', '2011'], ['28', '01', '2011'], ['04', '02', '2011'], ['11', '02', '2011'], ['18', '02', '2011'], ['25', '02', '2011'], ['04', '03', '2011'], ['11', '03', '2011'], ['18', '03', '2011'], ['25', '03', '2011'], ['01', '04', '2011'], ['08', '04', '2011'], ['15', '04', '2011'], ['22', '04', '2011'], ['29', '04', '2011'], ['06', '05', '2011'], ['13', '05', '2011'], ['20', '05', '2011'], ['27', '05', '2011'], ['03', '06', '2011'], ['10', '06', '2011'], ['17', '06', '2011'], ['24', '06', '2011'], ['01', '07', '2011'], ['08', '07', '2011'], ['15', '07', '2011'], ['22', '07', '2011'], ['29', '07', '2011'], ['05', '08', '2011'], ['12', '08', '2011'], ['19', '08', '2011'], ['26', '08', '2011'], ['02', '09', '2011'], ['09', '09', '2011'], ['16', '09', '2011'], ['23', '09', '2011'], ['30', '09', '2011'], ['07', '10', '2011'], ['14', '10', '2011'], ['21', '10', '2011'], ['28', '10', '2011'], ['04', '11', '2011'], ['11', '11', '2011'], ['18', '11', '2011'], ['25', '11', '2011'], ['02', '12', '2011'], ['09', '12', '2011'], ['16', '12', '2011'], ['23', '12', '2011'], ['30', '12', '2011'], ['06', '01', '2012'], ['13', '01', '2012'], ['20', '01', '2012'], ['27', '01', '2012'], ['03', '02', '2012'], ['10', '02', '2012'], ['17', '02', '2012'], ['24', '02', '2012'], ['02', '03', '2012'], ['09', '03', '2012'], ['16', '03', '2012'], ['23', '03', '2012'], ['30', '03', '2012'], ['06', '04', '2012'], ['13', '04', '2012'], ['20', '04', '2012'], ['27', '04', '2012'], ['04', '05', '2012'], ['11', '05', '2012'], ['18', '05', '2012'], ['25', '05', '2012'], ['01', '06', '2012'], ['08', '06', '2012'], ['15', '06', '2012'], ['22', '06', '2012'], ['29', '06', '2012'], ['06', '07', '2012'], ['13', '07', '2012'], ['20', '07', '2012'], ['27', '07', '2012'], ['03', '08', '2012'], ['10', '08', '2012'], ['17', '08', '2012'], ['24', '08', '2012'], ['31', '08', '2012'], ['07', '09', '2012'], ['14', '09', '2012'], ['21', '09', '2012'], ['28', '09', '2012'], ['05', '10', '2012'], ['12', '10', '2012'], ['19', '10', '2012'], ['26', '10', '2012'], ['05', '02', '2010'], ['12', '02', '2010'], ['19', '02', '2010'], ['26', '02', '2010'], ['05', '03', '2010'], ['12', '03', '2010'], ['19', '03', '2010'], ['26', '03', '2010'], ['02', '04', '2010'], ['09', '04', '2010'], ['16', '04', '2010'], ['23', '04', '2010'], ['30', '04', '2010'], ['07', '05', '2010'], ['14', '05', '2010'], ['21', '05', '2010'], ['28', '05', '2010'], ['04', '06', '2010'], ['11', '06', '2010'], ['18', '06', '2010'], ['25', '06', '2010'], ['02', '07', '2010'], ['09', '07', '2010'], ['16', '07', '2010'], ['23', '07', '2010'], ['30', '07', '2010'], ['06', '08', '2010'], ['13', '08', '2010'], ['20', '08', '2010'], ['27', '08', '2010'], ['03', '09', '2010'], ['10', '09', '2010'], ['17', '09', '2010'], ['24', '09', '2010'], ['01', '10', '2010'], ['08', '10', '2010'], ['15', '10', '2010'], ['22', '10', '2010'], ['29', '10', '2010'], ['05', '11', '2010'], ['12', '11', '2010'], ['19', '11', '2010'], ['26', '11', '2010'], ['03', '12', '2010'], ['10', '12', '2010'], ['17', '12', '2010'], ['24', '12', '2010'], ['31', '12', '2010'], ['07', '01', '2011'], ['14', '01', '2011'], ['21', '01', '2011'], ['28', '01', '2011'], ['04', '02', '2011'], ['11', '02', '2011'], ['18', '02', '2011'], ['25', '02', '2011'], ['04', '03', '2011'], ['11', '03', '2011'], ['18', '03', '2011'], ['25', '03', '2011'], ['01', '04', '2011'], ['08', '04', '2011'], ['15', '04', '2011'], ['22', '04', '2011'], ['29', '04', '2011'], ['06', '05', '2011'], ['13', '05', '2011'], ['20', '05', '2011'], ['27', '05', '2011'], ['03', '06', '2011'], ['10', '06', '2011'], ['17', '06', '2011'], ['24', '06', '2011'], ['01', '07', '2011'], ['08', '07', '2011'], ['15', '07', '2011'], ['22', '07', '2011'], ['29', '07', '2011'], ['05', '08', '2011'], ['12', '08', '2011'], ['19', '08', '2011'], ['26', '08', '2011'], ['02', '09', '2011'], ['09', '09', '2011'], ['16', '09', '2011'], ['23', '09', '2011'], ['30', '09', '2011'], ['07', '10', '2011'], ['14', '10', '2011'], ['21', '10', '2011'], ['28', '10', '2011'], ['04', '11', '2011'], ['11', '11', '2011'], ['18', '11', '2011'], ['25', '11', '2011'], ['02', '12', '2011'], ['09', '12', '2011'], ['16', '12', '2011'], ['23', '12', '2011'], ['30', '12', '2011'], ['06', '01', '2012'], ['13', '01', '2012'], ['20', '01', '2012'], ['27', '01', '2012'], ['03', '02', '2012'], ['10', '02', '2012'], ['17', '02', '2012'], ['24', '02', '2012'], ['02', '03', '2012'], ['09', '03', '2012'], ['16', '03', '2012'], ['23', '03', '2012'], ['30', '03', '2012'], ['06', '04', '2012'], ['13', '04', '2012'], ['20', '04', '2012'], ['27', '04', '2012'], ['04', '05', '2012'], ['11', '05', '2012'], ['18', '05', '2012'], ['25', '05', '2012'], ['01', '06', '2012'], ['08', '06', '2012'], ['15', '06', '2012'], ['22', '06', '2012'], ['29', '06', '2012'], ['06', '07', '2012'], ['13', '07', '2012'], ['20', '07', '2012'], ['27', '07', '2012'], ['03', '08', '2012'], ['10', '08', '2012'], ['17', '08', '2012'], ['24', '08', '2012'], ['31', '08', '2012'], ['07', '09', '2012'], ['14', '09', '2012'], ['21', '09', '2012'], ['28', '09', '2012'], ['05', '10', '2012'], ['12', '10', '2012'], ['19', '10', '2012'], ['26', '10', '2012'], ['05', '02', '2010'], ['12', '02', '2010'], ['19', '02', '2010'], ['26', '02', '2010'], ['05', '03', '2010'], ['12', '03', '2010'], ['19', '03', '2010'], ['26', '03', '2010'], ['02', '04', '2010'], ['09', '04', '2010'], ['16', '04', '2010'], ['23', '04', '2010'], ['30', '04', '2010'], ['07', '05', '2010'], ['14', '05', '2010'], ['21', '05', '2010'], ['28', '05', '2010'], ['04', '06', '2010'], ['11', '06', '2010'], ['18', '06', '2010'], ['25', '06', '2010'], ['02', '07', '2010'], ['09', '07', '2010'], ['16', '07', '2010'], ['23', '07', '2010'], ['30', '07', '2010'], ['06', '08', '2010'], ['13', '08', '2010'], ['20', '08', '2010'], ['27', '08', '2010'], ['03', '09', '2010'], ['10', '09', '2010'], ['17', '09', '2010'], ['24', '09', '2010'], ['01', '10', '2010'], ['08', '10', '2010'], ['15', '10', '2010'], ['22', '10', '2010'], ['29', '10', '2010'], ['05', '11', '2010'], ['12', '11', '2010'], ['19', '11', '2010'], ['26', '11', '2010'], ['03', '12', '2010'], ['10', '12', '2010'], ['17', '12', '2010'], ['24', '12', '2010'], ['31', '12', '2010'], ['07', '01', '2011'], ['14', '01', '2011'], ['21', '01', '2011'], ['28', '01', '2011'], ['04', '02', '2011'], ['11', '02', '2011'], ['18', '02', '2011'], ['25', '02', '2011'], ['04', '03', '2011'], ['11', '03', '2011'], ['18', '03', '2011'], ['25', '03', '2011'], ['01', '04', '2011'], ['08', '04', '2011'], ['15', '04', '2011'], ['22', '04', '2011'], ['29', '04', '2011'], ['06', '05', '2011'], ['13', '05', '2011'], ['20', '05', '2011'], ['27', '05', '2011'], ['03', '06', '2011'], ['10', '06', '2011'], ['17', '06', '2011'], ['24', '06', '2011'], ['01', '07', '2011'], ['08', '07', '2011'], ['15', '07', '2011'], ['22', '07', '2011'], ['29', '07', '2011'], ['05', '08', '2011'], ['12', '08', '2011'], ['19', '08', '2011'], ['26', '08', '2011'], ['02', '09', '2011'], ['09', '09', '2011'], ['16', '09', '2011'], ['23', '09', '2011'], ['30', '09', '2011'], ['07', '10', '2011'], ['14', '10', '2011'], ['21', '10', '2011'], ['28', '10', '2011'], ['04', '11', '2011'], ['11', '11', '2011'], ['18', '11', '2011'], ['25', '11', '2011'], ['02', '12', '2011'], ['09', '12', '2011'], ['16', '12', '2011'], ['23', '12', '2011'], ['30', '12', '2011'], ['06', '01', '2012'], ['13', '01', '2012'], ['20', '01', '2012'], ['27', '01', '2012'], ['03', '02', '2012'], ['10', '02', '2012'], ['17', '02', '2012'], ['24', '02', '2012'], ['02', '03', '2012'], ['09', '03', '2012'], ['16', '03', '2012'], ['23', '03', '2012'], ['30', '03', '2012'], ['06', '04', '2012'], ['13', '04', '2012'], ['20', '04', '2012'], ['27', '04', '2012'], ['04', '05', '2012'], ['11', '05', '2012'], ['18', '05', '2012'], ['25', '05', '2012'], ['01', '06', '2012'], ['08', '06', '2012'], ['15', '06', '2012'], ['22', '06', '2012'], ['29', '06', '2012'], ['06', '07', '2012'], ['13', '07', '2012'], ['20', '07', '2012'], ['27', '07', '2012'], ['03', '08', '2012'], ['10', '08', '2012'], ['17', '08', '2012'], ['24', '08', '2012'], ['31', '08', '2012'], ['07', '09', '2012'], ['14', '09', '2012'], ['21', '09', '2012'], ['28', '09', '2012'], ['05', '10', '2012'], ['12', '10', '2012'], ['19', '10', '2012'], ['26', '10', '2012'], ['05', '02', '2010'], ['12', '02', '2010'], ['19', '02', '2010'], ['26', '02', '2010'], ['05', '03', '2010'], ['12', '03', '2010'], ['19', '03', '2010'], ['26', '03', '2010'], ['02', '04', '2010'], ['09', '04', '2010'], ['16', '04', '2010'], ['23', '04', '2010'], ['30', '04', '2010'], ['07', '05', '2010'], ['14', '05', '2010'], ['21', '05', '2010'], ['28', '05', '2010'], ['04', '06', '2010'], ['11', '06', '2010'], ['18', '06', '2010'], ['25', '06', '2010'], ['02', '07', '2010'], ['09', '07', '2010'], ['16', '07', '2010'], ['23', '07', '2010'], ['30', '07', '2010'], ['06', '08', '2010'], ['13', '08', '2010'], ['20', '08', '2010'], ['27', '08', '2010'], ['03', '09', '2010'], ['10', '09', '2010'], ['17', '09', '2010'], ['24', '09', '2010'], ['01', '10', '2010'], ['08', '10', '2010'], ['15', '10', '2010'], ['22', '10', '2010'], ['29', '10', '2010'], ['05', '11', '2010'], ['12', '11', '2010'], ['19', '11', '2010'], ['26', '11', '2010'], ['03', '12', '2010'], ['10', '12', '2010'], ['17', '12', '2010'], ['24', '12', '2010'], ['31', '12', '2010'], ['07', '01', '2011'], ['14', '01', '2011'], ['21', '01', '2011'], ['28', '01', '2011'], ['04', '02', '2011'], ['11', '02', '2011'], ['18', '02', '2011'], ['25', '02', '2011'], ['04', '03', '2011'], ['11', '03', '2011'], ['18', '03', '2011'], ['25', '03', '2011'], ['01', '04', '2011'], ['08', '04', '2011'], ['15', '04', '2011'], ['22', '04', '2011'], ['29', '04', '2011'], ['06', '05', '2011'], ['13', '05', '2011'], ['20', '05', '2011'], ['27', '05', '2011'], ['03', '06', '2011'], ['10', '06', '2011'], ['17', '06', '2011'], ['24', '06', '2011'], ['01', '07', '2011'], ['08', '07', '2011'], ['15', '07', '2011'], ['22', '07', '2011'], ['29', '07', '2011'], ['05', '08', '2011'], ['12', '08', '2011'], ['19', '08', '2011'], ['26', '08', '2011'], ['02', '09', '2011'], ['09', '09', '2011'], ['16', '09', '2011'], ['23', '09', '2011'], ['30', '09', '2011'], ['07', '10', '2011'], ['14', '10', '2011'], ['21', '10', '2011'], ['28', '10', '2011'], ['04', '11', '2011'], ['11', '11', '2011'], ['18', '11', '2011'], ['25', '11', '2011'], ['02', '12', '2011'], ['09', '12', '2011'], ['16', '12', '2011'], ['23', '12', '2011'], ['30', '12', '2011'], ['06', '01', '2012'], ['13', '01', '2012'], ['20', '01', '2012'], ['27', '01', '2012'], ['03', '02', '2012'], ['10', '02', '2012'], ['17', '02', '2012'], ['24', '02', '2012'], ['02', '03', '2012'], ['09', '03', '2012'], ['16', '03', '2012'], ['23', '03', '2012'], ['30', '03', '2012'], ['06', '04', '2012'], ['13', '04', '2012'], ['20', '04', '2012'], ['27', '04', '2012'], ['04', '05', '2012'], ['11', '05', '2012'], ['18', '05', '2012'], ['25', '05', '2012'], ['01', '06', '2012'], ['08', '06', '2012'], ['15', '06', '2012'], ['22', '06', '2012'], ['29', '06', '2012'], ['06', '07', '2012'], ['13', '07', '2012'], ['20', '07', '2012'], ['27', '07', '2012'], ['03', '08', '2012'], ['10', '08', '2012'], ['17', '08', '2012'], ['24', '08', '2012'], ['31', '08', '2012'], ['07', '09', '2012'], ['14', '09', '2012'], ['21', '09', '2012'], ['28', '09', '2012'], ['05', '10', '2012'], ['12', '10', '2012'], ['19', '10', '2012'], ['26', '10', '2012'], ['05', '02', '2010'], ['12', '02', '2010'], ['19', '02', '2010'], ['26', '02', '2010'], ['05', '03', '2010'], ['12', '03', '2010'], ['19', '03', '2010'], ['26', '03', '2010'], ['02', '04', '2010'], ['09', '04', '2010'], ['16', '04', '2010'], ['23', '04', '2010'], ['30', '04', '2010'], ['07', '05', '2010'], ['14', '05', '2010'], ['21', '05', '2010'], ['28', '05', '2010'], ['04', '06', '2010'], ['11', '06', '2010'], ['18', '06', '2010'], ['25', '06', '2010'], ['02', '07', '2010'], ['09', '07', '2010'], ['16', '07', '2010'], ['23', '07', '2010'], ['30', '07', '2010'], ['06', '08', '2010'], ['13', '08', '2010'], ['20', '08', '2010'], ['27', '08', '2010'], ['03', '09', '2010'], ['10', '09', '2010'], ['17', '09', '2010'], ['24', '09', '2010'], ['01', '10', '2010'], ['08', '10', '2010'], ['15', '10', '2010'], ['22', '10', '2010'], ['29', '10', '2010'], ['05', '11', '2010'], ['12', '11', '2010'], ['19', '11', '2010'], ['26', '11', '2010'], ['03', '12', '2010'], ['10', '12', '2010'], ['17', '12', '2010'], ['24', '12', '2010'], ['31', '12', '2010'], ['07', '01', '2011'], ['14', '01', '2011'], ['21', '01', '2011'], ['28', '01', '2011'], ['04', '02', '2011'], ['11', '02', '2011'], ['18', '02', '2011'], ['25', '02', '2011'], ['04', '03', '2011'], ['11', '03', '2011'], ['18', '03', '2011'], ['25', '03', '2011'], ['01', '04', '2011'], ['08', '04', '2011'], ['15', '04', '2011'], ['22', '04', '2011'], ['29', '04', '2011'], ['06', '05', '2011'], ['13', '05', '2011'], ['20', '05', '2011'], ['27', '05', '2011'], ['03', '06', '2011'], ['10', '06', '2011'], ['17', '06', '2011'], ['24', '06', '2011'], ['01', '07', '2011'], ['08', '07', '2011'], ['15', '07', '2011'], ['22', '07', '2011'], ['29', '07', '2011'], ['05', '08', '2011'], ['12', '08', '2011'], ['19', '08', '2011'], ['26', '08', '2011'], ['02', '09', '2011'], ['09', '09', '2011'], ['16', '09', '2011'], ['23', '09', '2011'], ['30', '09', '2011'], ['07', '10', '2011'], ['14', '10', '2011'], ['21', '10', '2011'], ['28', '10', '2011'], ['04', '11', '2011'], ['11', '11', '2011'], ['18', '11', '2011'], ['25', '11', '2011'], ['02', '12', '2011'], ['09', '12', '2011'], ['16', '12', '2011'], ['23', '12', '2011'], ['30', '12', '2011'], ['06', '01', '2012'], ['13', '01', '2012'], ['20', '01', '2012'], ['27', '01', '2012'], ['03', '02', '2012'], ['10', '02', '2012'], ['17', '02', '2012'], ['24', '02', '2012'], ['02', '03', '2012'], ['09', '03', '2012'], ['16', '03', '2012'], ['23', '03', '2012'], ['30', '03', '2012'], ['06', '04', '2012'], ['13', '04', '2012'], ['20', '04', '2012'], ['27', '04', '2012'], ['04', '05', '2012'], ['11', '05', '2012'], ['18', '05', '2012'], ['25', '05', '2012'], ['01', '06', '2012'], ['08', '06', '2012'], ['15', '06', '2012'], ['22', '06', '2012'], ['29', '06', '2012'], ['06', '07', '2012'], ['13', '07', '2012'], ['20', '07', '2012'], ['27', '07', '2012'], ['03', '08', '2012'], ['10', '08', '2012'], ['17', '08', '2012'], ['24', '08', '2012'], ['31', '08', '2012'], ['07', '09', '2012'], ['14', '09', '2012'], ['21', '09', '2012'], ['28', '09', '2012'], ['05', '10', '2012'], ['12', '10', '2012'], ['19', '10', '2012'], ['26', '10', '2012'], ['05', '02', '2010'], ['12', '02', '2010'], ['19', '02', '2010'], ['26', '02', '2010'], ['05', '03', '2010'], ['12', '03', '2010'], ['19', '03', '2010'], ['26', '03', '2010'], ['02', '04', '2010'], ['09', '04', '2010'], ['16', '04', '2010'], ['23', '04', '2010'], ['30', '04', '2010'], ['07', '05', '2010'], ['14', '05', '2010'], ['21', '05', '2010'], ['28', '05', '2010'], ['04', '06', '2010'], ['11', '06', '2010'], ['18', '06', '2010'], ['25', '06', '2010'], ['02', '07', '2010'], ['09', '07', '2010'], ['16', '07', '2010'], ['23', '07', '2010'], ['30', '07', '2010'], ['06', '08', '2010'], ['13', '08', '2010'], ['20', '08', '2010'], ['27', '08', '2010'], ['03', '09', '2010'], ['10', '09', '2010'], ['17', '09', '2010'], ['24', '09', '2010'], ['01', '10', '2010'], ['08', '10', '2010'], ['15', '10', '2010'], ['22', '10', '2010'], ['29', '10', '2010'], ['05', '11', '2010'], ['12', '11', '2010'], ['19', '11', '2010'], ['26', '11', '2010'], ['03', '12', '2010'], ['10', '12', '2010'], ['17', '12', '2010'], ['24', '12', '2010'], ['31', '12', '2010'], ['07', '01', '2011'], ['14', '01', '2011'], ['21', '01', '2011'], ['28', '01', '2011'], ['04', '02', '2011'], ['11', '02', '2011'], ['18', '02', '2011'], ['25', '02', '2011'], ['04', '03', '2011'], ['11', '03', '2011'], ['18', '03', '2011'], ['25', '03', '2011'], ['01', '04', '2011'], ['08', '04', '2011'], ['15', '04', '2011'], ['22', '04', '2011'], ['29', '04', '2011'], ['06', '05', '2011'], ['13', '05', '2011'], ['20', '05', '2011'], ['27', '05', '2011'], ['03', '06', '2011'], ['10', '06', '2011'], ['17', '06', '2011'], ['24', '06', '2011'], ['01', '07', '2011'], ['08', '07', '2011'], ['15', '07', '2011'], ['22', '07', '2011'], ['29', '07', '2011'], ['05', '08', '2011'], ['12', '08', '2011'], ['19', '08', '2011'], ['26', '08', '2011'], ['02', '09', '2011'], ['09', '09', '2011'], ['16', '09', '2011'], ['23', '09', '2011'], ['30', '09', '2011'], ['07', '10', '2011'], ['14', '10', '2011'], ['21', '10', '2011'], ['28', '10', '2011'], ['04', '11', '2011'], ['11', '11', '2011'], ['18', '11', '2011'], ['25', '11', '2011'], ['02', '12', '2011'], ['09', '12', '2011'], ['16', '12', '2011'], ['23', '12', '2011'], ['30', '12', '2011'], ['06', '01', '2012'], ['13', '01', '2012'], ['20', '01', '2012'], ['27', '01', '2012'], ['03', '02', '2012'], ['10', '02', '2012'], ['17', '02', '2012'], ['24', '02', '2012'], ['02', '03', '2012'], ['09', '03', '2012'], ['16', '03', '2012'], ['23', '03', '2012'], ['30', '03', '2012'], ['06', '04', '2012'], ['13', '04', '2012'], ['20', '04', '2012'], ['27', '04', '2012'], ['04', '05', '2012'], ['11', '05', '2012'], ['18', '05', '2012'], ['25', '05', '2012'], ['01', '06', '2012'], ['08', '06', '2012'], ['15', '06', '2012'], ['22', '06', '2012'], ['29', '06', '2012'], ['06', '07', '2012'], ['13', '07', '2012'], ['20', '07', '2012'], ['27', '07', '2012'], ['03', '08', '2012'], ['10', '08', '2012'], ['17', '08', '2012'], ['24', '08', '2012'], ['31', '08', '2012'], ['07', '09', '2012'], ['14', '09', '2012'], ['21', '09', '2012'], ['28', '09', '2012'], ['05', '10', '2012'], ['12', '10', '2012'], ['19', '10', '2012'], ['26', '10', '2012'], ['05', '02', '2010'], ['12', '02', '2010'], ['19', '02', '2010'], ['26', '02', '2010'], ['05', '03', '2010'], ['12', '03', '2010'], ['19', '03', '2010'], ['26', '03', '2010'], ['02', '04', '2010'], ['09', '04', '2010'], ['16', '04', '2010'], ['23', '04', '2010'], ['30', '04', '2010'], ['07', '05', '2010'], ['14', '05', '2010'], ['21', '05', '2010'], ['28', '05', '2010'], ['04', '06', '2010'], ['11', '06', '2010'], ['18', '06', '2010'], ['25', '06', '2010'], ['02', '07', '2010'], ['09', '07', '2010'], ['16', '07', '2010'], ['23', '07', '2010'], ['30', '07', '2010'], ['06', '08', '2010'], ['13', '08', '2010'], ['20', '08', '2010'], ['27', '08', '2010'], ['03', '09', '2010'], ['10', '09', '2010'], ['17', '09', '2010'], ['24', '09', '2010'], ['01', '10', '2010'], ['08', '10', '2010'], ['15', '10', '2010'], ['22', '10', '2010'], ['29', '10', '2010'], ['05', '11', '2010'], ['12', '11', '2010'], ['19', '11', '2010'], ['26', '11', '2010'], ['03', '12', '2010'], ['10', '12', '2010'], ['17', '12', '2010'], ['24', '12', '2010'], ['31', '12', '2010'], ['07', '01', '2011'], ['14', '01', '2011'], ['21', '01', '2011'], ['28', '01', '2011'], ['04', '02', '2011'], ['11', '02', '2011'], ['18', '02', '2011'], ['25', '02', '2011'], ['04', '03', '2011'], ['11', '03', '2011'], ['18', '03', '2011'], ['25', '03', '2011'], ['01', '04', '2011'], ['08', '04', '2011'], ['15', '04', '2011'], ['22', '04', '2011'], ['29', '04', '2011'], ['06', '05', '2011'], ['13', '05', '2011'], ['20', '05', '2011'], ['27', '05', '2011'], ['03', '06', '2011'], ['10', '06', '2011'], ['17', '06', '2011'], ['24', '06', '2011'], ['01', '07', '2011'], ['08', '07', '2011'], ['15', '07', '2011'], ['22', '07', '2011'], ['29', '07', '2011'], ['05', '08', '2011'], ['12', '08', '2011'], ['19', '08', '2011'], ['26', '08', '2011'], ['02', '09', '2011'], ['09', '09', '2011'], ['16', '09', '2011'], ['23', '09', '2011'], ['30', '09', '2011'], ['07', '10', '2011'], ['14', '10', '2011'], ['21', '10', '2011'], ['28', '10', '2011'], ['04', '11', '2011'], ['11', '11', '2011'], ['18', '11', '2011'], ['25', '11', '2011'], ['02', '12', '2011'], ['09', '12', '2011'], ['16', '12', '2011'], ['23', '12', '2011'], ['30', '12', '2011'], ['06', '01', '2012'], ['13', '01', '2012'], ['20', '01', '2012'], ['27', '01', '2012'], ['03', '02', '2012'], ['10', '02', '2012'], ['17', '02', '2012'], ['24', '02', '2012'], ['02', '03', '2012'], ['09', '03', '2012'], ['16', '03', '2012'], ['23', '03', '2012'], ['30', '03', '2012'], ['06', '04', '2012'], ['13', '04', '2012'], ['20', '04', '2012'], ['27', '04', '2012'], ['04', '05', '2012'], ['11', '05', '2012'], ['18', '05', '2012'], ['25', '05', '2012'], ['01', '06', '2012'], ['08', '06', '2012'], ['15', '06', '2012'], ['22', '06', '2012'], ['29', '06', '2012'], ['06', '07', '2012'], ['13', '07', '2012'], ['20', '07', '2012'], ['27', '07', '2012'], ['03', '08', '2012'], ['10', '08', '2012'], ['17', '08', '2012'], ['24', '08', '2012'], ['31', '08', '2012'], ['07', '09', '2012'], ['14', '09', '2012'], ['21', '09', '2012'], ['28', '09', '2012'], ['05', '10', '2012'], ['12', '10', '2012'], ['19', '10', '2012'], ['26', '10', '2012'], ['05', '02', '2010'], ['12', '02', '2010'], ['19', '02', '2010'], ['26', '02', '2010'], ['05', '03', '2010'], ['12', '03', '2010'], ['19', '03', '2010'], ['26', '03', '2010'], ['02', '04', '2010'], ['09', '04', '2010'], ['16', '04', '2010'], ['23', '04', '2010'], ['30', '04', '2010'], ['07', '05', '2010'], ['14', '05', '2010'], ['21', '05', '2010'], ['28', '05', '2010'], ['04', '06', '2010'], ['11', '06', '2010'], ['18', '06', '2010'], ['25', '06', '2010'], ['02', '07', '2010'], ['09', '07', '2010'], ['16', '07', '2010'], ['23', '07', '2010'], ['30', '07', '2010'], ['06', '08', '2010'], ['13', '08', '2010'], ['20', '08', '2010'], ['27', '08', '2010'], ['03', '09', '2010'], ['10', '09', '2010'], ['17', '09', '2010'], ['24', '09', '2010'], ['01', '10', '2010'], ['08', '10', '2010'], ['15', '10', '2010'], ['22', '10', '2010'], ['29', '10', '2010'], ['05', '11', '2010'], ['12', '11', '2010'], ['19', '11', '2010'], ['26', '11', '2010'], ['03', '12', '2010'], ['10', '12', '2010'], ['17', '12', '2010'], ['24', '12', '2010'], ['31', '12', '2010'], ['07', '01', '2011'], ['14', '01', '2011'], ['21', '01', '2011'], ['28', '01', '2011'], ['04', '02', '2011'], ['11', '02', '2011'], ['18', '02', '2011'], ['25', '02', '2011'], ['04', '03', '2011'], ['11', '03', '2011'], ['18', '03', '2011'], ['25', '03', '2011'], ['01', '04', '2011'], ['08', '04', '2011'], ['15', '04', '2011'], ['22', '04', '2011'], ['29', '04', '2011'], ['06', '05', '2011'], ['13', '05', '2011'], ['20', '05', '2011'], ['27', '05', '2011'], ['03', '06', '2011'], ['10', '06', '2011'], ['17', '06', '2011'], ['24', '06', '2011'], ['01', '07', '2011'], ['08', '07', '2011'], ['15', '07', '2011'], ['22', '07', '2011'], ['29', '07', '2011'], ['05', '08', '2011'], ['12', '08', '2011'], ['19', '08', '2011'], ['26', '08', '2011'], ['02', '09', '2011'], ['09', '09', '2011'], ['16', '09', '2011'], ['23', '09', '2011'], ['30', '09', '2011'], ['07', '10', '2011'], ['14', '10', '2011'], ['21', '10', '2011'], ['28', '10', '2011'], ['04', '11', '2011'], ['11', '11', '2011'], ['18', '11', '2011'], ['25', '11', '2011'], ['02', '12', '2011'], ['09', '12', '2011'], ['16', '12', '2011'], ['23', '12', '2011'], ['30', '12', '2011'], ['06', '01', '2012'], ['13', '01', '2012'], ['20', '01', '2012'], ['27', '01', '2012'], ['03', '02', '2012'], ['10', '02', '2012'], ['17', '02', '2012'], ['24', '02', '2012'], ['02', '03', '2012'], ['09', '03', '2012'], ['16', '03', '2012'], ['23', '03', '2012'], ['30', '03', '2012'], ['06', '04', '2012'], ['13', '04', '2012'], ['20', '04', '2012'], ['27', '04', '2012'], ['04', '05', '2012'], ['11', '05', '2012'], ['18', '05', '2012'], ['25', '05', '2012'], ['01', '06', '2012'], ['08', '06', '2012'], ['15', '06', '2012'], ['22', '06', '2012'], ['29', '06', '2012'], ['06', '07', '2012'], ['13', '07', '2012'], ['20', '07', '2012'], ['27', '07', '2012'], ['03', '08', '2012'], ['10', '08', '2012'], ['17', '08', '2012'], ['24', '08', '2012'], ['31', '08', '2012'], ['07', '09', '2012'], ['14', '09', '2012'], ['21', '09', '2012'], ['28', '09', '2012'], ['05', '10', '2012'], ['12', '10', '2012'], ['19', '10', '2012'], ['26', '10', '2012'], ['05', '02', '2010'], ['12', '02', '2010'], ['19', '02', '2010'], ['26', '02', '2010'], ['05', '03', '2010'], ['12', '03', '2010'], ['19', '03', '2010'], ['26', '03', '2010'], ['02', '04', '2010'], ['09', '04', '2010'], ['16', '04', '2010'], ['23', '04', '2010'], ['30', '04', '2010'], ['07', '05', '2010'], ['14', '05', '2010'], ['21', '05', '2010'], ['28', '05', '2010'], ['04', '06', '2010'], ['11', '06', '2010'], ['18', '06', '2010'], ['25', '06', '2010'], ['02', '07', '2010'], ['09', '07', '2010'], ['16', '07', '2010'], ['23', '07', '2010'], ['30', '07', '2010'], ['06', '08', '2010'], ['13', '08', '2010'], ['20', '08', '2010'], ['27', '08', '2010'], ['03', '09', '2010'], ['10', '09', '2010'], ['17', '09', '2010'], ['24', '09', '2010'], ['01', '10', '2010'], ['08', '10', '2010'], ['15', '10', '2010'], ['22', '10', '2010'], ['29', '10', '2010'], ['05', '11', '2010'], ['12', '11', '2010'], ['19', '11', '2010'], ['26', '11', '2010'], ['03', '12', '2010'], ['10', '12', '2010'], ['17', '12', '2010'], ['24', '12', '2010'], ['31', '12', '2010'], ['07', '01', '2011'], ['14', '01', '2011'], ['21', '01', '2011'], ['28', '01', '2011'], ['04', '02', '2011'], ['11', '02', '2011'], ['18', '02', '2011'], ['25', '02', '2011'], ['04', '03', '2011'], ['11', '03', '2011'], ['18', '03', '2011'], ['25', '03', '2011'], ['01', '04', '2011'], ['08', '04', '2011'], ['15', '04', '2011'], ['22', '04', '2011'], ['29', '04', '2011'], ['06', '05', '2011'], ['13', '05', '2011'], ['20', '05', '2011'], ['27', '05', '2011'], ['03', '06', '2011'], ['10', '06', '2011'], ['17', '06', '2011'], ['24', '06', '2011'], ['01', '07', '2011'], ['08', '07', '2011'], ['15', '07', '2011'], ['22', '07', '2011'], ['29', '07', '2011'], ['05', '08', '2011'], ['12', '08', '2011'], ['19', '08', '2011'], ['26', '08', '2011'], ['02', '09', '2011'], ['09', '09', '2011'], ['16', '09', '2011'], ['23', '09', '2011'], ['30', '09', '2011'], ['07', '10', '2011'], ['14', '10', '2011'], ['21', '10', '2011'], ['28', '10', '2011'], ['04', '11', '2011'], ['11', '11', '2011'], ['18', '11', '2011'], ['25', '11', '2011'], ['02', '12', '2011'], ['09', '12', '2011'], ['16', '12', '2011'], ['23', '12', '2011'], ['30', '12', '2011'], ['06', '01', '2012'], ['13', '01', '2012'], ['20', '01', '2012'], ['27', '01', '2012'], ['03', '02', '2012'], ['10', '02', '2012'], ['17', '02', '2012'], ['24', '02', '2012'], ['02', '03', '2012'], ['09', '03', '2012'], ['16', '03', '2012'], ['23', '03', '2012'], ['30', '03', '2012'], ['06', '04', '2012'], ['13', '04', '2012'], ['20', '04', '2012'], ['27', '04', '2012'], ['04', '05', '2012'], ['11', '05', '2012'], ['18', '05', '2012'], ['25', '05', '2012'], ['01', '06', '2012'], ['08', '06', '2012'], ['15', '06', '2012'], ['22', '06', '2012'], ['29', '06', '2012'], ['06', '07', '2012'], ['13', '07', '2012'], ['20', '07', '2012'], ['27', '07', '2012'], ['03', '08', '2012'], ['10', '08', '2012'], ['17', '08', '2012'], ['24', '08', '2012'], ['31', '08', '2012'], ['07', '09', '2012'], ['14', '09', '2012'], ['21', '09', '2012'], ['28', '09', '2012'], ['05', '10', '2012'], ['12', '10', '2012'], ['19', '10', '2012'], ['26', '10', '2012'], ['05', '02', '2010'], ['12', '02', '2010'], ['19', '02', '2010'], ['26', '02', '2010'], ['05', '03', '2010'], ['12', '03', '2010'], ['19', '03', '2010'], ['26', '03', '2010'], ['02', '04', '2010'], ['09', '04', '2010'], ['16', '04', '2010'], ['23', '04', '2010'], ['30', '04', '2010'], ['07', '05', '2010'], ['14', '05', '2010'], ['21', '05', '2010'], ['28', '05', '2010'], ['04', '06', '2010'], ['11', '06', '2010'], ['18', '06', '2010'], ['25', '06', '2010'], ['02', '07', '2010'], ['09', '07', '2010'], ['16', '07', '2010'], ['23', '07', '2010'], ['30', '07', '2010'], ['06', '08', '2010'], ['13', '08', '2010'], ['20', '08', '2010'], ['27', '08', '2010'], ['03', '09', '2010'], ['10', '09', '2010'], ['17', '09', '2010'], ['24', '09', '2010'], ['01', '10', '2010'], ['08', '10', '2010'], ['15', '10', '2010'], ['22', '10', '2010'], ['29', '10', '2010'], ['05', '11', '2010'], ['12', '11', '2010'], ['19', '11', '2010'], ['26', '11', '2010'], ['03', '12', '2010'], ['10', '12', '2010'], ['17', '12', '2010'], ['24', '12', '2010'], ['31', '12', '2010'], ['07', '01', '2011'], ['14', '01', '2011'], ['21', '01', '2011'], ['28', '01', '2011'], ['04', '02', '2011'], ['11', '02', '2011'], ['18', '02', '2011'], ['25', '02', '2011'], ['04', '03', '2011'], ['11', '03', '2011'], ['18', '03', '2011'], ['25', '03', '2011'], ['01', '04', '2011'], ['08', '04', '2011'], ['15', '04', '2011'], ['22', '04', '2011'], ['29', '04', '2011'], ['06', '05', '2011'], ['13', '05', '2011'], ['20', '05', '2011'], ['27', '05', '2011'], ['03', '06', '2011'], ['10', '06', '2011'], ['17', '06', '2011'], ['24', '06', '2011'], ['01', '07', '2011'], ['08', '07', '2011'], ['15', '07', '2011'], ['22', '07', '2011'], ['29', '07', '2011'], ['05', '08', '2011'], ['12', '08', '2011'], ['19', '08', '2011'], ['26', '08', '2011'], ['02', '09', '2011'], ['09', '09', '2011'], ['16', '09', '2011'], ['23', '09', '2011'], ['30', '09', '2011'], ['07', '10', '2011'], ['14', '10', '2011'], ['21', '10', '2011'], ['28', '10', '2011'], ['04', '11', '2011'], ['11', '11', '2011'], ['18', '11', '2011'], ['25', '11', '2011'], ['02', '12', '2011'], ['09', '12', '2011'], ['16', '12', '2011'], ['23', '12', '2011'], ['30', '12', '2011'], ['06', '01', '2012'], ['13', '01', '2012'], ['20', '01', '2012'], ['27', '01', '2012'], ['03', '02', '2012'], ['10', '02', '2012'], ['17', '02', '2012'], ['24', '02', '2012'], ['02', '03', '2012'], ['09', '03', '2012'], ['16', '03', '2012'], ['23', '03', '2012'], ['30', '03', '2012'], ['06', '04', '2012'], ['13', '04', '2012'], ['20', '04', '2012'], ['27', '04', '2012'], ['04', '05', '2012'], ['11', '05', '2012'], ['18', '05', '2012'], ['25', '05', '2012'], ['01', '06', '2012'], ['08', '06', '2012'], ['15', '06', '2012'], ['22', '06', '2012'], ['29', '06', '2012'], ['06', '07', '2012'], ['13', '07', '2012'], ['20', '07', '2012'], ['27', '07', '2012'], ['03', '08', '2012'], ['10', '08', '2012'], ['17', '08', '2012'], ['24', '08', '2012'], ['31', '08', '2012'], ['07', '09', '2012'], ['14', '09', '2012'], ['21', '09', '2012'], ['28', '09', '2012'], ['05', '10', '2012'], ['12', '10', '2012'], ['19', '10', '2012'], ['26', '10', '2012'], ['05', '02', '2010'], ['12', '02', '2010'], ['19', '02', '2010'], ['26', '02', '2010'], ['05', '03', '2010'], ['12', '03', '2010'], ['19', '03', '2010'], ['26', '03', '2010'], ['02', '04', '2010'], ['09', '04', '2010'], ['16', '04', '2010'], ['23', '04', '2010'], ['30', '04', '2010'], ['07', '05', '2010'], ['14', '05', '2010'], ['21', '05', '2010'], ['28', '05', '2010'], ['04', '06', '2010'], ['11', '06', '2010'], ['18', '06', '2010'], ['25', '06', '2010'], ['02', '07', '2010'], ['09', '07', '2010'], ['16', '07', '2010'], ['23', '07', '2010'], ['30', '07', '2010'], ['06', '08', '2010'], ['13', '08', '2010'], ['20', '08', '2010'], ['27', '08', '2010'], ['03', '09', '2010'], ['10', '09', '2010'], ['17', '09', '2010'], ['24', '09', '2010'], ['01', '10', '2010'], ['08', '10', '2010'], ['15', '10', '2010'], ['22', '10', '2010'], ['29', '10', '2010'], ['05', '11', '2010'], ['12', '11', '2010'], ['19', '11', '2010'], ['26', '11', '2010'], ['03', '12', '2010'], ['10', '12', '2010'], ['17', '12', '2010'], ['24', '12', '2010'], ['31', '12', '2010'], ['07', '01', '2011'], ['14', '01', '2011'], ['21', '01', '2011'], ['28', '01', '2011'], ['04', '02', '2011'], ['11', '02', '2011'], ['18', '02', '2011'], ['25', '02', '2011'], ['04', '03', '2011'], ['11', '03', '2011'], ['18', '03', '2011'], ['25', '03', '2011'], ['01', '04', '2011'], ['08', '04', '2011'], ['15', '04', '2011'], ['22', '04', '2011'], ['29', '04', '2011'], ['06', '05', '2011'], ['13', '05', '2011'], ['20', '05', '2011'], ['27', '05', '2011'], ['03', '06', '2011'], ['10', '06', '2011'], ['17', '06', '2011'], ['24', '06', '2011'], ['01', '07', '2011'], ['08', '07', '2011'], ['15', '07', '2011'], ['22', '07', '2011'], ['29', '07', '2011'], ['05', '08', '2011'], ['12', '08', '2011'], ['19', '08', '2011'], ['26', '08', '2011'], ['02', '09', '2011'], ['09', '09', '2011'], ['16', '09', '2011'], ['23', '09', '2011'], ['30', '09', '2011'], ['07', '10', '2011'], ['14', '10', '2011'], ['21', '10', '2011'], ['28', '10', '2011'], ['04', '11', '2011'], ['11', '11', '2011'], ['18', '11', '2011'], ['25', '11', '2011'], ['02', '12', '2011'], ['09', '12', '2011'], ['16', '12', '2011'], ['23', '12', '2011'], ['30', '12', '2011'], ['06', '01', '2012'], ['13', '01', '2012'], ['20', '01', '2012'], ['27', '01', '2012'], ['03', '02', '2012'], ['10', '02', '2012'], ['17', '02', '2012'], ['24', '02', '2012'], ['02', '03', '2012'], ['09', '03', '2012'], ['16', '03', '2012'], ['23', '03', '2012'], ['30', '03', '2012'], ['06', '04', '2012'], ['13', '04', '2012'], ['20', '04', '2012'], ['27', '04', '2012'], ['04', '05', '2012'], ['11', '05', '2012'], ['18', '05', '2012'], ['25', '05', '2012'], ['01', '06', '2012'], ['08', '06', '2012'], ['15', '06', '2012'], ['22', '06', '2012'], ['29', '06', '2012'], ['06', '07', '2012'], ['13', '07', '2012'], ['20', '07', '2012'], ['27', '07', '2012'], ['03', '08', '2012'], ['10', '08', '2012'], ['17', '08', '2012'], ['24', '08', '2012'], ['31', '08', '2012'], ['07', '09', '2012'], ['14', '09', '2012'], ['21', '09', '2012'], ['28', '09', '2012'], ['05', '10', '2012'], ['12', '10', '2012'], ['19', '10', '2012'], ['26', '10', '2012'], ['05', '02', '2010'], ['12', '02', '2010'], ['19', '02', '2010'], ['26', '02', '2010'], ['05', '03', '2010'], ['12', '03', '2010'], ['19', '03', '2010'], ['26', '03', '2010'], ['02', '04', '2010'], ['09', '04', '2010'], ['16', '04', '2010'], ['23', '04', '2010'], ['30', '04', '2010'], ['07', '05', '2010'], ['14', '05', '2010'], ['21', '05', '2010'], ['28', '05', '2010'], ['04', '06', '2010'], ['11', '06', '2010'], ['18', '06', '2010'], ['25', '06', '2010'], ['02', '07', '2010'], ['09', '07', '2010'], ['16', '07', '2010'], ['23', '07', '2010'], ['30', '07', '2010'], ['06', '08', '2010'], ['13', '08', '2010'], ['20', '08', '2010'], ['27', '08', '2010'], ['03', '09', '2010'], ['10', '09', '2010'], ['17', '09', '2010'], ['24', '09', '2010'], ['01', '10', '2010'], ['08', '10', '2010'], ['15', '10', '2010'], ['22', '10', '2010'], ['29', '10', '2010'], ['05', '11', '2010'], ['12', '11', '2010'], ['19', '11', '2010'], ['26', '11', '2010'], ['03', '12', '2010'], ['10', '12', '2010'], ['17', '12', '2010'], ['24', '12', '2010'], ['31', '12', '2010'], ['07', '01', '2011'], ['14', '01', '2011'], ['21', '01', '2011'], ['28', '01', '2011'], ['04', '02', '2011'], ['11', '02', '2011'], ['18', '02', '2011'], ['25', '02', '2011'], ['04', '03', '2011'], ['11', '03', '2011'], ['18', '03', '2011'], ['25', '03', '2011'], ['01', '04', '2011'], ['08', '04', '2011'], ['15', '04', '2011'], ['22', '04', '2011'], ['29', '04', '2011'], ['06', '05', '2011'], ['13', '05', '2011'], ['20', '05', '2011'], ['27', '05', '2011'], ['03', '06', '2011'], ['10', '06', '2011'], ['17', '06', '2011'], ['24', '06', '2011'], ['01', '07', '2011'], ['08', '07', '2011'], ['15', '07', '2011'], ['22', '07', '2011'], ['29', '07', '2011'], ['05', '08', '2011'], ['12', '08', '2011'], ['19', '08', '2011'], ['26', '08', '2011'], ['02', '09', '2011'], ['09', '09', '2011'], ['16', '09', '2011'], ['23', '09', '2011'], ['30', '09', '2011'], ['07', '10', '2011'], ['14', '10', '2011'], ['21', '10', '2011'], ['28', '10', '2011'], ['04', '11', '2011'], ['11', '11', '2011'], ['18', '11', '2011'], ['25', '11', '2011'], ['02', '12', '2011'], ['09', '12', '2011'], ['16', '12', '2011'], ['23', '12', '2011'], ['30', '12', '2011'], ['06', '01', '2012'], ['13', '01', '2012'], ['20', '01', '2012'], ['27', '01', '2012'], ['03', '02', '2012'], ['10', '02', '2012'], ['17', '02', '2012'], ['24', '02', '2012'], ['02', '03', '2012'], ['09', '03', '2012'], ['16', '03', '2012'], ['23', '03', '2012'], ['30', '03', '2012'], ['06', '04', '2012'], ['13', '04', '2012'], ['20', '04', '2012'], ['27', '04', '2012'], ['04', '05', '2012'], ['11', '05', '2012'], ['18', '05', '2012'], ['25', '05', '2012'], ['01', '06', '2012'], ['08', '06', '2012'], ['15', '06', '2012'], ['22', '06', '2012'], ['29', '06', '2012'], ['06', '07', '2012'], ['13', '07', '2012'], ['20', '07', '2012'], ['27', '07', '2012'], ['03', '08', '2012'], ['10', '08', '2012'], ['17', '08', '2012'], ['24', '08', '2012'], ['31', '08', '2012'], ['07', '09', '2012'], ['14', '09', '2012'], ['21', '09', '2012'], ['28', '09', '2012'], ['05', '10', '2012'], ['12', '10', '2012'], ['19', '10', '2012'], ['26', '10', '2012'], ['05', '02', '2010'], ['12', '02', '2010'], ['19', '02', '2010'], ['26', '02', '2010'], ['05', '03', '2010'], ['12', '03', '2010'], ['19', '03', '2010'], ['26', '03', '2010'], ['02', '04', '2010'], ['09', '04', '2010'], ['16', '04', '2010'], ['23', '04', '2010'], ['30', '04', '2010'], ['07', '05', '2010'], ['14', '05', '2010'], ['21', '05', '2010'], ['28', '05', '2010'], ['04', '06', '2010'], ['11', '06', '2010'], ['18', '06', '2010'], ['25', '06', '2010'], ['02', '07', '2010'], ['09', '07', '2010'], ['16', '07', '2010'], ['23', '07', '2010'], ['30', '07', '2010'], ['06', '08', '2010'], ['13', '08', '2010'], ['20', '08', '2010'], ['27', '08', '2010'], ['03', '09', '2010'], ['10', '09', '2010'], ['17', '09', '2010'], ['24', '09', '2010'], ['01', '10', '2010'], ['08', '10', '2010'], ['15', '10', '2010'], ['22', '10', '2010'], ['29', '10', '2010'], ['05', '11', '2010'], ['12', '11', '2010'], ['19', '11', '2010'], ['26', '11', '2010'], ['03', '12', '2010'], ['10', '12', '2010'], ['17', '12', '2010'], ['24', '12', '2010'], ['31', '12', '2010'], ['07', '01', '2011'], ['14', '01', '2011'], ['21', '01', '2011'], ['28', '01', '2011'], ['04', '02', '2011'], ['11', '02', '2011'], ['18', '02', '2011'], ['25', '02', '2011'], ['04', '03', '2011'], ['11', '03', '2011'], ['18', '03', '2011'], ['25', '03', '2011'], ['01', '04', '2011'], ['08', '04', '2011'], ['15', '04', '2011'], ['22', '04', '2011'], ['29', '04', '2011'], ['06', '05', '2011'], ['13', '05', '2011'], ['20', '05', '2011'], ['27', '05', '2011'], ['03', '06', '2011'], ['10', '06', '2011'], ['17', '06', '2011'], ['24', '06', '2011'], ['01', '07', '2011'], ['08', '07', '2011'], ['15', '07', '2011'], ['22', '07', '2011'], ['29', '07', '2011'], ['05', '08', '2011'], ['12', '08', '2011'], ['19', '08', '2011'], ['26', '08', '2011'], ['02', '09', '2011'], ['09', '09', '2011'], ['16', '09', '2011'], ['23', '09', '2011'], ['30', '09', '2011'], ['07', '10', '2011'], ['14', '10', '2011'], ['21', '10', '2011'], ['28', '10', '2011'], ['04', '11', '2011'], ['11', '11', '2011'], ['18', '11', '2011'], ['25', '11', '2011'], ['02', '12', '2011'], ['09', '12', '2011'], ['16', '12', '2011'], ['23', '12', '2011'], ['30', '12', '2011'], ['06', '01', '2012'], ['13', '01', '2012'], ['20', '01', '2012'], ['27', '01', '2012'], ['03', '02', '2012'], ['10', '02', '2012'], ['17', '02', '2012'], ['24', '02', '2012'], ['02', '03', '2012'], ['09', '03', '2012'], ['16', '03', '2012'], ['23', '03', '2012'], ['30', '03', '2012'], ['06', '04', '2012'], ['13', '04', '2012'], ['20', '04', '2012'], ['27', '04', '2012'], ['04', '05', '2012'], ['11', '05', '2012'], ['18', '05', '2012'], ['25', '05', '2012'], ['01', '06', '2012'], ['08', '06', '2012'], ['15', '06', '2012'], ['22', '06', '2012'], ['29', '06', '2012'], ['06', '07', '2012'], ['13', '07', '2012'], ['20', '07', '2012'], ['27', '07', '2012'], ['03', '08', '2012'], ['10', '08', '2012'], ['17', '08', '2012'], ['24', '08', '2012'], ['31', '08', '2012'], ['07', '09', '2012'], ['14', '09', '2012'], ['21', '09', '2012'], ['28', '09', '2012'], ['05', '10', '2012'], ['12', '10', '2012'], ['19', '10', '2012'], ['26', '10', '2012'], ['05', '02', '2010'], ['12', '02', '2010'], ['19', '02', '2010'], ['26', '02', '2010'], ['05', '03', '2010'], ['12', '03', '2010'], ['19', '03', '2010'], ['26', '03', '2010'], ['02', '04', '2010'], ['09', '04', '2010'], ['16', '04', '2010'], ['23', '04', '2010'], ['30', '04', '2010'], ['07', '05', '2010'], ['14', '05', '2010'], ['21', '05', '2010'], ['28', '05', '2010'], ['04', '06', '2010'], ['11', '06', '2010'], ['18', '06', '2010'], ['25', '06', '2010'], ['02', '07', '2010'], ['09', '07', '2010'], ['16', '07', '2010'], ['23', '07', '2010'], ['30', '07', '2010'], ['06', '08', '2010'], ['13', '08', '2010'], ['20', '08', '2010'], ['27', '08', '2010'], ['03', '09', '2010'], ['10', '09', '2010'], ['17', '09', '2010'], ['24', '09', '2010'], ['01', '10', '2010'], ['08', '10', '2010'], ['15', '10', '2010'], ['22', '10', '2010'], ['29', '10', '2010'], ['05', '11', '2010'], ['12', '11', '2010'], ['19', '11', '2010'], ['26', '11', '2010'], ['03', '12', '2010'], ['10', '12', '2010'], ['17', '12', '2010'], ['24', '12', '2010'], ['31', '12', '2010'], ['07', '01', '2011'], ['14', '01', '2011'], ['21', '01', '2011'], ['28', '01', '2011'], ['04', '02', '2011'], ['11', '02', '2011'], ['18', '02', '2011'], ['25', '02', '2011'], ['04', '03', '2011'], ['11', '03', '2011'], ['18', '03', '2011'], ['25', '03', '2011'], ['01', '04', '2011'], ['08', '04', '2011'], ['15', '04', '2011'], ['22', '04', '2011'], ['29', '04', '2011'], ['06', '05', '2011'], ['13', '05', '2011'], ['20', '05', '2011'], ['27', '05', '2011'], ['03', '06', '2011'], ['10', '06', '2011'], ['17', '06', '2011'], ['24', '06', '2011'], ['01', '07', '2011'], ['08', '07', '2011'], ['15', '07', '2011'], ['22', '07', '2011'], ['29', '07', '2011'], ['05', '08', '2011'], ['12', '08', '2011'], ['19', '08', '2011'], ['26', '08', '2011'], ['02', '09', '2011'], ['09', '09', '2011'], ['16', '09', '2011'], ['23', '09', '2011'], ['30', '09', '2011'], ['07', '10', '2011'], ['14', '10', '2011'], ['21', '10', '2011'], ['28', '10', '2011'], ['04', '11', '2011'], ['11', '11', '2011'], ['18', '11', '2011'], ['25', '11', '2011'], ['02', '12', '2011'], ['09', '12', '2011'], ['16', '12', '2011'], ['23', '12', '2011'], ['30', '12', '2011'], ['06', '01', '2012'], ['13', '01', '2012'], ['20', '01', '2012'], ['27', '01', '2012'], ['03', '02', '2012'], ['10', '02', '2012'], ['17', '02', '2012'], ['24', '02', '2012'], ['02', '03', '2012'], ['09', '03', '2012'], ['16', '03', '2012'], ['23', '03', '2012'], ['30', '03', '2012'], ['06', '04', '2012'], ['13', '04', '2012'], ['20', '04', '2012'], ['27', '04', '2012'], ['04', '05', '2012'], ['11', '05', '2012'], ['18', '05', '2012'], ['25', '05', '2012'], ['01', '06', '2012'], ['08', '06', '2012'], ['15', '06', '2012'], ['22', '06', '2012'], ['29', '06', '2012'], ['06', '07', '2012'], ['13', '07', '2012'], ['20', '07', '2012'], ['27', '07', '2012'], ['03', '08', '2012'], ['10', '08', '2012'], ['17', '08', '2012'], ['24', '08', '2012'], ['31', '08', '2012'], ['07', '09', '2012'], ['14', '09', '2012'], ['21', '09', '2012'], ['28', '09', '2012'], ['05', '10', '2012'], ['12', '10', '2012'], ['19', '10', '2012'], ['26', '10', '2012'], ['05', '02', '2010'], ['12', '02', '2010'], ['19', '02', '2010'], ['26', '02', '2010'], ['05', '03', '2010'], ['12', '03', '2010'], ['19', '03', '2010'], ['26', '03', '2010'], ['02', '04', '2010'], ['09', '04', '2010'], ['16', '04', '2010'], ['23', '04', '2010'], ['30', '04', '2010'], ['07', '05', '2010'], ['14', '05', '2010'], ['21', '05', '2010'], ['28', '05', '2010'], ['04', '06', '2010'], ['11', '06', '2010'], ['18', '06', '2010'], ['25', '06', '2010'], ['02', '07', '2010'], ['09', '07', '2010'], ['16', '07', '2010'], ['23', '07', '2010'], ['30', '07', '2010'], ['06', '08', '2010'], ['13', '08', '2010'], ['20', '08', '2010'], ['27', '08', '2010'], ['03', '09', '2010'], ['10', '09', '2010'], ['17', '09', '2010'], ['24', '09', '2010'], ['01', '10', '2010'], ['08', '10', '2010'], ['15', '10', '2010'], ['22', '10', '2010'], ['29', '10', '2010'], ['05', '11', '2010'], ['12', '11', '2010'], ['19', '11', '2010'], ['26', '11', '2010'], ['03', '12', '2010'], ['10', '12', '2010'], ['17', '12', '2010'], ['24', '12', '2010'], ['31', '12', '2010'], ['07', '01', '2011'], ['14', '01', '2011'], ['21', '01', '2011'], ['28', '01', '2011'], ['04', '02', '2011'], ['11', '02', '2011'], ['18', '02', '2011'], ['25', '02', '2011'], ['04', '03', '2011'], ['11', '03', '2011'], ['18', '03', '2011'], ['25', '03', '2011'], ['01', '04', '2011'], ['08', '04', '2011'], ['15', '04', '2011'], ['22', '04', '2011'], ['29', '04', '2011'], ['06', '05', '2011'], ['13', '05', '2011'], ['20', '05', '2011'], ['27', '05', '2011'], ['03', '06', '2011'], ['10', '06', '2011'], ['17', '06', '2011'], ['24', '06', '2011'], ['01', '07', '2011'], ['08', '07', '2011'], ['15', '07', '2011'], ['22', '07', '2011'], ['29', '07', '2011'], ['05', '08', '2011'], ['12', '08', '2011'], ['19', '08', '2011'], ['26', '08', '2011'], ['02', '09', '2011'], ['09', '09', '2011'], ['16', '09', '2011'], ['23', '09', '2011'], ['30', '09', '2011'], ['07', '10', '2011'], ['14', '10', '2011'], ['21', '10', '2011'], ['28', '10', '2011'], ['04', '11', '2011'], ['11', '11', '2011'], ['18', '11', '2011'], ['25', '11', '2011'], ['02', '12', '2011'], ['09', '12', '2011'], ['16', '12', '2011'], ['23', '12', '2011'], ['30', '12', '2011'], ['06', '01', '2012'], ['13', '01', '2012'], ['20', '01', '2012'], ['27', '01', '2012'], ['03', '02', '2012'], ['10', '02', '2012'], ['17', '02', '2012'], ['24', '02', '2012'], ['02', '03', '2012'], ['09', '03', '2012'], ['16', '03', '2012'], ['23', '03', '2012'], ['30', '03', '2012'], ['06', '04', '2012'], ['13', '04', '2012'], ['20', '04', '2012'], ['27', '04', '2012'], ['04', '05', '2012'], ['11', '05', '2012'], ['18', '05', '2012'], ['25', '05', '2012'], ['01', '06', '2012'], ['08', '06', '2012'], ['15', '06', '2012'], ['22', '06', '2012'], ['29', '06', '2012'], ['06', '07', '2012'], ['13', '07', '2012'], ['20', '07', '2012'], ['27', '07', '2012'], ['03', '08', '2012'], ['10', '08', '2012'], ['17', '08', '2012'], ['24', '08', '2012'], ['31', '08', '2012'], ['07', '09', '2012'], ['14', '09', '2012'], ['21', '09', '2012'], ['28', '09', '2012'], ['05', '10', '2012'], ['12', '10', '2012'], ['19', '10', '2012'], ['26', '10', '2012'], ['05', '02', '2010'], ['12', '02', '2010'], ['19', '02', '2010'], ['26', '02', '2010'], ['05', '03', '2010'], ['12', '03', '2010'], ['19', '03', '2010'], ['26', '03', '2010'], ['02', '04', '2010'], ['09', '04', '2010'], ['16', '04', '2010'], ['23', '04', '2010'], ['30', '04', '2010'], ['07', '05', '2010'], ['14', '05', '2010'], ['21', '05', '2010'], ['28', '05', '2010'], ['04', '06', '2010'], ['11', '06', '2010'], ['18', '06', '2010'], ['25', '06', '2010'], ['02', '07', '2010'], ['09', '07', '2010'], ['16', '07', '2010'], ['23', '07', '2010'], ['30', '07', '2010'], ['06', '08', '2010'], ['13', '08', '2010'], ['20', '08', '2010'], ['27', '08', '2010'], ['03', '09', '2010'], ['10', '09', '2010'], ['17', '09', '2010'], ['24', '09', '2010'], ['01', '10', '2010'], ['08', '10', '2010'], ['15', '10', '2010'], ['22', '10', '2010'], ['29', '10', '2010'], ['05', '11', '2010'], ['12', '11', '2010'], ['19', '11', '2010'], ['26', '11', '2010'], ['03', '12', '2010'], ['10', '12', '2010'], ['17', '12', '2010'], ['24', '12', '2010'], ['31', '12', '2010'], ['07', '01', '2011'], ['14', '01', '2011'], ['21', '01', '2011'], ['28', '01', '2011'], ['04', '02', '2011'], ['11', '02', '2011'], ['18', '02', '2011'], ['25', '02', '2011'], ['04', '03', '2011'], ['11', '03', '2011'], ['18', '03', '2011'], ['25', '03', '2011'], ['01', '04', '2011'], ['08', '04', '2011'], ['15', '04', '2011'], ['22', '04', '2011'], ['29', '04', '2011'], ['06', '05', '2011'], ['13', '05', '2011'], ['20', '05', '2011'], ['27', '05', '2011'], ['03', '06', '2011'], ['10', '06', '2011'], ['17', '06', '2011'], ['24', '06', '2011'], ['01', '07', '2011'], ['08', '07', '2011'], ['15', '07', '2011'], ['22', '07', '2011'], ['29', '07', '2011'], ['05', '08', '2011'], ['12', '08', '2011'], ['19', '08', '2011'], ['26', '08', '2011'], ['02', '09', '2011'], ['09', '09', '2011'], ['16', '09', '2011'], ['23', '09', '2011'], ['30', '09', '2011'], ['07', '10', '2011'], ['14', '10', '2011'], ['21', '10', '2011'], ['28', '10', '2011'], ['04', '11', '2011'], ['11', '11', '2011'], ['18', '11', '2011'], ['25', '11', '2011'], ['02', '12', '2011'], ['09', '12', '2011'], ['16', '12', '2011'], ['23', '12', '2011'], ['30', '12', '2011'], ['06', '01', '2012'], ['13', '01', '2012'], ['20', '01', '2012'], ['27', '01', '2012'], ['03', '02', '2012'], ['10', '02', '2012'], ['17', '02', '2012'], ['24', '02', '2012'], ['02', '03', '2012'], ['09', '03', '2012'], ['16', '03', '2012'], ['23', '03', '2012'], ['30', '03', '2012'], ['06', '04', '2012'], ['13', '04', '2012'], ['20', '04', '2012'], ['27', '04', '2012'], ['04', '05', '2012'], ['11', '05', '2012'], ['18', '05', '2012'], ['25', '05', '2012'], ['01', '06', '2012'], ['08', '06', '2012'], ['15', '06', '2012'], ['22', '06', '2012'], ['29', '06', '2012'], ['06', '07', '2012'], ['13', '07', '2012'], ['20', '07', '2012'], ['27', '07', '2012'], ['03', '08', '2012'], ['10', '08', '2012'], ['17', '08', '2012'], ['24', '08', '2012'], ['31', '08', '2012'], ['07', '09', '2012'], ['14', '09', '2012'], ['21', '09', '2012'], ['28', '09', '2012'], ['05', '10', '2012'], ['12', '10', '2012'], ['19', '10', '2012'], ['26', '10', '2012'], ['05', '02', '2010'], ['12', '02', '2010'], ['19', '02', '2010'], ['26', '02', '2010'], ['05', '03', '2010'], ['12', '03', '2010'], ['19', '03', '2010'], ['26', '03', '2010'], ['02', '04', '2010'], ['09', '04', '2010'], ['16', '04', '2010'], ['23', '04', '2010'], ['30', '04', '2010'], ['07', '05', '2010'], ['14', '05', '2010'], ['21', '05', '2010'], ['28', '05', '2010'], ['04', '06', '2010'], ['11', '06', '2010'], ['18', '06', '2010'], ['25', '06', '2010'], ['02', '07', '2010'], ['09', '07', '2010'], ['16', '07', '2010'], ['23', '07', '2010'], ['30', '07', '2010'], ['06', '08', '2010'], ['13', '08', '2010'], ['20', '08', '2010'], ['27', '08', '2010'], ['03', '09', '2010'], ['10', '09', '2010'], ['17', '09', '2010'], ['24', '09', '2010'], ['01', '10', '2010'], ['08', '10', '2010'], ['15', '10', '2010'], ['22', '10', '2010'], ['29', '10', '2010'], ['05', '11', '2010'], ['12', '11', '2010'], ['19', '11', '2010'], ['26', '11', '2010'], ['03', '12', '2010'], ['10', '12', '2010'], ['17', '12', '2010'], ['24', '12', '2010'], ['31', '12', '2010'], ['07', '01', '2011'], ['14', '01', '2011'], ['21', '01', '2011'], ['28', '01', '2011'], ['04', '02', '2011'], ['11', '02', '2011'], ['18', '02', '2011'], ['25', '02', '2011'], ['04', '03', '2011'], ['11', '03', '2011'], ['18', '03', '2011'], ['25', '03', '2011'], ['01', '04', '2011'], ['08', '04', '2011'], ['15', '04', '2011'], ['22', '04', '2011'], ['29', '04', '2011'], ['06', '05', '2011'], ['13', '05', '2011'], ['20', '05', '2011'], ['27', '05', '2011'], ['03', '06', '2011'], ['10', '06', '2011'], ['17', '06', '2011'], ['24', '06', '2011'], ['01', '07', '2011'], ['08', '07', '2011'], ['15', '07', '2011'], ['22', '07', '2011'], ['29', '07', '2011'], ['05', '08', '2011'], ['12', '08', '2011'], ['19', '08', '2011'], ['26', '08', '2011'], ['02', '09', '2011'], ['09', '09', '2011'], ['16', '09', '2011'], ['23', '09', '2011'], ['30', '09', '2011'], ['07', '10', '2011'], ['14', '10', '2011'], ['21', '10', '2011'], ['28', '10', '2011'], ['04', '11', '2011'], ['11', '11', '2011'], ['18', '11', '2011'], ['25', '11', '2011'], ['02', '12', '2011'], ['09', '12', '2011'], ['16', '12', '2011'], ['23', '12', '2011'], ['30', '12', '2011'], ['06', '01', '2012'], ['13', '01', '2012'], ['20', '01', '2012'], ['27', '01', '2012'], ['03', '02', '2012'], ['10', '02', '2012'], ['17', '02', '2012'], ['24', '02', '2012'], ['02', '03', '2012'], ['09', '03', '2012'], ['16', '03', '2012'], ['23', '03', '2012'], ['30', '03', '2012'], ['06', '04', '2012'], ['13', '04', '2012'], ['20', '04', '2012'], ['27', '04', '2012'], ['04', '05', '2012'], ['11', '05', '2012'], ['18', '05', '2012'], ['25', '05', '2012'], ['01', '06', '2012'], ['08', '06', '2012'], ['15', '06', '2012'], ['22', '06', '2012'], ['29', '06', '2012'], ['06', '07', '2012'], ['13', '07', '2012'], ['20', '07', '2012'], ['27', '07', '2012'], ['03', '08', '2012'], ['10', '08', '2012'], ['17', '08', '2012'], ['24', '08', '2012'], ['31', '08', '2012'], ['07', '09', '2012'], ['14', '09', '2012'], ['21', '09', '2012'], ['28', '09', '2012'], ['05', '10', '2012'], ['12', '10', '2012'], ['19', '10', '2012'], ['26', '10', '2012'], ['05', '02', '2010'], ['12', '02', '2010'], ['19', '02', '2010'], ['26', '02', '2010'], ['05', '03', '2010'], ['12', '03', '2010'], ['19', '03', '2010'], ['26', '03', '2010'], ['02', '04', '2010'], ['09', '04', '2010'], ['16', '04', '2010'], ['23', '04', '2010'], ['30', '04', '2010'], ['07', '05', '2010'], ['14', '05', '2010'], ['21', '05', '2010'], ['28', '05', '2010'], ['04', '06', '2010'], ['11', '06', '2010'], ['18', '06', '2010'], ['25', '06', '2010'], ['02', '07', '2010'], ['09', '07', '2010'], ['16', '07', '2010'], ['23', '07', '2010'], ['30', '07', '2010'], ['06', '08', '2010'], ['13', '08', '2010'], ['20', '08', '2010'], ['27', '08', '2010'], ['03', '09', '2010'], ['10', '09', '2010'], ['17', '09', '2010'], ['24', '09', '2010'], ['01', '10', '2010'], ['08', '10', '2010'], ['15', '10', '2010'], ['22', '10', '2010'], ['29', '10', '2010'], ['05', '11', '2010'], ['12', '11', '2010'], ['19', '11', '2010'], ['26', '11', '2010'], ['03', '12', '2010'], ['10', '12', '2010'], ['17', '12', '2010'], ['24', '12', '2010'], ['31', '12', '2010'], ['07', '01', '2011'], ['14', '01', '2011'], ['21', '01', '2011'], ['28', '01', '2011'], ['04', '02', '2011'], ['11', '02', '2011'], ['18', '02', '2011'], ['25', '02', '2011'], ['04', '03', '2011'], ['11', '03', '2011'], ['18', '03', '2011'], ['25', '03', '2011'], ['01', '04', '2011'], ['08', '04', '2011'], ['15', '04', '2011'], ['22', '04', '2011'], ['29', '04', '2011'], ['06', '05', '2011'], ['13', '05', '2011'], ['20', '05', '2011'], ['27', '05', '2011'], ['03', '06', '2011'], ['10', '06', '2011'], ['17', '06', '2011'], ['24', '06', '2011'], ['01', '07', '2011'], ['08', '07', '2011'], ['15', '07', '2011'], ['22', '07', '2011'], ['29', '07', '2011'], ['05', '08', '2011'], ['12', '08', '2011'], ['19', '08', '2011'], ['26', '08', '2011'], ['02', '09', '2011'], ['09', '09', '2011'], ['16', '09', '2011'], ['23', '09', '2011'], ['30', '09', '2011'], ['07', '10', '2011'], ['14', '10', '2011'], ['21', '10', '2011'], ['28', '10', '2011'], ['04', '11', '2011'], ['11', '11', '2011'], ['18', '11', '2011'], ['25', '11', '2011'], ['02', '12', '2011'], ['09', '12', '2011'], ['16', '12', '2011'], ['23', '12', '2011'], ['30', '12', '2011'], ['06', '01', '2012'], ['13', '01', '2012'], ['20', '01', '2012'], ['27', '01', '2012'], ['03', '02', '2012'], ['10', '02', '2012'], ['17', '02', '2012'], ['24', '02', '2012'], ['02', '03', '2012'], ['09', '03', '2012'], ['16', '03', '2012'], ['23', '03', '2012'], ['30', '03', '2012'], ['06', '04', '2012'], ['13', '04', '2012'], ['20', '04', '2012'], ['27', '04', '2012'], ['04', '05', '2012'], ['11', '05', '2012'], ['18', '05', '2012'], ['25', '05', '2012'], ['01', '06', '2012'], ['08', '06', '2012'], ['15', '06', '2012'], ['22', '06', '2012'], ['29', '06', '2012'], ['06', '07', '2012'], ['13', '07', '2012'], ['20', '07', '2012'], ['27', '07', '2012'], ['03', '08', '2012'], ['10', '08', '2012'], ['17', '08', '2012'], ['24', '08', '2012'], ['31', '08', '2012'], ['07', '09', '2012'], ['14', '09', '2012'], ['21', '09', '2012'], ['28', '09', '2012'], ['05', '10', '2012'], ['12', '10', '2012'], ['19', '10', '2012'], ['26', '10', '2012'], ['05', '02', '2010'], ['12', '02', '2010'], ['19', '02', '2010'], ['26', '02', '2010'], ['05', '03', '2010'], ['12', '03', '2010'], ['19', '03', '2010'], ['26', '03', '2010'], ['02', '04', '2010'], ['09', '04', '2010'], ['16', '04', '2010'], ['23', '04', '2010'], ['30', '04', '2010'], ['07', '05', '2010'], ['14', '05', '2010'], ['21', '05', '2010'], ['28', '05', '2010'], ['04', '06', '2010'], ['11', '06', '2010'], ['18', '06', '2010'], ['25', '06', '2010'], ['02', '07', '2010'], ['09', '07', '2010'], ['16', '07', '2010'], ['23', '07', '2010'], ['30', '07', '2010'], ['06', '08', '2010'], ['13', '08', '2010'], ['20', '08', '2010'], ['27', '08', '2010'], ['03', '09', '2010'], ['10', '09', '2010'], ['17', '09', '2010'], ['24', '09', '2010'], ['01', '10', '2010'], ['08', '10', '2010'], ['15', '10', '2010'], ['22', '10', '2010'], ['29', '10', '2010'], ['05', '11', '2010'], ['12', '11', '2010'], ['19', '11', '2010'], ['26', '11', '2010'], ['03', '12', '2010'], ['10', '12', '2010'], ['17', '12', '2010'], ['24', '12', '2010'], ['31', '12', '2010'], ['07', '01', '2011'], ['14', '01', '2011'], ['21', '01', '2011'], ['28', '01', '2011'], ['04', '02', '2011'], ['11', '02', '2011'], ['18', '02', '2011'], ['25', '02', '2011'], ['04', '03', '2011'], ['11', '03', '2011'], ['18', '03', '2011'], ['25', '03', '2011'], ['01', '04', '2011'], ['08', '04', '2011'], ['15', '04', '2011'], ['22', '04', '2011'], ['29', '04', '2011'], ['06', '05', '2011'], ['13', '05', '2011'], ['20', '05', '2011'], ['27', '05', '2011'], ['03', '06', '2011'], ['10', '06', '2011'], ['17', '06', '2011'], ['24', '06', '2011'], ['01', '07', '2011'], ['08', '07', '2011'], ['15', '07', '2011'], ['22', '07', '2011'], ['29', '07', '2011'], ['05', '08', '2011'], ['12', '08', '2011'], ['19', '08', '2011'], ['26', '08', '2011'], ['02', '09', '2011'], ['09', '09', '2011'], ['16', '09', '2011'], ['23', '09', '2011'], ['30', '09', '2011'], ['07', '10', '2011'], ['14', '10', '2011'], ['21', '10', '2011'], ['28', '10', '2011'], ['04', '11', '2011'], ['11', '11', '2011'], ['18', '11', '2011'], ['25', '11', '2011'], ['02', '12', '2011'], ['09', '12', '2011'], ['16', '12', '2011'], ['23', '12', '2011'], ['30', '12', '2011'], ['06', '01', '2012'], ['13', '01', '2012'], ['20', '01', '2012'], ['27', '01', '2012'], ['03', '02', '2012'], ['10', '02', '2012'], ['17', '02', '2012'], ['24', '02', '2012'], ['02', '03', '2012'], ['09', '03', '2012'], ['16', '03', '2012'], ['23', '03', '2012'], ['30', '03', '2012'], ['06', '04', '2012'], ['13', '04', '2012'], ['20', '04', '2012'], ['27', '04', '2012'], ['04', '05', '2012'], ['11', '05', '2012'], ['18', '05', '2012'], ['25', '05', '2012'], ['01', '06', '2012'], ['08', '06', '2012'], ['15', '06', '2012'], ['22', '06', '2012'], ['29', '06', '2012'], ['06', '07', '2012'], ['13', '07', '2012'], ['20', '07', '2012'], ['27', '07', '2012'], ['03', '08', '2012'], ['10', '08', '2012'], ['17', '08', '2012'], ['24', '08', '2012'], ['31', '08', '2012'], ['07', '09', '2012'], ['14', '09', '2012'], ['21', '09', '2012'], ['28', '09', '2012'], ['05', '10', '2012'], ['12', '10', '2012'], ['19', '10', '2012'], ['26', '10', '2012'], ['05', '02', '2010'], ['12', '02', '2010'], ['19', '02', '2010'], ['26', '02', '2010'], ['05', '03', '2010'], ['12', '03', '2010'], ['19', '03', '2010'], ['26', '03', '2010'], ['02', '04', '2010'], ['09', '04', '2010'], ['16', '04', '2010'], ['23', '04', '2010'], ['30', '04', '2010'], ['07', '05', '2010'], ['14', '05', '2010'], ['21', '05', '2010'], ['28', '05', '2010'], ['04', '06', '2010'], ['11', '06', '2010'], ['18', '06', '2010'], ['25', '06', '2010'], ['02', '07', '2010'], ['09', '07', '2010'], ['16', '07', '2010'], ['23', '07', '2010'], ['30', '07', '2010'], ['06', '08', '2010'], ['13', '08', '2010'], ['20', '08', '2010'], ['27', '08', '2010'], ['03', '09', '2010'], ['10', '09', '2010'], ['17', '09', '2010'], ['24', '09', '2010'], ['01', '10', '2010'], ['08', '10', '2010'], ['15', '10', '2010'], ['22', '10', '2010'], ['29', '10', '2010'], ['05', '11', '2010'], ['12', '11', '2010'], ['19', '11', '2010'], ['26', '11', '2010'], ['03', '12', '2010'], ['10', '12', '2010'], ['17', '12', '2010'], ['24', '12', '2010'], ['31', '12', '2010'], ['07', '01', '2011'], ['14', '01', '2011'], ['21', '01', '2011'], ['28', '01', '2011'], ['04', '02', '2011'], ['11', '02', '2011'], ['18', '02', '2011'], ['25', '02', '2011'], ['04', '03', '2011'], ['11', '03', '2011'], ['18', '03', '2011'], ['25', '03', '2011'], ['01', '04', '2011'], ['08', '04', '2011'], ['15', '04', '2011'], ['22', '04', '2011'], ['29', '04', '2011'], ['06', '05', '2011'], ['13', '05', '2011'], ['20', '05', '2011'], ['27', '05', '2011'], ['03', '06', '2011'], ['10', '06', '2011'], ['17', '06', '2011'], ['24', '06', '2011'], ['01', '07', '2011'], ['08', '07', '2011'], ['15', '07', '2011'], ['22', '07', '2011'], ['29', '07', '2011'], ['05', '08', '2011'], ['12', '08', '2011'], ['19', '08', '2011'], ['26', '08', '2011'], ['02', '09', '2011'], ['09', '09', '2011'], ['16', '09', '2011'], ['23', '09', '2011'], ['30', '09', '2011'], ['07', '10', '2011'], ['14', '10', '2011'], ['21', '10', '2011'], ['28', '10', '2011'], ['04', '11', '2011'], ['11', '11', '2011'], ['18', '11', '2011'], ['25', '11', '2011'], ['02', '12', '2011'], ['09', '12', '2011'], ['16', '12', '2011'], ['23', '12', '2011'], ['30', '12', '2011'], ['06', '01', '2012'], ['13', '01', '2012'], ['20', '01', '2012'], ['27', '01', '2012'], ['03', '02', '2012'], ['10', '02', '2012'], ['17', '02', '2012'], ['24', '02', '2012'], ['02', '03', '2012'], ['09', '03', '2012'], ['16', '03', '2012'], ['23', '03', '2012'], ['30', '03', '2012'], ['06', '04', '2012'], ['13', '04', '2012'], ['20', '04', '2012'], ['27', '04', '2012'], ['04', '05', '2012'], ['11', '05', '2012'], ['18', '05', '2012'], ['25', '05', '2012'], ['01', '06', '2012'], ['08', '06', '2012'], ['15', '06', '2012'], ['22', '06', '2012'], ['29', '06', '2012'], ['06', '07', '2012'], ['13', '07', '2012'], ['20', '07', '2012'], ['27', '07', '2012'], ['03', '08', '2012'], ['10', '08', '2012'], ['17', '08', '2012'], ['24', '08', '2012'], ['31', '08', '2012'], ['07', '09', '2012'], ['14', '09', '2012'], ['21', '09', '2012'], ['28', '09', '2012'], ['05', '10', '2012'], ['12', '10', '2012'], ['19', '10', '2012'], ['26', '10', '2012'], ['05', '02', '2010'], ['12', '02', '2010'], ['19', '02', '2010'], ['26', '02', '2010'], ['05', '03', '2010'], ['12', '03', '2010'], ['19', '03', '2010'], ['26', '03', '2010'], ['02', '04', '2010'], ['09', '04', '2010'], ['16', '04', '2010'], ['23', '04', '2010'], ['30', '04', '2010'], ['07', '05', '2010'], ['14', '05', '2010'], ['21', '05', '2010'], ['28', '05', '2010'], ['04', '06', '2010'], ['11', '06', '2010'], ['18', '06', '2010'], ['25', '06', '2010'], ['02', '07', '2010'], ['09', '07', '2010'], ['16', '07', '2010'], ['23', '07', '2010'], ['30', '07', '2010'], ['06', '08', '2010'], ['13', '08', '2010'], ['20', '08', '2010'], ['27', '08', '2010'], ['03', '09', '2010'], ['10', '09', '2010'], ['17', '09', '2010'], ['24', '09', '2010'], ['01', '10', '2010'], ['08', '10', '2010'], ['15', '10', '2010'], ['22', '10', '2010'], ['29', '10', '2010'], ['05', '11', '2010'], ['12', '11', '2010'], ['19', '11', '2010'], ['26', '11', '2010'], ['03', '12', '2010'], ['10', '12', '2010'], ['17', '12', '2010'], ['24', '12', '2010'], ['31', '12', '2010'], ['07', '01', '2011'], ['14', '01', '2011'], ['21', '01', '2011'], ['28', '01', '2011'], ['04', '02', '2011'], ['11', '02', '2011'], ['18', '02', '2011'], ['25', '02', '2011'], ['04', '03', '2011'], ['11', '03', '2011'], ['18', '03', '2011'], ['25', '03', '2011'], ['01', '04', '2011'], ['08', '04', '2011'], ['15', '04', '2011'], ['22', '04', '2011'], ['29', '04', '2011'], ['06', '05', '2011'], ['13', '05', '2011'], ['20', '05', '2011'], ['27', '05', '2011'], ['03', '06', '2011'], ['10', '06', '2011'], ['17', '06', '2011'], ['24', '06', '2011'], ['01', '07', '2011'], ['08', '07', '2011'], ['15', '07', '2011'], ['22', '07', '2011'], ['29', '07', '2011'], ['05', '08', '2011'], ['12', '08', '2011'], ['19', '08', '2011'], ['26', '08', '2011'], ['02', '09', '2011'], ['09', '09', '2011'], ['16', '09', '2011'], ['23', '09', '2011'], ['30', '09', '2011'], ['07', '10', '2011'], ['14', '10', '2011'], ['21', '10', '2011'], ['28', '10', '2011'], ['04', '11', '2011'], ['11', '11', '2011'], ['18', '11', '2011'], ['25', '11', '2011'], ['02', '12', '2011'], ['09', '12', '2011'], ['16', '12', '2011'], ['23', '12', '2011'], ['30', '12', '2011'], ['06', '01', '2012'], ['13', '01', '2012'], ['20', '01', '2012'], ['27', '01', '2012'], ['03', '02', '2012'], ['10', '02', '2012'], ['17', '02', '2012'], ['24', '02', '2012'], ['02', '03', '2012'], ['09', '03', '2012'], ['16', '03', '2012'], ['23', '03', '2012'], ['30', '03', '2012'], ['06', '04', '2012'], ['13', '04', '2012'], ['20', '04', '2012'], ['27', '04', '2012'], ['04', '05', '2012'], ['11', '05', '2012'], ['18', '05', '2012'], ['25', '05', '2012'], ['01', '06', '2012'], ['08', '06', '2012'], ['15', '06', '2012'], ['22', '06', '2012'], ['29', '06', '2012'], ['06', '07', '2012'], ['13', '07', '2012'], ['20', '07', '2012'], ['27', '07', '2012'], ['03', '08', '2012'], ['10', '08', '2012'], ['17', '08', '2012'], ['24', '08', '2012'], ['31', '08', '2012'], ['07', '09', '2012'], ['14', '09', '2012'], ['21', '09', '2012'], ['28', '09', '2012'], ['05', '10', '2012'], ['12', '10', '2012'], ['19', '10', '2012'], ['26', '10', '2012'], ['05', '02', '2010'], ['12', '02', '2010'], ['19', '02', '2010'], ['26', '02', '2010'], ['05', '03', '2010'], ['12', '03', '2010'], ['19', '03', '2010'], ['26', '03', '2010'], ['02', '04', '2010'], ['09', '04', '2010'], ['16', '04', '2010'], ['23', '04', '2010'], ['30', '04', '2010'], ['07', '05', '2010'], ['14', '05', '2010'], ['21', '05', '2010'], ['28', '05', '2010'], ['04', '06', '2010'], ['11', '06', '2010'], ['18', '06', '2010'], ['25', '06', '2010'], ['02', '07', '2010'], ['09', '07', '2010'], ['16', '07', '2010'], ['23', '07', '2010'], ['30', '07', '2010'], ['06', '08', '2010'], ['13', '08', '2010'], ['20', '08', '2010'], ['27', '08', '2010'], ['03', '09', '2010'], ['10', '09', '2010'], ['17', '09', '2010'], ['24', '09', '2010'], ['01', '10', '2010'], ['08', '10', '2010'], ['15', '10', '2010'], ['22', '10', '2010'], ['29', '10', '2010'], ['05', '11', '2010'], ['12', '11', '2010'], ['19', '11', '2010'], ['26', '11', '2010'], ['03', '12', '2010'], ['10', '12', '2010'], ['17', '12', '2010'], ['24', '12', '2010'], ['31', '12', '2010'], ['07', '01', '2011'], ['14', '01', '2011'], ['21', '01', '2011'], ['28', '01', '2011'], ['04', '02', '2011'], ['11', '02', '2011'], ['18', '02', '2011'], ['25', '02', '2011'], ['04', '03', '2011'], ['11', '03', '2011'], ['18', '03', '2011'], ['25', '03', '2011'], ['01', '04', '2011'], ['08', '04', '2011'], ['15', '04', '2011'], ['22', '04', '2011'], ['29', '04', '2011'], ['06', '05', '2011'], ['13', '05', '2011'], ['20', '05', '2011'], ['27', '05', '2011'], ['03', '06', '2011'], ['10', '06', '2011'], ['17', '06', '2011'], ['24', '06', '2011'], ['01', '07', '2011'], ['08', '07', '2011'], ['15', '07', '2011'], ['22', '07', '2011'], ['29', '07', '2011'], ['05', '08', '2011'], ['12', '08', '2011'], ['19', '08', '2011'], ['26', '08', '2011'], ['02', '09', '2011'], ['09', '09', '2011'], ['16', '09', '2011'], ['23', '09', '2011'], ['30', '09', '2011'], ['07', '10', '2011'], ['14', '10', '2011'], ['21', '10', '2011'], ['28', '10', '2011'], ['04', '11', '2011'], ['11', '11', '2011'], ['18', '11', '2011'], ['25', '11', '2011'], ['02', '12', '2011'], ['09', '12', '2011'], ['16', '12', '2011'], ['23', '12', '2011'], ['30', '12', '2011'], ['06', '01', '2012'], ['13', '01', '2012'], ['20', '01', '2012'], ['27', '01', '2012'], ['03', '02', '2012'], ['10', '02', '2012'], ['17', '02', '2012'], ['24', '02', '2012'], ['02', '03', '2012'], ['09', '03', '2012'], ['16', '03', '2012'], ['23', '03', '2012'], ['30', '03', '2012'], ['06', '04', '2012'], ['13', '04', '2012'], ['20', '04', '2012'], ['27', '04', '2012'], ['04', '05', '2012'], ['11', '05', '2012'], ['18', '05', '2012'], ['25', '05', '2012'], ['01', '06', '2012'], ['08', '06', '2012'], ['15', '06', '2012'], ['22', '06', '2012'], ['29', '06', '2012'], ['06', '07', '2012'], ['13', '07', '2012'], ['20', '07', '2012'], ['27', '07', '2012'], ['03', '08', '2012'], ['10', '08', '2012'], ['17', '08', '2012'], ['24', '08', '2012'], ['31', '08', '2012'], ['07', '09', '2012'], ['14', '09', '2012'], ['21', '09', '2012'], ['28', '09', '2012'], ['05', '10', '2012'], ['12', '10', '2012'], ['19', '10', '2012'], ['26', '10', '2012'], ['05', '02', '2010'], ['12', '02', '2010'], ['19', '02', '2010'], ['26', '02', '2010'], ['05', '03', '2010'], ['12', '03', '2010'], ['19', '03', '2010'], ['26', '03', '2010'], ['02', '04', '2010'], ['09', '04', '2010'], ['16', '04', '2010'], ['23', '04', '2010'], ['30', '04', '2010'], ['07', '05', '2010'], ['14', '05', '2010'], ['21', '05', '2010'], ['28', '05', '2010'], ['04', '06', '2010'], ['11', '06', '2010'], ['18', '06', '2010'], ['25', '06', '2010'], ['02', '07', '2010'], ['09', '07', '2010'], ['16', '07', '2010'], ['23', '07', '2010'], ['30', '07', '2010'], ['06', '08', '2010'], ['13', '08', '2010'], ['20', '08', '2010'], ['27', '08', '2010'], ['03', '09', '2010'], ['10', '09', '2010'], ['17', '09', '2010'], ['24', '09', '2010'], ['01', '10', '2010'], ['08', '10', '2010'], ['15', '10', '2010'], ['22', '10', '2010'], ['29', '10', '2010'], ['05', '11', '2010'], ['12', '11', '2010'], ['19', '11', '2010'], ['26', '11', '2010'], ['03', '12', '2010'], ['10', '12', '2010'], ['17', '12', '2010'], ['24', '12', '2010'], ['31', '12', '2010'], ['07', '01', '2011'], ['14', '01', '2011'], ['21', '01', '2011'], ['28', '01', '2011'], ['04', '02', '2011'], ['11', '02', '2011'], ['18', '02', '2011'], ['25', '02', '2011'], ['04', '03', '2011'], ['11', '03', '2011'], ['18', '03', '2011'], ['25', '03', '2011'], ['01', '04', '2011'], ['08', '04', '2011'], ['15', '04', '2011'], ['22', '04', '2011'], ['29', '04', '2011'], ['06', '05', '2011'], ['13', '05', '2011'], ['20', '05', '2011'], ['27', '05', '2011'], ['03', '06', '2011'], ['10', '06', '2011'], ['17', '06', '2011'], ['24', '06', '2011'], ['01', '07', '2011'], ['08', '07', '2011'], ['15', '07', '2011'], ['22', '07', '2011'], ['29', '07', '2011'], ['05', '08', '2011'], ['12', '08', '2011'], ['19', '08', '2011'], ['26', '08', '2011'], ['02', '09', '2011'], ['09', '09', '2011'], ['16', '09', '2011'], ['23', '09', '2011'], ['30', '09', '2011'], ['07', '10', '2011'], ['14', '10', '2011'], ['21', '10', '2011'], ['28', '10', '2011'], ['04', '11', '2011'], ['11', '11', '2011'], ['18', '11', '2011'], ['25', '11', '2011'], ['02', '12', '2011'], ['09', '12', '2011'], ['16', '12', '2011'], ['23', '12', '2011'], ['30', '12', '2011'], ['06', '01', '2012'], ['13', '01', '2012'], ['20', '01', '2012'], ['27', '01', '2012'], ['03', '02', '2012'], ['10', '02', '2012'], ['17', '02', '2012'], ['24', '02', '2012'], ['02', '03', '2012'], ['09', '03', '2012'], ['16', '03', '2012'], ['23', '03', '2012'], ['30', '03', '2012'], ['06', '04', '2012'], ['13', '04', '2012'], ['20', '04', '2012'], ['27', '04', '2012'], ['04', '05', '2012'], ['11', '05', '2012'], ['18', '05', '2012'], ['25', '05', '2012'], ['01', '06', '2012'], ['08', '06', '2012'], ['15', '06', '2012'], ['22', '06', '2012'], ['29', '06', '2012'], ['06', '07', '2012'], ['13', '07', '2012'], ['20', '07', '2012'], ['27', '07', '2012'], ['03', '08', '2012'], ['10', '08', '2012'], ['17', '08', '2012'], ['24', '08', '2012'], ['31', '08', '2012'], ['07', '09', '2012'], ['14', '09', '2012'], ['21', '09', '2012'], ['28', '09', '2012'], ['05', '10', '2012'], ['26', '10', '2012'], ['05', '02', '2010'], ['12', '02', '2010'], ['19', '02', '2010'], ['26', '02', '2010'], ['05', '03', '2010'], ['12', '03', '2010'], ['19', '03', '2010'], ['26', '03', '2010'], ['02', '04', '2010'], ['09', '04', '2010'], ['16', '04', '2010'], ['23', '04', '2010'], ['30', '04', '2010'], ['07', '05', '2010'], ['14', '05', '2010'], ['21', '05', '2010'], ['28', '05', '2010'], ['04', '06', '2010'], ['11', '06', '2010'], ['18', '06', '2010'], ['25', '06', '2010'], ['02', '07', '2010'], ['09', '07', '2010'], ['16', '07', '2010'], ['23', '07', '2010'], ['30', '07', '2010'], ['06', '08', '2010'], ['13', '08', '2010'], ['20', '08', '2010'], ['27', '08', '2010'], ['03', '09', '2010'], ['10', '09', '2010'], ['17', '09', '2010'], ['24', '09', '2010'], ['01', '10', '2010'], ['08', '10', '2010'], ['15', '10', '2010'], ['22', '10', '2010'], ['29', '10', '2010'], ['05', '11', '2010'], ['12', '11', '2010'], ['19', '11', '2010'], ['26', '11', '2010'], ['03', '12', '2010'], ['10', '12', '2010'], ['17', '12', '2010'], ['24', '12', '2010'], ['31', '12', '2010'], ['07', '01', '2011'], ['14', '01', '2011'], ['21', '01', '2011'], ['28', '01', '2011'], ['04', '02', '2011'], ['11', '02', '2011'], ['18', '02', '2011'], ['25', '02', '2011'], ['04', '03', '2011'], ['11', '03', '2011'], ['18', '03', '2011'], ['25', '03', '2011'], ['01', '04', '2011'], ['08', '04', '2011'], ['15', '04', '2011'], ['22', '04', '2011'], ['29', '04', '2011'], ['06', '05', '2011'], ['13', '05', '2011'], ['20', '05', '2011'], ['27', '05', '2011'], ['03', '06', '2011'], ['10', '06', '2011'], ['17', '06', '2011'], ['24', '06', '2011'], ['01', '07', '2011'], ['08', '07', '2011'], ['15', '07', '2011'], ['22', '07', '2011'], ['29', '07', '2011'], ['05', '08', '2011'], ['12', '08', '2011'], ['19', '08', '2011'], ['26', '08', '2011'], ['02', '09', '2011'], ['09', '09', '2011'], ['16', '09', '2011'], ['23', '09', '2011'], ['30', '09', '2011'], ['07', '10', '2011'], ['14', '10', '2011'], ['21', '10', '2011'], ['28', '10', '2011'], ['04', '11', '2011'], ['11', '11', '2011'], ['18', '11', '2011'], ['25', '11', '2011'], ['02', '12', '2011'], ['09', '12', '2011'], ['16', '12', '2011'], ['23', '12', '2011'], ['30', '12', '2011'], ['06', '01', '2012'], ['13', '01', '2012'], ['20', '01', '2012'], ['27', '01', '2012'], ['03', '02', '2012'], ['10', '02', '2012'], ['17', '02', '2012'], ['24', '02', '2012'], ['02', '03', '2012'], ['09', '03', '2012'], ['16', '03', '2012'], ['23', '03', '2012'], ['30', '03', '2012'], ['06', '04', '2012'], ['13', '04', '2012'], ['20', '04', '2012'], ['27', '04', '2012'], ['04', '05', '2012'], ['11', '05', '2012'], ['18', '05', '2012'], ['25', '05', '2012'], ['01', '06', '2012'], ['08', '06', '2012'], ['15', '06', '2012'], ['22', '06', '2012'], ['29', '06', '2012'], ['06', '07', '2012'], ['13', '07', '2012'], ['20', '07', '2012'], ['27', '07', '2012'], ['03', '08', '2012'], ['10', '08', '2012'], ['17', '08', '2012'], ['24', '08', '2012'], ['31', '08', '2012'], ['07', '09', '2012'], ['14', '09', '2012'], ['21', '09', '2012'], ['28', '09', '2012'], ['05', '10', '2012'], ['12', '10', '2012']]\n"
     ]
    }
   ],
   "source": [
    "\n",
    "# Dates Features for Train, Test\n",
    "train_df = date_features(train_df)\n",
    "# Drop date\n",
    "train_df.drop('Date', axis=1, inplace=True)"
   ]
  },
  {
   "cell_type": "code",
   "execution_count": 50,
   "metadata": {},
   "outputs": [
    {
     "data": {
      "text/html": [
       "<div>\n",
       "<style scoped>\n",
       "    .dataframe tbody tr th:only-of-type {\n",
       "        vertical-align: middle;\n",
       "    }\n",
       "\n",
       "    .dataframe tbody tr th {\n",
       "        vertical-align: top;\n",
       "    }\n",
       "\n",
       "    .dataframe thead th {\n",
       "        text-align: right;\n",
       "    }\n",
       "</style>\n",
       "<table border=\"1\" class=\"dataframe\">\n",
       "  <thead>\n",
       "    <tr style=\"text-align: right;\">\n",
       "      <th></th>\n",
       "      <th>Store</th>\n",
       "      <th>Weekly_Sales</th>\n",
       "      <th>Holiday_Flag</th>\n",
       "      <th>Temperature</th>\n",
       "      <th>Fuel_Price</th>\n",
       "      <th>CPI</th>\n",
       "      <th>Unemployment</th>\n",
       "      <th>year</th>\n",
       "      <th>month</th>\n",
       "      <th>day</th>\n",
       "    </tr>\n",
       "  </thead>\n",
       "  <tbody>\n",
       "    <tr>\n",
       "      <th>0</th>\n",
       "      <td>1</td>\n",
       "      <td>1643690.90</td>\n",
       "      <td>0</td>\n",
       "      <td>42.31</td>\n",
       "      <td>2.572</td>\n",
       "      <td>211.096358</td>\n",
       "      <td>8.106</td>\n",
       "      <td>2010.0</td>\n",
       "      <td>2.0</td>\n",
       "      <td>5.0</td>\n",
       "    </tr>\n",
       "    <tr>\n",
       "      <th>1</th>\n",
       "      <td>1</td>\n",
       "      <td>1641957.44</td>\n",
       "      <td>1</td>\n",
       "      <td>38.51</td>\n",
       "      <td>2.548</td>\n",
       "      <td>211.242170</td>\n",
       "      <td>8.106</td>\n",
       "      <td>2010.0</td>\n",
       "      <td>2.0</td>\n",
       "      <td>12.0</td>\n",
       "    </tr>\n",
       "    <tr>\n",
       "      <th>2</th>\n",
       "      <td>1</td>\n",
       "      <td>1611968.17</td>\n",
       "      <td>0</td>\n",
       "      <td>39.93</td>\n",
       "      <td>2.514</td>\n",
       "      <td>211.289143</td>\n",
       "      <td>8.106</td>\n",
       "      <td>2010.0</td>\n",
       "      <td>2.0</td>\n",
       "      <td>19.0</td>\n",
       "    </tr>\n",
       "    <tr>\n",
       "      <th>3</th>\n",
       "      <td>1</td>\n",
       "      <td>1409727.59</td>\n",
       "      <td>0</td>\n",
       "      <td>46.63</td>\n",
       "      <td>2.561</td>\n",
       "      <td>211.319643</td>\n",
       "      <td>8.106</td>\n",
       "      <td>2010.0</td>\n",
       "      <td>2.0</td>\n",
       "      <td>26.0</td>\n",
       "    </tr>\n",
       "    <tr>\n",
       "      <th>4</th>\n",
       "      <td>1</td>\n",
       "      <td>1554806.68</td>\n",
       "      <td>0</td>\n",
       "      <td>46.50</td>\n",
       "      <td>2.625</td>\n",
       "      <td>211.350143</td>\n",
       "      <td>8.106</td>\n",
       "      <td>2010.0</td>\n",
       "      <td>3.0</td>\n",
       "      <td>5.0</td>\n",
       "    </tr>\n",
       "    <tr>\n",
       "      <th>...</th>\n",
       "      <td>...</td>\n",
       "      <td>...</td>\n",
       "      <td>...</td>\n",
       "      <td>...</td>\n",
       "      <td>...</td>\n",
       "      <td>...</td>\n",
       "      <td>...</td>\n",
       "      <td>...</td>\n",
       "      <td>...</td>\n",
       "      <td>...</td>\n",
       "    </tr>\n",
       "    <tr>\n",
       "      <th>6430</th>\n",
       "      <td>45</td>\n",
       "      <td>713173.95</td>\n",
       "      <td>0</td>\n",
       "      <td>64.88</td>\n",
       "      <td>3.997</td>\n",
       "      <td>192.013558</td>\n",
       "      <td>8.684</td>\n",
       "      <td>2012.0</td>\n",
       "      <td>9.0</td>\n",
       "      <td>28.0</td>\n",
       "    </tr>\n",
       "    <tr>\n",
       "      <th>6431</th>\n",
       "      <td>45</td>\n",
       "      <td>733455.07</td>\n",
       "      <td>0</td>\n",
       "      <td>64.89</td>\n",
       "      <td>3.985</td>\n",
       "      <td>192.170412</td>\n",
       "      <td>8.667</td>\n",
       "      <td>2012.0</td>\n",
       "      <td>10.0</td>\n",
       "      <td>5.0</td>\n",
       "    </tr>\n",
       "    <tr>\n",
       "      <th>6432</th>\n",
       "      <td>45</td>\n",
       "      <td>734464.36</td>\n",
       "      <td>0</td>\n",
       "      <td>54.47</td>\n",
       "      <td>4.000</td>\n",
       "      <td>192.327265</td>\n",
       "      <td>8.667</td>\n",
       "      <td>2012.0</td>\n",
       "      <td>10.0</td>\n",
       "      <td>12.0</td>\n",
       "    </tr>\n",
       "    <tr>\n",
       "      <th>6433</th>\n",
       "      <td>45</td>\n",
       "      <td>718125.53</td>\n",
       "      <td>0</td>\n",
       "      <td>56.47</td>\n",
       "      <td>3.969</td>\n",
       "      <td>192.330854</td>\n",
       "      <td>8.667</td>\n",
       "      <td>2012.0</td>\n",
       "      <td>10.0</td>\n",
       "      <td>19.0</td>\n",
       "    </tr>\n",
       "    <tr>\n",
       "      <th>6434</th>\n",
       "      <td>45</td>\n",
       "      <td>760281.43</td>\n",
       "      <td>0</td>\n",
       "      <td>58.85</td>\n",
       "      <td>3.882</td>\n",
       "      <td>192.308899</td>\n",
       "      <td>8.667</td>\n",
       "      <td>2012.0</td>\n",
       "      <td>10.0</td>\n",
       "      <td>26.0</td>\n",
       "    </tr>\n",
       "  </tbody>\n",
       "</table>\n",
       "<p>6435 rows × 10 columns</p>\n",
       "</div>"
      ],
      "text/plain": [
       "      Store  Weekly_Sales  Holiday_Flag  Temperature  Fuel_Price         CPI  \\\n",
       "0         1    1643690.90             0        42.31       2.572  211.096358   \n",
       "1         1    1641957.44             1        38.51       2.548  211.242170   \n",
       "2         1    1611968.17             0        39.93       2.514  211.289143   \n",
       "3         1    1409727.59             0        46.63       2.561  211.319643   \n",
       "4         1    1554806.68             0        46.50       2.625  211.350143   \n",
       "...     ...           ...           ...          ...         ...         ...   \n",
       "6430     45     713173.95             0        64.88       3.997  192.013558   \n",
       "6431     45     733455.07             0        64.89       3.985  192.170412   \n",
       "6432     45     734464.36             0        54.47       4.000  192.327265   \n",
       "6433     45     718125.53             0        56.47       3.969  192.330854   \n",
       "6434     45     760281.43             0        58.85       3.882  192.308899   \n",
       "\n",
       "      Unemployment    year  month   day  \n",
       "0            8.106  2010.0    2.0   5.0  \n",
       "1            8.106  2010.0    2.0  12.0  \n",
       "2            8.106  2010.0    2.0  19.0  \n",
       "3            8.106  2010.0    2.0  26.0  \n",
       "4            8.106  2010.0    3.0   5.0  \n",
       "...            ...     ...    ...   ...  \n",
       "6430         8.684  2012.0    9.0  28.0  \n",
       "6431         8.667  2012.0   10.0   5.0  \n",
       "6432         8.667  2012.0   10.0  12.0  \n",
       "6433         8.667  2012.0   10.0  19.0  \n",
       "6434         8.667  2012.0   10.0  26.0  \n",
       "\n",
       "[6435 rows x 10 columns]"
      ]
     },
     "execution_count": 50,
     "metadata": {},
     "output_type": "execute_result"
    }
   ],
   "source": [
    "train_df"
   ]
  },
  {
   "cell_type": "code",
   "execution_count": 73,
   "metadata": {},
   "outputs": [
    {
     "data": {
      "image/png": "[encoded data removed]",
      "text/plain": [
       "<Figure size 640x480 with 1 Axes>"
      ]
     },
     "metadata": {},
     "output_type": "display_data"
    }
   ],
   "source": [
    "train_df.plot()\n",
    "plt.xlabel('year')\n",
    "    plt.ylabel('Weekly_Sales')\n",
    "plt.title('Daily Sales')\n",
    "plt.show()"
   ]
  },
  {
   "cell_type": "code",
   "execution_count": 52,
   "metadata": {},
   "outputs": [
    {
     "data": {
      "text/html": [
       "<div>\n",
       "<style scoped>\n",
       "    .dataframe tbody tr th:only-of-type {\n",
       "        vertical-align: middle;\n",
       "    }\n",
       "\n",
       "    .dataframe tbody tr th {\n",
       "        vertical-align: top;\n",
       "    }\n",
       "\n",
       "    .dataframe thead th {\n",
       "        text-align: right;\n",
       "    }\n",
       "</style>\n",
       "<table border=\"1\" class=\"dataframe\">\n",
       "  <thead>\n",
       "    <tr style=\"text-align: right;\">\n",
       "      <th></th>\n",
       "      <th>Store</th>\n",
       "      <th>month</th>\n",
       "      <th>Weekly_Sales</th>\n",
       "    </tr>\n",
       "  </thead>\n",
       "  <tbody>\n",
       "    <tr>\n",
       "      <th>0</th>\n",
       "      <td>1</td>\n",
       "      <td>1.0</td>\n",
       "      <td>1.400468e+06</td>\n",
       "    </tr>\n",
       "    <tr>\n",
       "      <th>1</th>\n",
       "      <td>1</td>\n",
       "      <td>2.0</td>\n",
       "      <td>1.625442e+06</td>\n",
       "    </tr>\n",
       "    <tr>\n",
       "      <th>2</th>\n",
       "      <td>1</td>\n",
       "      <td>3.0</td>\n",
       "      <td>1.567744e+06</td>\n",
       "    </tr>\n",
       "    <tr>\n",
       "      <th>3</th>\n",
       "      <td>1</td>\n",
       "      <td>4.0</td>\n",
       "      <td>1.544510e+06</td>\n",
       "    </tr>\n",
       "    <tr>\n",
       "      <th>4</th>\n",
       "      <td>1</td>\n",
       "      <td>5.0</td>\n",
       "      <td>1.542111e+06</td>\n",
       "    </tr>\n",
       "    <tr>\n",
       "      <th>...</th>\n",
       "      <td>...</td>\n",
       "      <td>...</td>\n",
       "      <td>...</td>\n",
       "    </tr>\n",
       "    <tr>\n",
       "      <th>535</th>\n",
       "      <td>45</td>\n",
       "      <td>8.0</td>\n",
       "      <td>7.361081e+05</td>\n",
       "    </tr>\n",
       "    <tr>\n",
       "      <th>536</th>\n",
       "      <td>45</td>\n",
       "      <td>9.0</td>\n",
       "      <td>7.237619e+05</td>\n",
       "    </tr>\n",
       "    <tr>\n",
       "      <th>537</th>\n",
       "      <td>45</td>\n",
       "      <td>10.0</td>\n",
       "      <td>7.376087e+05</td>\n",
       "    </tr>\n",
       "    <tr>\n",
       "      <th>538</th>\n",
       "      <td>45</td>\n",
       "      <td>11.0</td>\n",
       "      <td>8.778102e+05</td>\n",
       "    </tr>\n",
       "    <tr>\n",
       "      <th>539</th>\n",
       "      <td>45</td>\n",
       "      <td>12.0</td>\n",
       "      <td>1.067003e+06</td>\n",
       "    </tr>\n",
       "  </tbody>\n",
       "</table>\n",
       "<p>540 rows × 3 columns</p>\n",
       "</div>"
      ],
      "text/plain": [
       "     Store  month  Weekly_Sales\n",
       "0        1    1.0  1.400468e+06\n",
       "1        1    2.0  1.625442e+06\n",
       "2        1    3.0  1.567744e+06\n",
       "3        1    4.0  1.544510e+06\n",
       "4        1    5.0  1.542111e+06\n",
       "..     ...    ...           ...\n",
       "535     45    8.0  7.361081e+05\n",
       "536     45    9.0  7.237619e+05\n",
       "537     45   10.0  7.376087e+05\n",
       "538     45   11.0  8.778102e+05\n",
       "539     45   12.0  1.067003e+06\n",
       "\n",
       "[540 rows x 3 columns]"
      ]
     },
     "execution_count": 52,
     "metadata": {},
     "output_type": "execute_result"
    }
   ],
   "source": [
    "# Daily Average, Monthly Average for train\n",
    "train_df['monthly_avg'] = train_df.groupby(['Store','month'])['Weekly_Sales'].transform('mean')\n",
    "train_df.dropna()\n",
    "train_df\n",
    "\n",
    "# Average sales for Month = m per Item,Store\n",
    "monthly_avg = train_df.groupby(['Store','month'])['Weekly_Sales'].mean().reset_index()\n",
    "monthly_avg\n"
   ]
  },
  {
   "cell_type": "code",
   "execution_count": 39,
   "metadata": {},
   "outputs": [
    {
     "data": {
      "application/vnd.plotly.v1+json": {
       "config": {
        "plotlyServerURL": "https://plot.ly"
       },
       "data": [
        {
         "coloraxis": "coloraxis",
         "hovertemplate": "x: %{x}<br>y: %{y}<br>color: %{z}<extra></extra>",
         "name": "0",
         "texttemplate": "%{z}",
         "type": "heatmap",
         "x": [
          "Store",
          "Weekly_Sales",
          "Holiday_Flag",
          "Temperature",
          "Fuel_Price",
          "CPI",
          "Unemployment",
          "year",
          "month",
          "day",
          "monthly_avg"
         ],
         "xaxis": "x",
         "y": [
          "Store",
          "Weekly_Sales",
          "Holiday_Flag",
          "Temperature",
          "Fuel_Price",
          "CPI",
          "Unemployment",
          "year",
          "month",
          "day",
          "monthly_avg"
         ],
         "yaxis": "y",
         "z": [
          [
           1,
           -0.3353320147928179,
           -4.735625440687549e-16,
           -0.022659076792621292,
           0.06002295455909577,
           -0.20949193009868752,
           0.22353127416976454,
           3.4743315849152855e-12,
           2.920357629796977e-15,
           1.4779444871463498e-15,
           -0.34392487796806476
          ],
          [
           -0.3353320147928179,
           1,
           0.03689096801041484,
           -0.06381001317946848,
           0.009463786314475644,
           -0.07263416204017424,
           -0.10617608965795235,
           -0.018377542600024742,
           0.0761433197923644,
           -0.01740946185902213,
           0.9750152904726812
          ],
          [
           -4.735625440687549e-16,
           0.03689096801041484,
           1,
           -0.1550913293465236,
           -0.0783465180516765,
           -0.0021620912744247183,
           0.010960284292465216,
           -0.056782569679270506,
           0.12299577212234775,
           0.04452607699803865,
           0.02572565370309327
          ],
          [
           -0.022659076792621292,
           -0.06381001317946848,
           -0.1550913293465236,
           1,
           0.14498180596996565,
           0.1768876763422863,
           0.10115785726196966,
           0.06426922893881193,
           0.23586175882800475,
           0.026973315312133987,
           -0.06562260979619779
          ],
          [
           0.06002295455909577,
           0.009463786314475644,
           -0.0783465180516765,
           0.14498180596996565,
           1,
           -0.17064179519427153,
           -0.03468374487436341,
           0.7794703019270501,
           -0.042155899793913765,
           0.028072534921885876,
           0.005113183523575369
          ],
          [
           -0.20949193009868752,
           -0.07263416204017424,
           -0.0021620912744247183,
           0.1768876763422863,
           -0.17064179519427153,
           1,
           -0.30202006372224777,
           0.07479573145178676,
           0.004979671589549173,
           0.0026842997567311237,
           -0.07561356514230463
          ],
          [
           0.22353127416976454,
           -0.10617608965795235,
           0.010960284292465216,
           0.10115785726196966,
           -0.03468374487436341,
           -0.30202006372224777,
           1,
           -0.24181349397304075,
           -0.012745590596052726,
           -0.004233293009003112,
           -0.09991485462295113
          ],
          [
           3.4743315849152855e-12,
           -0.018377542600024742,
           -0.056782569679270506,
           0.06426922893881193,
           0.7794703019270501,
           0.07479573145178676,
           -0.24181349397304075,
           1,
           -0.1944645206706558,
           0.006405867193035496,
           -0.03190291796279091
          ],
          [
           2.920357629796977e-15,
           0.0761433197923644,
           0.12299577212234775,
           0.23586175882800475,
           -0.042155899793913765,
           0.004979671589549173,
           -0.012745590596052726,
           -0.1944645206706558,
           1,
           0.015191840018667878,
           0.07809448788792914
          ],
          [
           1.4779444871463498e-15,
           -0.01740946185902213,
           0.04452607699803865,
           0.026973315312133987,
           0.028072534921885876,
           0.0026842997567311237,
           -0.004233293009003112,
           0.006405867193035496,
           0.015191840018667878,
           1,
           -0.0006695338854011437
          ],
          [
           -0.34392487796806476,
           0.9750152904726812,
           0.02572565370309327,
           -0.06562260979619779,
           0.005113183523575369,
           -0.07561356514230463,
           -0.09991485462295113,
           -0.03190291796279091,
           0.07809448788792914,
           -0.0006695338854011437,
           1
          ]
         ]
        }
       ],
       "layout": {
        "coloraxis": {
         "colorscale": [
          [
           0,
           "#0d0887"
          ],
          [
           0.1111111111111111,
           "#46039f"
          ],
          [
           0.2222222222222222,
           "#7201a8"
          ],
          [
           0.3333333333333333,
           "#9c179e"
          ],
          [
           0.4444444444444444,
           "#bd3786"
          ],
          [
           0.5555555555555556,
           "#d8576b"
          ],
          [
           0.6666666666666666,
           "#ed7953"
          ],
          [
           0.7777777777777778,
           "#fb9f3a"
          ],
          [
           0.8888888888888888,
           "#fdca26"
          ],
          [
           1,
           "#f0f921"
          ]
         ]
        },
        "margin": {
         "t": 60
        },
        "template": {
         "data": {
          "bar": [
           {
            "error_x": {
             "color": "#2a3f5f"
            },
            "error_y": {
             "color": "#2a3f5f"
            },
            "marker": {
             "line": {
              "color": "#E5ECF6",
              "width": 0.5
             },
             "pattern": {
              "fillmode": "overlay",
              "size": 10,
              "solidity": 0.2
             }
            },
            "type": "bar"
           }
          ],
          "barpolar": [
           {
            "marker": {
             "line": {
              "color": "#E5ECF6",
              "width": 0.5
             },
             "pattern": {
              "fillmode": "overlay",
              "size": 10,
              "solidity": 0.2
             }
            },
            "type": "barpolar"
           }
          ],
          "carpet": [
           {
            "aaxis": {
             "endlinecolor": "#2a3f5f",
             "gridcolor": "white",
             "linecolor": "white",
             "minorgridcolor": "white",
             "startlinecolor": "#2a3f5f"
            },
            "baxis": {
             "endlinecolor": "#2a3f5f",
             "gridcolor": "white",
             "linecolor": "white",
             "minorgridcolor": "white",
             "startlinecolor": "#2a3f5f"
            },
            "type": "carpet"
           }
          ],
          "choropleth": [
           {
            "colorbar": {
             "outlinewidth": 0,
             "ticks": ""
            },
            "type": "choropleth"
           }
          ],
          "contour": [
           {
            "colorbar": {
             "outlinewidth": 0,
             "ticks": ""
            },
            "colorscale": [
             [
              0,
              "#0d0887"
             ],
             [
              0.1111111111111111,
              "#46039f"
             ],
             [
              0.2222222222222222,
              "#7201a8"
             ],
             [
              0.3333333333333333,
              "#9c179e"
             ],
             [
              0.4444444444444444,
              "#bd3786"
             ],
             [
              0.5555555555555556,
              "#d8576b"
             ],
             [
              0.6666666666666666,
              "#ed7953"
             ],
             [
              0.7777777777777778,
              "#fb9f3a"
             ],
             [
              0.8888888888888888,
              "#fdca26"
             ],
             [
              1,
              "#f0f921"
             ]
            ],
            "type": "contour"
           }
          ],
          "contourcarpet": [
           {
            "colorbar": {
             "outlinewidth": 0,
             "ticks": ""
            },
            "type": "contourcarpet"
           }
          ],
          "heatmap": [
           {
            "colorbar": {
             "outlinewidth": 0,
             "ticks": ""
            },
            "colorscale": [
             [
              0,
              "#0d0887"
             ],
             [
              0.1111111111111111,
              "#46039f"
             ],
             [
              0.2222222222222222,
              "#7201a8"
             ],
             [
              0.3333333333333333,
              "#9c179e"
             ],
             [
              0.4444444444444444,
              "#bd3786"
             ],
             [
              0.5555555555555556,
              "#d8576b"
             ],
             [
              0.6666666666666666,
              "#ed7953"
             ],
             [
              0.7777777777777778,
              "#fb9f3a"
             ],
             [
              0.8888888888888888,
              "#fdca26"
             ],
             [
              1,
              "#f0f921"
             ]
            ],
            "type": "heatmap"
           }
          ],
          "heatmapgl": [
           {
            "colorbar": {
             "outlinewidth": 0,
             "ticks": ""
            },
            "colorscale": [
             [
              0,
              "#0d0887"
             ],
             [
              0.1111111111111111,
              "#46039f"
             ],
             [
              0.2222222222222222,
              "#7201a8"
             ],
             [
              0.3333333333333333,
              "#9c179e"
             ],
             [
              0.4444444444444444,
              "#bd3786"
             ],
             [
              0.5555555555555556,
              "#d8576b"
             ],
             [
              0.6666666666666666,
              "#ed7953"
             ],
             [
              0.7777777777777778,
              "#fb9f3a"
             ],
             [
              0.8888888888888888,
              "#fdca26"
             ],
             [
              1,
              "#f0f921"
             ]
            ],
            "type": "heatmapgl"
           }
          ],
          "histogram": [
           {
            "marker": {
             "pattern": {
              "fillmode": "overlay",
              "size": 10,
              "solidity": 0.2
             }
            },
            "type": "histogram"
           }
          ],
          "histogram2d": [
           {
            "colorbar": {
             "outlinewidth": 0,
             "ticks": ""
            },
            "colorscale": [
             [
              0,
              "#0d0887"
             ],
             [
              0.1111111111111111,
              "#46039f"
             ],
             [
              0.2222222222222222,
              "#7201a8"
             ],
             [
              0.3333333333333333,
              "#9c179e"
             ],
             [
              0.4444444444444444,
              "#bd3786"
             ],
             [
              0.5555555555555556,
              "#d8576b"
             ],
             [
              0.6666666666666666,
              "#ed7953"
             ],
             [
              0.7777777777777778,
              "#fb9f3a"
             ],
             [
              0.8888888888888888,
              "#fdca26"
             ],
             [
              1,
              "#f0f921"
             ]
            ],
            "type": "histogram2d"
           }
          ],
          "histogram2dcontour": [
           {
            "colorbar": {
             "outlinewidth": 0,
             "ticks": ""
            },
            "colorscale": [
             [
              0,
              "#0d0887"
             ],
             [
              0.1111111111111111,
              "#46039f"
             ],
             [
              0.2222222222222222,
              "#7201a8"
             ],
             [
              0.3333333333333333,
              "#9c179e"
             ],
             [
              0.4444444444444444,
              "#bd3786"
             ],
             [
              0.5555555555555556,
              "#d8576b"
             ],
             [
              0.6666666666666666,
              "#ed7953"
             ],
             [
              0.7777777777777778,
              "#fb9f3a"
             ],
             [
              0.8888888888888888,
              "#fdca26"
             ],
             [
              1,
              "#f0f921"
             ]
            ],
            "type": "histogram2dcontour"
           }
          ],
          "mesh3d": [
           {
            "colorbar": {
             "outlinewidth": 0,
             "ticks": ""
            },
            "type": "mesh3d"
           }
          ],
          "parcoords": [
           {
            "line": {
             "colorbar": {
              "outlinewidth": 0,
              "ticks": ""
             }
            },
            "type": "parcoords"
           }
          ],
          "pie": [
           {
            "automargin": true,
            "type": "pie"
           }
          ],
          "scatter": [
           {
            "fillpattern": {
             "fillmode": "overlay",
             "size": 10,
             "solidity": 0.2
            },
            "type": "scatter"
           }
          ],
          "scatter3d": [
           {
            "line": {
             "colorbar": {
              "outlinewidth": 0,
              "ticks": ""
             }
            },
            "marker": {
             "colorbar": {
              "outlinewidth": 0,
              "ticks": ""
             }
            },
            "type": "scatter3d"
           }
          ],
          "scattercarpet": [
           {
            "marker": {
             "colorbar": {
              "outlinewidth": 0,
              "ticks": ""
             }
            },
            "type": "scattercarpet"
           }
          ],
          "scattergeo": [
           {
            "marker": {
             "colorbar": {
              "outlinewidth": 0,
              "ticks": ""
             }
            },
            "type": "scattergeo"
           }
          ],
          "scattergl": [
           {
            "marker": {
             "colorbar": {
              "outlinewidth": 0,
              "ticks": ""
             }
            },
            "type": "scattergl"
           }
          ],
          "scattermapbox": [
           {
            "marker": {
             "colorbar": {
              "outlinewidth": 0,
              "ticks": ""
             }
            },
            "type": "scattermapbox"
           }
          ],
          "scatterpolar": [
           {
            "marker": {
             "colorbar": {
              "outlinewidth": 0,
              "ticks": ""
             }
            },
            "type": "scatterpolar"
           }
          ],
          "scatterpolargl": [
           {
            "marker": {
             "colorbar": {
              "outlinewidth": 0,
              "ticks": ""
             }
            },
            "type": "scatterpolargl"
           }
          ],
          "scatterternary": [
           {
            "marker": {
             "colorbar": {
              "outlinewidth": 0,
              "ticks": ""
             }
            },
            "type": "scatterternary"
           }
          ],
          "surface": [
           {
            "colorbar": {
             "outlinewidth": 0,
             "ticks": ""
            },
            "colorscale": [
             [
              0,
              "#0d0887"
             ],
             [
              0.1111111111111111,
              "#46039f"
             ],
             [
              0.2222222222222222,
              "#7201a8"
             ],
             [
              0.3333333333333333,
              "#9c179e"
             ],
             [
              0.4444444444444444,
              "#bd3786"
             ],
             [
              0.5555555555555556,
              "#d8576b"
             ],
             [
              0.6666666666666666,
              "#ed7953"
             ],
             [
              0.7777777777777778,
              "#fb9f3a"
             ],
             [
              0.8888888888888888,
              "#fdca26"
             ],
             [
              1,
              "#f0f921"
             ]
            ],
            "type": "surface"
           }
          ],
          "table": [
           {
            "cells": {
             "fill": {
              "color": "#EBF0F8"
             },
             "line": {
              "color": "white"
             }
            },
            "header": {
             "fill": {
              "color": "#C8D4E3"
             },
             "line": {
              "color": "white"
             }
            },
            "type": "table"
           }
          ]
         },
         "layout": {
          "annotationdefaults": {
           "arrowcolor": "#2a3f5f",
           "arrowhead": 0,
           "arrowwidth": 1
          },
          "autotypenumbers": "strict",
          "coloraxis": {
           "colorbar": {
            "outlinewidth": 0,
            "ticks": ""
           }
          },
          "colorscale": {
           "diverging": [
            [
             0,
             "#8e0152"
            ],
            [
             0.1,
             "#c51b7d"
            ],
            [
             0.2,
             "#de77ae"
            ],
            [
             0.3,
             "#f1b6da"
            ],
            [
             0.4,
             "#fde0ef"
            ],
            [
             0.5,
             "#f7f7f7"
            ],
            [
             0.6,
             "#e6f5d0"
            ],
            [
             0.7,
             "#b8e186"
            ],
            [
             0.8,
             "#7fbc41"
            ],
            [
             0.9,
             "#4d9221"
            ],
            [
             1,
             "#276419"
            ]
           ],
           "sequential": [
            [
             0,
             "#0d0887"
            ],
            [
             0.1111111111111111,
             "#46039f"
            ],
            [
             0.2222222222222222,
             "#7201a8"
            ],
            [
             0.3333333333333333,
             "#9c179e"
            ],
            [
             0.4444444444444444,
             "#bd3786"
            ],
            [
             0.5555555555555556,
             "#d8576b"
            ],
            [
             0.6666666666666666,
             "#ed7953"
            ],
            [
             0.7777777777777778,
             "#fb9f3a"
            ],
            [
             0.8888888888888888,
             "#fdca26"
            ],
            [
             1,
             "#f0f921"
            ]
           ],
           "sequentialminus": [
            [
             0,
             "#0d0887"
            ],
            [
             0.1111111111111111,
             "#46039f"
            ],
            [
             0.2222222222222222,
             "#7201a8"
            ],
            [
             0.3333333333333333,
             "#9c179e"
            ],
            [
             0.4444444444444444,
             "#bd3786"
            ],
            [
             0.5555555555555556,
             "#d8576b"
            ],
            [
             0.6666666666666666,
             "#ed7953"
            ],
            [
             0.7777777777777778,
             "#fb9f3a"
            ],
            [
             0.8888888888888888,
             "#fdca26"
            ],
            [
             1,
             "#f0f921"
            ]
           ]
          },
          "colorway": [
           "#636efa",
           "#EF553B",
           "#00cc96",
           "#ab63fa",
           "#FFA15A",
           "#19d3f3",
           "#FF6692",
           "#B6E880",
           "#FF97FF",
           "#FECB52"
          ],
          "font": {
           "color": "#2a3f5f"
          },
          "geo": {
           "bgcolor": "white",
           "lakecolor": "white",
           "landcolor": "#E5ECF6",
           "showlakes": true,
           "showland": true,
           "subunitcolor": "white"
          },
          "hoverlabel": {
           "align": "left"
          },
          "hovermode": "closest",
          "mapbox": {
           "style": "light"
          },
          "paper_bgcolor": "white",
          "plot_bgcolor": "#E5ECF6",
          "polar": {
           "angularaxis": {
            "gridcolor": "white",
            "linecolor": "white",
            "ticks": ""
           },
           "bgcolor": "#E5ECF6",
           "radialaxis": {
            "gridcolor": "white",
            "linecolor": "white",
            "ticks": ""
           }
          },
          "scene": {
           "xaxis": {
            "backgroundcolor": "#E5ECF6",
            "gridcolor": "white",
            "gridwidth": 2,
            "linecolor": "white",
            "showbackground": true,
            "ticks": "",
            "zerolinecolor": "white"
           },
           "yaxis": {
            "backgroundcolor": "#E5ECF6",
            "gridcolor": "white",
            "gridwidth": 2,
            "linecolor": "white",
            "showbackground": true,
            "ticks": "",
            "zerolinecolor": "white"
           },
           "zaxis": {
            "backgroundcolor": "#E5ECF6",
            "gridcolor": "white",
            "gridwidth": 2,
            "linecolor": "white",
            "showbackground": true,
            "ticks": "",
            "zerolinecolor": "white"
           }
          },
          "shapedefaults": {
           "line": {
            "color": "#2a3f5f"
           }
          },
          "ternary": {
           "aaxis": {
            "gridcolor": "white",
            "linecolor": "white",
            "ticks": ""
           },
           "baxis": {
            "gridcolor": "white",
            "linecolor": "white",
            "ticks": ""
           },
           "bgcolor": "#E5ECF6",
           "caxis": {
            "gridcolor": "white",
            "linecolor": "white",
            "ticks": ""
           }
          },
          "title": {
           "x": 0.05
          },
          "xaxis": {
           "automargin": true,
           "gridcolor": "white",
           "linecolor": "white",
           "ticks": "",
           "title": {
            "standoff": 15
           },
           "zerolinecolor": "white",
           "zerolinewidth": 2
          },
          "yaxis": {
           "automargin": true,
           "gridcolor": "white",
           "linecolor": "white",
           "ticks": "",
           "title": {
            "standoff": 15
           },
           "zerolinecolor": "white",
           "zerolinewidth": 2
          }
         }
        },
        "xaxis": {
         "anchor": "y",
         "constrain": "domain",
         "domain": [
          0,
          1
         ],
         "scaleanchor": "y"
        },
        "yaxis": {
         "anchor": "x",
         "autorange": "reversed",
         "constrain": "domain",
         "domain": [
          0,
          1
         ]
        }
       }
      }
     },
     "metadata": {},
     "output_type": "display_data"
    }
   ],
   "source": [
    "import plotly.express as px\n",
    "\n",
    "fig = px.imshow(train_df.corr(),text_auto=True)\n",
    "fig.show()\n",
    "\n"
   ]
  },
  {
   "cell_type": "code",
   "execution_count": 53,
   "metadata": {},
   "outputs": [
    {
     "data": {
      "text/html": [
       "<div>\n",
       "<style scoped>\n",
       "    .dataframe tbody tr th:only-of-type {\n",
       "        vertical-align: middle;\n",
       "    }\n",
       "\n",
       "    .dataframe tbody tr th {\n",
       "        vertical-align: top;\n",
       "    }\n",
       "\n",
       "    .dataframe thead th {\n",
       "        text-align: right;\n",
       "    }\n",
       "</style>\n",
       "<table border=\"1\" class=\"dataframe\">\n",
       "  <thead>\n",
       "    <tr style=\"text-align: right;\">\n",
       "      <th></th>\n",
       "      <th>Store</th>\n",
       "      <th>Weekly_Sales</th>\n",
       "      <th>Holiday_Flag</th>\n",
       "      <th>Temperature</th>\n",
       "      <th>Fuel_Price</th>\n",
       "      <th>CPI</th>\n",
       "      <th>Unemployment</th>\n",
       "      <th>year</th>\n",
       "      <th>month</th>\n",
       "      <th>day</th>\n",
       "      <th>monthly_avg</th>\n",
       "    </tr>\n",
       "  </thead>\n",
       "  <tbody>\n",
       "    <tr>\n",
       "      <th>0</th>\n",
       "      <td>1</td>\n",
       "      <td>1643690.90</td>\n",
       "      <td>0</td>\n",
       "      <td>42.31</td>\n",
       "      <td>2.572</td>\n",
       "      <td>211.096358</td>\n",
       "      <td>8.106</td>\n",
       "      <td>2010.0</td>\n",
       "      <td>2.0</td>\n",
       "      <td>5.0</td>\n",
       "      <td>1.625442e+06</td>\n",
       "    </tr>\n",
       "    <tr>\n",
       "      <th>1</th>\n",
       "      <td>1</td>\n",
       "      <td>1641957.44</td>\n",
       "      <td>1</td>\n",
       "      <td>38.51</td>\n",
       "      <td>2.548</td>\n",
       "      <td>211.242170</td>\n",
       "      <td>8.106</td>\n",
       "      <td>2010.0</td>\n",
       "      <td>2.0</td>\n",
       "      <td>12.0</td>\n",
       "      <td>1.625442e+06</td>\n",
       "    </tr>\n",
       "    <tr>\n",
       "      <th>2</th>\n",
       "      <td>1</td>\n",
       "      <td>1611968.17</td>\n",
       "      <td>0</td>\n",
       "      <td>39.93</td>\n",
       "      <td>2.514</td>\n",
       "      <td>211.289143</td>\n",
       "      <td>8.106</td>\n",
       "      <td>2010.0</td>\n",
       "      <td>2.0</td>\n",
       "      <td>19.0</td>\n",
       "      <td>1.625442e+06</td>\n",
       "    </tr>\n",
       "    <tr>\n",
       "      <th>3</th>\n",
       "      <td>1</td>\n",
       "      <td>1409727.59</td>\n",
       "      <td>0</td>\n",
       "      <td>46.63</td>\n",
       "      <td>2.561</td>\n",
       "      <td>211.319643</td>\n",
       "      <td>8.106</td>\n",
       "      <td>2010.0</td>\n",
       "      <td>2.0</td>\n",
       "      <td>26.0</td>\n",
       "      <td>1.625442e+06</td>\n",
       "    </tr>\n",
       "    <tr>\n",
       "      <th>4</th>\n",
       "      <td>1</td>\n",
       "      <td>1554806.68</td>\n",
       "      <td>0</td>\n",
       "      <td>46.50</td>\n",
       "      <td>2.625</td>\n",
       "      <td>211.350143</td>\n",
       "      <td>8.106</td>\n",
       "      <td>2010.0</td>\n",
       "      <td>3.0</td>\n",
       "      <td>5.0</td>\n",
       "      <td>1.567744e+06</td>\n",
       "    </tr>\n",
       "    <tr>\n",
       "      <th>...</th>\n",
       "      <td>...</td>\n",
       "      <td>...</td>\n",
       "      <td>...</td>\n",
       "      <td>...</td>\n",
       "      <td>...</td>\n",
       "      <td>...</td>\n",
       "      <td>...</td>\n",
       "      <td>...</td>\n",
       "      <td>...</td>\n",
       "      <td>...</td>\n",
       "      <td>...</td>\n",
       "    </tr>\n",
       "    <tr>\n",
       "      <th>6430</th>\n",
       "      <td>45</td>\n",
       "      <td>713173.95</td>\n",
       "      <td>0</td>\n",
       "      <td>64.88</td>\n",
       "      <td>3.997</td>\n",
       "      <td>192.013558</td>\n",
       "      <td>8.684</td>\n",
       "      <td>2012.0</td>\n",
       "      <td>9.0</td>\n",
       "      <td>28.0</td>\n",
       "      <td>7.237619e+05</td>\n",
       "    </tr>\n",
       "    <tr>\n",
       "      <th>6431</th>\n",
       "      <td>45</td>\n",
       "      <td>733455.07</td>\n",
       "      <td>0</td>\n",
       "      <td>64.89</td>\n",
       "      <td>3.985</td>\n",
       "      <td>192.170412</td>\n",
       "      <td>8.667</td>\n",
       "      <td>2012.0</td>\n",
       "      <td>10.0</td>\n",
       "      <td>5.0</td>\n",
       "      <td>7.376087e+05</td>\n",
       "    </tr>\n",
       "    <tr>\n",
       "      <th>6432</th>\n",
       "      <td>45</td>\n",
       "      <td>734464.36</td>\n",
       "      <td>0</td>\n",
       "      <td>54.47</td>\n",
       "      <td>4.000</td>\n",
       "      <td>192.327265</td>\n",
       "      <td>8.667</td>\n",
       "      <td>2012.0</td>\n",
       "      <td>10.0</td>\n",
       "      <td>12.0</td>\n",
       "      <td>7.376087e+05</td>\n",
       "    </tr>\n",
       "    <tr>\n",
       "      <th>6433</th>\n",
       "      <td>45</td>\n",
       "      <td>718125.53</td>\n",
       "      <td>0</td>\n",
       "      <td>56.47</td>\n",
       "      <td>3.969</td>\n",
       "      <td>192.330854</td>\n",
       "      <td>8.667</td>\n",
       "      <td>2012.0</td>\n",
       "      <td>10.0</td>\n",
       "      <td>19.0</td>\n",
       "      <td>7.376087e+05</td>\n",
       "    </tr>\n",
       "    <tr>\n",
       "      <th>6434</th>\n",
       "      <td>45</td>\n",
       "      <td>760281.43</td>\n",
       "      <td>0</td>\n",
       "      <td>58.85</td>\n",
       "      <td>3.882</td>\n",
       "      <td>192.308899</td>\n",
       "      <td>8.667</td>\n",
       "      <td>2012.0</td>\n",
       "      <td>10.0</td>\n",
       "      <td>26.0</td>\n",
       "      <td>7.376087e+05</td>\n",
       "    </tr>\n",
       "  </tbody>\n",
       "</table>\n",
       "<p>6435 rows × 11 columns</p>\n",
       "</div>"
      ],
      "text/plain": [
       "      Store  Weekly_Sales  Holiday_Flag  Temperature  Fuel_Price         CPI  \\\n",
       "0         1    1643690.90             0        42.31       2.572  211.096358   \n",
       "1         1    1641957.44             1        38.51       2.548  211.242170   \n",
       "2         1    1611968.17             0        39.93       2.514  211.289143   \n",
       "3         1    1409727.59             0        46.63       2.561  211.319643   \n",
       "4         1    1554806.68             0        46.50       2.625  211.350143   \n",
       "...     ...           ...           ...          ...         ...         ...   \n",
       "6430     45     713173.95             0        64.88       3.997  192.013558   \n",
       "6431     45     733455.07             0        64.89       3.985  192.170412   \n",
       "6432     45     734464.36             0        54.47       4.000  192.327265   \n",
       "6433     45     718125.53             0        56.47       3.969  192.330854   \n",
       "6434     45     760281.43             0        58.85       3.882  192.308899   \n",
       "\n",
       "      Unemployment    year  month   day   monthly_avg  \n",
       "0            8.106  2010.0    2.0   5.0  1.625442e+06  \n",
       "1            8.106  2010.0    2.0  12.0  1.625442e+06  \n",
       "2            8.106  2010.0    2.0  19.0  1.625442e+06  \n",
       "3            8.106  2010.0    2.0  26.0  1.625442e+06  \n",
       "4            8.106  2010.0    3.0   5.0  1.567744e+06  \n",
       "...            ...     ...    ...   ...           ...  \n",
       "6430         8.684  2012.0    9.0  28.0  7.237619e+05  \n",
       "6431         8.667  2012.0   10.0   5.0  7.376087e+05  \n",
       "6432         8.667  2012.0   10.0  12.0  7.376087e+05  \n",
       "6433         8.667  2012.0   10.0  19.0  7.376087e+05  \n",
       "6434         8.667  2012.0   10.0  26.0  7.376087e+05  \n",
       "\n",
       "[6435 rows x 11 columns]"
      ]
     },
     "execution_count": 53,
     "metadata": {},
     "output_type": "execute_result"
    }
   ],
   "source": [
    "train_df"
   ]
  },
  {
   "cell_type": "code",
   "execution_count": 57,
   "metadata": {},
   "outputs": [
    {
     "data": {
      "application/vnd.plotly.v1+json": {
       "config": {
        "plotlyServerURL": "https://plot.ly"
       },
       "data": [
        {
         "hovertemplate": "year=%{x}<br>monthly_avg=%{y}<extra></extra>",
         "legendgroup": "",
         "line": {
          "color": "#636efa",
          "dash": "solid"
         },
         "marker": {
          "symbol": "circle"
         },
         "mode": "lines",
         "name": "",
         "orientation": "v",
         "showlegend": false,
         "type": "scatter",
         "x": [
          2010,
          2010,
          2010,
          2010,
          2010,
          2010,
          2010,
          2010,
          2010,
          2010,
          2010,
          2010,
          2010,
          2010,
          2010,
          2010,
          2010,
          2010,
          2010,
          2010,
          2010,
          2010,
          2010,
          2010,
          2010,
          2010,
          2010,
          2010,
          2010,
          2010,
          2010,
          2010,
          2010,
          2010,
          2010,
          2010,
          2010,
          2010,
          2010,
          2010,
          2010,
          2010,
          2010,
          2010,
          2010,
          2010,
          2010,
          2010,
          2011,
          2011,
          2011,
          2011,
          2011,
          2011,
          2011,
          2011,
          2011,
          2011,
          2011,
          2011,
          2011,
          2011,
          2011,
          2011,
          2011,
          2011,
          2011,
          2011,
          2011,
          2011,
          2011,
          2011,
          2011,
          2011,
          2011,
          2011,
          2011,
          2011,
          2011,
          2011,
          2011,
          2011,
          2011,
          2011,
          2011,
          2011,
          2011,
          2011,
          2011,
          2011,
          2011,
          2011,
          2011,
          2011,
          2011,
          2011,
          2011,
          2011,
          2011,
          2011
         ],
         "xaxis": "x",
         "y": [
          1625442.2149999999,
          1625442.2149999999,
          1625442.2149999999,
          1625442.2149999999,
          1567743.6046153845,
          1567743.6046153845,
          1567743.6046153845,
          1567743.6046153845,
          1544510.0242857144,
          1544510.0242857144,
          1544510.0242857144,
          1544510.0242857144,
          1544510.0242857144,
          1542111.075,
          1542111.075,
          1542111.075,
          1542111.075,
          1561510.4646153846,
          1561510.4646153846,
          1561510.4646153846,
          1561510.4646153846,
          1479006.0014285713,
          1479006.0014285713,
          1479006.0014285713,
          1479006.0014285713,
          1479006.0014285713,
          1547581.4053846153,
          1547581.4053846153,
          1547581.4053846153,
          1547581.4053846153,
          1487055.213846154,
          1487055.213846154,
          1487055.213846154,
          1487055.213846154,
          1497581.2915384616,
          1497581.2915384616,
          1497581.2915384616,
          1497581.2915384616,
          1497581.2915384616,
          1668814.98625,
          1668814.98625,
          1668814.98625,
          1668814.98625,
          1790954.789,
          1790954.789,
          1790954.789,
          1790954.789,
          1790954.789,
          1400467.68625,
          1400467.68625,
          1400467.68625,
          1400467.68625,
          1625442.2149999999,
          1625442.2149999999,
          1625442.2149999999,
          1625442.2149999999,
          1567743.6046153845,
          1567743.6046153845,
          1567743.6046153845,
          1567743.6046153845,
          1544510.0242857144,
          1544510.0242857144,
          1544510.0242857144,
          1544510.0242857144,
          1544510.0242857144,
          1542111.075,
          1542111.075,
          1542111.075,
          1542111.075,
          1561510.4646153846,
          1561510.4646153846,
          1561510.4646153846,
          1561510.4646153846,
          1479006.0014285713,
          1479006.0014285713,
          1479006.0014285713,
          1479006.0014285713,
          1479006.0014285713,
          1547581.4053846153,
          1547581.4053846153,
          1547581.4053846153,
          1547581.4053846153,
          1487055.213846154,
          1487055.213846154,
          1487055.213846154,
          1487055.213846154,
          1487055.213846154,
          1497581.2915384616,
          1497581.2915384616,
          1497581.2915384616,
          1497581.2915384616,
          1668814.98625,
          1668814.98625,
          1668814.98625,
          1668814.98625,
          1790954.789,
          1790954.789,
          1790954.789,
          1790954.789,
          1790954.789
         ],
         "yaxis": "y"
        }
       ],
       "layout": {
        "legend": {
         "tracegroupgap": 0
        },
        "template": {
         "data": {
          "bar": [
           {
            "error_x": {
             "color": "#2a3f5f"
            },
            "error_y": {
             "color": "#2a3f5f"
            },
            "marker": {
             "line": {
              "color": "#E5ECF6",
              "width": 0.5
             },
             "pattern": {
              "fillmode": "overlay",
              "size": 10,
              "solidity": 0.2
             }
            },
            "type": "bar"
           }
          ],
          "barpolar": [
           {
            "marker": {
             "line": {
              "color": "#E5ECF6",
              "width": 0.5
             },
             "pattern": {
              "fillmode": "overlay",
              "size": 10,
              "solidity": 0.2
             }
            },
            "type": "barpolar"
           }
          ],
          "carpet": [
           {
            "aaxis": {
             "endlinecolor": "#2a3f5f",
             "gridcolor": "white",
             "linecolor": "white",
             "minorgridcolor": "white",
             "startlinecolor": "#2a3f5f"
            },
            "baxis": {
             "endlinecolor": "#2a3f5f",
             "gridcolor": "white",
             "linecolor": "white",
             "minorgridcolor": "white",
             "startlinecolor": "#2a3f5f"
            },
            "type": "carpet"
           }
          ],
          "choropleth": [
           {
            "colorbar": {
             "outlinewidth": 0,
             "ticks": ""
            },
            "type": "choropleth"
           }
          ],
          "contour": [
           {
            "colorbar": {
             "outlinewidth": 0,
             "ticks": ""
            },
            "colorscale": [
             [
              0,
              "#0d0887"
             ],
             [
              0.1111111111111111,
              "#46039f"
             ],
             [
              0.2222222222222222,
              "#7201a8"
             ],
             [
              0.3333333333333333,
              "#9c179e"
             ],
             [
              0.4444444444444444,
              "#bd3786"
             ],
             [
              0.5555555555555556,
              "#d8576b"
             ],
             [
              0.6666666666666666,
              "#ed7953"
             ],
             [
              0.7777777777777778,
              "#fb9f3a"
             ],
             [
              0.8888888888888888,
              "#fdca26"
             ],
             [
              1,
              "#f0f921"
             ]
            ],
            "type": "contour"
           }
          ],
          "contourcarpet": [
           {
            "colorbar": {
             "outlinewidth": 0,
             "ticks": ""
            },
            "type": "contourcarpet"
           }
          ],
          "heatmap": [
           {
            "colorbar": {
             "outlinewidth": 0,
             "ticks": ""
            },
            "colorscale": [
             [
              0,
              "#0d0887"
             ],
             [
              0.1111111111111111,
              "#46039f"
             ],
             [
              0.2222222222222222,
              "#7201a8"
             ],
             [
              0.3333333333333333,
              "#9c179e"
             ],
             [
              0.4444444444444444,
              "#bd3786"
             ],
             [
              0.5555555555555556,
              "#d8576b"
             ],
             [
              0.6666666666666666,
              "#ed7953"
             ],
             [
              0.7777777777777778,
              "#fb9f3a"
             ],
             [
              0.8888888888888888,
              "#fdca26"
             ],
             [
              1,
              "#f0f921"
             ]
            ],
            "type": "heatmap"
           }
          ],
          "heatmapgl": [
           {
            "colorbar": {
             "outlinewidth": 0,
             "ticks": ""
            },
            "colorscale": [
             [
              0,
              "#0d0887"
             ],
             [
              0.1111111111111111,
              "#46039f"
             ],
             [
              0.2222222222222222,
              "#7201a8"
             ],
             [
              0.3333333333333333,
              "#9c179e"
             ],
             [
              0.4444444444444444,
              "#bd3786"
             ],
             [
              0.5555555555555556,
              "#d8576b"
             ],
             [
              0.6666666666666666,
              "#ed7953"
             ],
             [
              0.7777777777777778,
              "#fb9f3a"
             ],
             [
              0.8888888888888888,
              "#fdca26"
             ],
             [
              1,
              "#f0f921"
             ]
            ],
            "type": "heatmapgl"
           }
          ],
          "histogram": [
           {
            "marker": {
             "pattern": {
              "fillmode": "overlay",
              "size": 10,
              "solidity": 0.2
             }
            },
            "type": "histogram"
           }
          ],
          "histogram2d": [
           {
            "colorbar": {
             "outlinewidth": 0,
             "ticks": ""
            },
            "colorscale": [
             [
              0,
              "#0d0887"
             ],
             [
              0.1111111111111111,
              "#46039f"
             ],
             [
              0.2222222222222222,
              "#7201a8"
             ],
             [
              0.3333333333333333,
              "#9c179e"
             ],
             [
              0.4444444444444444,
              "#bd3786"
             ],
             [
              0.5555555555555556,
              "#d8576b"
             ],
             [
              0.6666666666666666,
              "#ed7953"
             ],
             [
              0.7777777777777778,
              "#fb9f3a"
             ],
             [
              0.8888888888888888,
              "#fdca26"
             ],
             [
              1,
              "#f0f921"
             ]
            ],
            "type": "histogram2d"
           }
          ],
          "histogram2dcontour": [
           {
            "colorbar": {
             "outlinewidth": 0,
             "ticks": ""
            },
            "colorscale": [
             [
              0,
              "#0d0887"
             ],
             [
              0.1111111111111111,
              "#46039f"
             ],
             [
              0.2222222222222222,
              "#7201a8"
             ],
             [
              0.3333333333333333,
              "#9c179e"
             ],
             [
              0.4444444444444444,
              "#bd3786"
             ],
             [
              0.5555555555555556,
              "#d8576b"
             ],
             [
              0.6666666666666666,
              "#ed7953"
             ],
             [
              0.7777777777777778,
              "#fb9f3a"
             ],
             [
              0.8888888888888888,
              "#fdca26"
             ],
             [
              1,
              "#f0f921"
             ]
            ],
            "type": "histogram2dcontour"
           }
          ],
          "mesh3d": [
           {
            "colorbar": {
             "outlinewidth": 0,
             "ticks": ""
            },
            "type": "mesh3d"
           }
          ],
          "parcoords": [
           {
            "line": {
             "colorbar": {
              "outlinewidth": 0,
              "ticks": ""
             }
            },
            "type": "parcoords"
           }
          ],
          "pie": [
           {
            "automargin": true,
            "type": "pie"
           }
          ],
          "scatter": [
           {
            "fillpattern": {
             "fillmode": "overlay",
             "size": 10,
             "solidity": 0.2
            },
            "type": "scatter"
           }
          ],
          "scatter3d": [
           {
            "line": {
             "colorbar": {
              "outlinewidth": 0,
              "ticks": ""
             }
            },
            "marker": {
             "colorbar": {
              "outlinewidth": 0,
              "ticks": ""
             }
            },
            "type": "scatter3d"
           }
          ],
          "scattercarpet": [
           {
            "marker": {
             "colorbar": {
              "outlinewidth": 0,
              "ticks": ""
             }
            },
            "type": "scattercarpet"
           }
          ],
          "scattergeo": [
           {
            "marker": {
             "colorbar": {
              "outlinewidth": 0,
              "ticks": ""
             }
            },
            "type": "scattergeo"
           }
          ],
          "scattergl": [
           {
            "marker": {
             "colorbar": {
              "outlinewidth": 0,
              "ticks": ""
             }
            },
            "type": "scattergl"
           }
          ],
          "scattermapbox": [
           {
            "marker": {
             "colorbar": {
              "outlinewidth": 0,
              "ticks": ""
             }
            },
            "type": "scattermapbox"
           }
          ],
          "scatterpolar": [
           {
            "marker": {
             "colorbar": {
              "outlinewidth": 0,
              "ticks": ""
             }
            },
            "type": "scatterpolar"
           }
          ],
          "scatterpolargl": [
           {
            "marker": {
             "colorbar": {
              "outlinewidth": 0,
              "ticks": ""
             }
            },
            "type": "scatterpolargl"
           }
          ],
          "scatterternary": [
           {
            "marker": {
             "colorbar": {
              "outlinewidth": 0,
              "ticks": ""
             }
            },
            "type": "scatterternary"
           }
          ],
          "surface": [
           {
            "colorbar": {
             "outlinewidth": 0,
             "ticks": ""
            },
            "colorscale": [
             [
              0,
              "#0d0887"
             ],
             [
              0.1111111111111111,
              "#46039f"
             ],
             [
              0.2222222222222222,
              "#7201a8"
             ],
             [
              0.3333333333333333,
              "#9c179e"
             ],
             [
              0.4444444444444444,
              "#bd3786"
             ],
             [
              0.5555555555555556,
              "#d8576b"
             ],
             [
              0.6666666666666666,
              "#ed7953"
             ],
             [
              0.7777777777777778,
              "#fb9f3a"
             ],
             [
              0.8888888888888888,
              "#fdca26"
             ],
             [
              1,
              "#f0f921"
             ]
            ],
            "type": "surface"
           }
          ],
          "table": [
           {
            "cells": {
             "fill": {
              "color": "#EBF0F8"
             },
             "line": {
              "color": "white"
             }
            },
            "header": {
             "fill": {
              "color": "#C8D4E3"
             },
             "line": {
              "color": "white"
             }
            },
            "type": "table"
           }
          ]
         },
         "layout": {
          "annotationdefaults": {
           "arrowcolor": "#2a3f5f",
           "arrowhead": 0,
           "arrowwidth": 1
          },
          "autotypenumbers": "strict",
          "coloraxis": {
           "colorbar": {
            "outlinewidth": 0,
            "ticks": ""
           }
          },
          "colorscale": {
           "diverging": [
            [
             0,
             "#8e0152"
            ],
            [
             0.1,
             "#c51b7d"
            ],
            [
             0.2,
             "#de77ae"
            ],
            [
             0.3,
             "#f1b6da"
            ],
            [
             0.4,
             "#fde0ef"
            ],
            [
             0.5,
             "#f7f7f7"
            ],
            [
             0.6,
             "#e6f5d0"
            ],
            [
             0.7,
             "#b8e186"
            ],
            [
             0.8,
             "#7fbc41"
            ],
            [
             0.9,
             "#4d9221"
            ],
            [
             1,
             "#276419"
            ]
           ],
           "sequential": [
            [
             0,
             "#0d0887"
            ],
            [
             0.1111111111111111,
             "#46039f"
            ],
            [
             0.2222222222222222,
             "#7201a8"
            ],
            [
             0.3333333333333333,
             "#9c179e"
            ],
            [
             0.4444444444444444,
             "#bd3786"
            ],
            [
             0.5555555555555556,
             "#d8576b"
            ],
            [
             0.6666666666666666,
             "#ed7953"
            ],
            [
             0.7777777777777778,
             "#fb9f3a"
            ],
            [
             0.8888888888888888,
             "#fdca26"
            ],
            [
             1,
             "#f0f921"
            ]
           ],
           "sequentialminus": [
            [
             0,
             "#0d0887"
            ],
            [
             0.1111111111111111,
             "#46039f"
            ],
            [
             0.2222222222222222,
             "#7201a8"
            ],
            [
             0.3333333333333333,
             "#9c179e"
            ],
            [
             0.4444444444444444,
             "#bd3786"
            ],
            [
             0.5555555555555556,
             "#d8576b"
            ],
            [
             0.6666666666666666,
             "#ed7953"
            ],
            [
             0.7777777777777778,
             "#fb9f3a"
            ],
            [
             0.8888888888888888,
             "#fdca26"
            ],
            [
             1,
             "#f0f921"
            ]
           ]
          },
          "colorway": [
           "#636efa",
           "#EF553B",
           "#00cc96",
           "#ab63fa",
           "#FFA15A",
           "#19d3f3",
           "#FF6692",
           "#B6E880",
           "#FF97FF",
           "#FECB52"
          ],
          "font": {
           "color": "#2a3f5f"
          },
          "geo": {
           "bgcolor": "white",
           "lakecolor": "white",
           "landcolor": "#E5ECF6",
           "showlakes": true,
           "showland": true,
           "subunitcolor": "white"
          },
          "hoverlabel": {
           "align": "left"
          },
          "hovermode": "closest",
          "mapbox": {
           "style": "light"
          },
          "paper_bgcolor": "white",
          "plot_bgcolor": "#E5ECF6",
          "polar": {
           "angularaxis": {
            "gridcolor": "white",
            "linecolor": "white",
            "ticks": ""
           },
           "bgcolor": "#E5ECF6",
           "radialaxis": {
            "gridcolor": "white",
            "linecolor": "white",
            "ticks": ""
           }
          },
          "scene": {
           "xaxis": {
            "backgroundcolor": "#E5ECF6",
            "gridcolor": "white",
            "gridwidth": 2,
            "linecolor": "white",
            "showbackground": true,
            "ticks": "",
            "zerolinecolor": "white"
           },
           "yaxis": {
            "backgroundcolor": "#E5ECF6",
            "gridcolor": "white",
            "gridwidth": 2,
            "linecolor": "white",
            "showbackground": true,
            "ticks": "",
            "zerolinecolor": "white"
           },
           "zaxis": {
            "backgroundcolor": "#E5ECF6",
            "gridcolor": "white",
            "gridwidth": 2,
            "linecolor": "white",
            "showbackground": true,
            "ticks": "",
            "zerolinecolor": "white"
           }
          },
          "shapedefaults": {
           "line": {
            "color": "#2a3f5f"
           }
          },
          "ternary": {
           "aaxis": {
            "gridcolor": "white",
            "linecolor": "white",
            "ticks": ""
           },
           "baxis": {
            "gridcolor": "white",
            "linecolor": "white",
            "ticks": ""
           },
           "bgcolor": "#E5ECF6",
           "caxis": {
            "gridcolor": "white",
            "linecolor": "white",
            "ticks": ""
           }
          },
          "title": {
           "x": 0.05
          },
          "xaxis": {
           "automargin": true,
           "gridcolor": "white",
           "linecolor": "white",
           "ticks": "",
           "title": {
            "standoff": 15
           },
           "zerolinecolor": "white",
           "zerolinewidth": 2
          },
          "yaxis": {
           "automargin": true,
           "gridcolor": "white",
           "linecolor": "white",
           "ticks": "",
           "title": {
            "standoff": 15
           },
           "zerolinecolor": "white",
           "zerolinewidth": 2
          }
         }
        },
        "title": {
         "text": "Avg sales in Month"
        },
        "xaxis": {
         "anchor": "y",
         "domain": [
          0,
          1
         ],
         "title": {
          "text": "year"
         }
        },
        "yaxis": {
         "anchor": "x",
         "domain": [
          0,
          1
         ],
         "title": {
          "text": "monthly_avg"
         }
        }
       }
      }
     },
     "metadata": {},
     "output_type": "display_data"
    }
   ],
   "source": [
    "fig = px.line(train_df.head(100), x=\"year\", y=\"monthly_avg\", title='Avg sales in Month')\n",
    "fig.show()"
   ]
  },
  {
   "cell_type": "code",
   "execution_count": null,
   "metadata": {},
   "outputs": [
    {
     "data": {
      "text/plain": [
       "0       1643690.90\n",
       "1       1641957.44\n",
       "2       1611968.17\n",
       "3       1409727.59\n",
       "4       1554806.68\n",
       "           ...    \n",
       "6430     713173.95\n",
       "6431     733455.07\n",
       "6432     734464.36\n",
       "6433     718125.53\n",
       "6434     760281.43\n",
       "Name: Weekly_Sales, Length: 6435, dtype: float64"
      ]
     },
     "execution_count": 14,
     "metadata": {},
     "output_type": "execute_result"
    }
   ],
   "source": [
    "X_train = train_df.drop(\"Weekly_Sales\",axis = 1)\n",
    "Y_train = train_df[\"Weekly_Sales\"]\n",
    "Y_train"
   ]
  },
  {
   "cell_type": "code",
   "execution_count": null,
   "metadata": {},
   "outputs": [],
   "source": [
    "# Clean features highly correlated to each others\n",
    "for df in [train, test]:\n",
    "    df.drop(['dayofyear', \n",
    "                  'weekofyear',\n",
    "                  'daily_avg',\n",
    "                  'day',\n",
    "                  'month',\n",
    "                  'item',\n",
    "                  'store',],\n",
    "                 axis=1, \n",
    "                 inplace=True)"
   ]
  },
  {
   "cell_type": "code",
   "execution_count": null,
   "metadata": {},
   "outputs": [],
   "source": []
  }
 ],
 "metadata": {
  "kernelspec": {
   "display_name": "Python 3",
   "language": "python",
   "name": "python3"
  },
  "language_info": {
   "codemirror_mode": {
    "name": "ipython",
    "version": 3
   },
   "file_extension": ".py",
   "mimetype": "text/x-python",
   "name": "python",
   "nbconvert_exporter": "python",
   "pygments_lexer": "ipython3",
   "version": "3.9.6"
  }
 },
 "nbformat": 4,
 "nbformat_minor": 2
}
